{
 "cells": [
  {
   "cell_type": "code",
   "execution_count": 1,
   "metadata": {},
   "outputs": [],
   "source": [
    "# 📦 Import Required Libraries\n",
    "import pandas as pd\n",
    "import matplotlib.pyplot as plt\n",
    "import seaborn as sns\n",
    "\n",
    "# Optional tools\n",
    "import plotly.express as px\n",
    "import geopandas as gpd\n",
    "import geopandas.tools\n",
    "sns.set(style=\"whitegrid\")"
   ]
  },
  {
   "cell_type": "code",
   "execution_count": 2,
   "metadata": {},
   "outputs": [
    {
     "data": {
      "application/vnd.microsoft.datawrangler.viewer.v0+json": {
       "columns": [
        {
         "name": "index",
         "rawType": "int64",
         "type": "integer"
        },
        {
         "name": "Province/State",
         "rawType": "object",
         "type": "unknown"
        },
        {
         "name": "Country/Region",
         "rawType": "object",
         "type": "string"
        },
        {
         "name": "Lat",
         "rawType": "float64",
         "type": "float"
        },
        {
         "name": "Long",
         "rawType": "float64",
         "type": "float"
        },
        {
         "name": "1/22/20",
         "rawType": "int64",
         "type": "integer"
        },
        {
         "name": "1/23/20",
         "rawType": "int64",
         "type": "integer"
        },
        {
         "name": "1/24/20",
         "rawType": "int64",
         "type": "integer"
        },
        {
         "name": "1/25/20",
         "rawType": "int64",
         "type": "integer"
        },
        {
         "name": "1/26/20",
         "rawType": "int64",
         "type": "integer"
        },
        {
         "name": "1/27/20",
         "rawType": "int64",
         "type": "integer"
        },
        {
         "name": "1/28/20",
         "rawType": "int64",
         "type": "integer"
        },
        {
         "name": "1/29/20",
         "rawType": "int64",
         "type": "integer"
        },
        {
         "name": "1/30/20",
         "rawType": "int64",
         "type": "integer"
        },
        {
         "name": "1/31/20",
         "rawType": "int64",
         "type": "integer"
        },
        {
         "name": "2/1/20",
         "rawType": "int64",
         "type": "integer"
        },
        {
         "name": "2/2/20",
         "rawType": "int64",
         "type": "integer"
        },
        {
         "name": "2/3/20",
         "rawType": "int64",
         "type": "integer"
        },
        {
         "name": "2/4/20",
         "rawType": "int64",
         "type": "integer"
        },
        {
         "name": "2/5/20",
         "rawType": "int64",
         "type": "integer"
        },
        {
         "name": "2/6/20",
         "rawType": "int64",
         "type": "integer"
        },
        {
         "name": "2/7/20",
         "rawType": "int64",
         "type": "integer"
        },
        {
         "name": "2/8/20",
         "rawType": "int64",
         "type": "integer"
        },
        {
         "name": "2/9/20",
         "rawType": "int64",
         "type": "integer"
        },
        {
         "name": "2/10/20",
         "rawType": "int64",
         "type": "integer"
        },
        {
         "name": "2/11/20",
         "rawType": "int64",
         "type": "integer"
        },
        {
         "name": "2/12/20",
         "rawType": "int64",
         "type": "integer"
        },
        {
         "name": "2/13/20",
         "rawType": "int64",
         "type": "integer"
        },
        {
         "name": "2/14/20",
         "rawType": "int64",
         "type": "integer"
        },
        {
         "name": "2/15/20",
         "rawType": "int64",
         "type": "integer"
        },
        {
         "name": "2/16/20",
         "rawType": "int64",
         "type": "integer"
        },
        {
         "name": "2/17/20",
         "rawType": "int64",
         "type": "integer"
        },
        {
         "name": "2/18/20",
         "rawType": "int64",
         "type": "integer"
        },
        {
         "name": "2/19/20",
         "rawType": "int64",
         "type": "integer"
        },
        {
         "name": "2/20/20",
         "rawType": "int64",
         "type": "integer"
        },
        {
         "name": "2/21/20",
         "rawType": "int64",
         "type": "integer"
        },
        {
         "name": "2/22/20",
         "rawType": "int64",
         "type": "integer"
        },
        {
         "name": "2/23/20",
         "rawType": "int64",
         "type": "integer"
        },
        {
         "name": "2/24/20",
         "rawType": "int64",
         "type": "integer"
        },
        {
         "name": "2/25/20",
         "rawType": "int64",
         "type": "integer"
        },
        {
         "name": "2/26/20",
         "rawType": "int64",
         "type": "integer"
        },
        {
         "name": "2/27/20",
         "rawType": "int64",
         "type": "integer"
        },
        {
         "name": "2/28/20",
         "rawType": "int64",
         "type": "integer"
        },
        {
         "name": "2/29/20",
         "rawType": "int64",
         "type": "integer"
        },
        {
         "name": "3/1/20",
         "rawType": "int64",
         "type": "integer"
        },
        {
         "name": "3/2/20",
         "rawType": "int64",
         "type": "integer"
        },
        {
         "name": "3/3/20",
         "rawType": "int64",
         "type": "integer"
        },
        {
         "name": "3/4/20",
         "rawType": "int64",
         "type": "integer"
        },
        {
         "name": "3/5/20",
         "rawType": "int64",
         "type": "integer"
        },
        {
         "name": "3/6/20",
         "rawType": "int64",
         "type": "integer"
        },
        {
         "name": "3/7/20",
         "rawType": "int64",
         "type": "integer"
        },
        {
         "name": "3/8/20",
         "rawType": "int64",
         "type": "integer"
        },
        {
         "name": "3/9/20",
         "rawType": "int64",
         "type": "integer"
        },
        {
         "name": "3/10/20",
         "rawType": "int64",
         "type": "integer"
        },
        {
         "name": "3/11/20",
         "rawType": "int64",
         "type": "integer"
        },
        {
         "name": "3/12/20",
         "rawType": "int64",
         "type": "integer"
        },
        {
         "name": "3/13/20",
         "rawType": "int64",
         "type": "integer"
        },
        {
         "name": "3/14/20",
         "rawType": "int64",
         "type": "integer"
        },
        {
         "name": "3/15/20",
         "rawType": "int64",
         "type": "integer"
        },
        {
         "name": "3/16/20",
         "rawType": "int64",
         "type": "integer"
        },
        {
         "name": "3/17/20",
         "rawType": "int64",
         "type": "integer"
        },
        {
         "name": "3/18/20",
         "rawType": "int64",
         "type": "integer"
        },
        {
         "name": "3/19/20",
         "rawType": "int64",
         "type": "integer"
        },
        {
         "name": "3/20/20",
         "rawType": "int64",
         "type": "integer"
        },
        {
         "name": "3/21/20",
         "rawType": "int64",
         "type": "integer"
        },
        {
         "name": "3/22/20",
         "rawType": "int64",
         "type": "integer"
        },
        {
         "name": "3/23/20",
         "rawType": "int64",
         "type": "integer"
        },
        {
         "name": "3/24/20",
         "rawType": "int64",
         "type": "integer"
        },
        {
         "name": "3/25/20",
         "rawType": "int64",
         "type": "integer"
        },
        {
         "name": "3/26/20",
         "rawType": "int64",
         "type": "integer"
        },
        {
         "name": "3/27/20",
         "rawType": "int64",
         "type": "integer"
        },
        {
         "name": "3/28/20",
         "rawType": "int64",
         "type": "integer"
        },
        {
         "name": "3/29/20",
         "rawType": "int64",
         "type": "integer"
        },
        {
         "name": "3/30/20",
         "rawType": "int64",
         "type": "integer"
        },
        {
         "name": "3/31/20",
         "rawType": "int64",
         "type": "integer"
        },
        {
         "name": "4/1/20",
         "rawType": "int64",
         "type": "integer"
        },
        {
         "name": "4/2/20",
         "rawType": "int64",
         "type": "integer"
        },
        {
         "name": "4/3/20",
         "rawType": "int64",
         "type": "integer"
        },
        {
         "name": "4/4/20",
         "rawType": "int64",
         "type": "integer"
        },
        {
         "name": "4/5/20",
         "rawType": "int64",
         "type": "integer"
        },
        {
         "name": "4/6/20",
         "rawType": "int64",
         "type": "integer"
        },
        {
         "name": "4/7/20",
         "rawType": "int64",
         "type": "integer"
        },
        {
         "name": "4/8/20",
         "rawType": "int64",
         "type": "integer"
        },
        {
         "name": "4/9/20",
         "rawType": "int64",
         "type": "integer"
        },
        {
         "name": "4/10/20",
         "rawType": "int64",
         "type": "integer"
        },
        {
         "name": "4/11/20",
         "rawType": "int64",
         "type": "integer"
        },
        {
         "name": "4/12/20",
         "rawType": "int64",
         "type": "integer"
        },
        {
         "name": "4/13/20",
         "rawType": "int64",
         "type": "integer"
        },
        {
         "name": "4/14/20",
         "rawType": "int64",
         "type": "integer"
        },
        {
         "name": "4/15/20",
         "rawType": "int64",
         "type": "integer"
        },
        {
         "name": "4/16/20",
         "rawType": "int64",
         "type": "integer"
        },
        {
         "name": "4/17/20",
         "rawType": "int64",
         "type": "integer"
        },
        {
         "name": "4/18/20",
         "rawType": "int64",
         "type": "integer"
        },
        {
         "name": "4/19/20",
         "rawType": "int64",
         "type": "integer"
        },
        {
         "name": "4/20/20",
         "rawType": "int64",
         "type": "integer"
        },
        {
         "name": "4/21/20",
         "rawType": "int64",
         "type": "integer"
        },
        {
         "name": "4/22/20",
         "rawType": "int64",
         "type": "integer"
        },
        {
         "name": "4/23/20",
         "rawType": "int64",
         "type": "integer"
        },
        {
         "name": "4/24/20",
         "rawType": "int64",
         "type": "integer"
        },
        {
         "name": "4/25/20",
         "rawType": "int64",
         "type": "integer"
        },
        {
         "name": "4/26/20",
         "rawType": "int64",
         "type": "integer"
        },
        {
         "name": "4/27/20",
         "rawType": "int64",
         "type": "integer"
        },
        {
         "name": "4/28/20",
         "rawType": "int64",
         "type": "integer"
        },
        {
         "name": "4/29/20",
         "rawType": "int64",
         "type": "integer"
        },
        {
         "name": "4/30/20",
         "rawType": "int64",
         "type": "integer"
        },
        {
         "name": "5/1/20",
         "rawType": "int64",
         "type": "integer"
        },
        {
         "name": "5/2/20",
         "rawType": "int64",
         "type": "integer"
        },
        {
         "name": "5/3/20",
         "rawType": "int64",
         "type": "integer"
        },
        {
         "name": "5/4/20",
         "rawType": "int64",
         "type": "integer"
        },
        {
         "name": "5/5/20",
         "rawType": "int64",
         "type": "integer"
        },
        {
         "name": "5/6/20",
         "rawType": "int64",
         "type": "integer"
        },
        {
         "name": "5/7/20",
         "rawType": "int64",
         "type": "integer"
        },
        {
         "name": "5/8/20",
         "rawType": "int64",
         "type": "integer"
        },
        {
         "name": "5/9/20",
         "rawType": "int64",
         "type": "integer"
        },
        {
         "name": "5/10/20",
         "rawType": "int64",
         "type": "integer"
        },
        {
         "name": "5/11/20",
         "rawType": "int64",
         "type": "integer"
        },
        {
         "name": "5/12/20",
         "rawType": "int64",
         "type": "integer"
        },
        {
         "name": "5/13/20",
         "rawType": "int64",
         "type": "integer"
        },
        {
         "name": "5/14/20",
         "rawType": "int64",
         "type": "integer"
        },
        {
         "name": "5/15/20",
         "rawType": "int64",
         "type": "integer"
        },
        {
         "name": "5/16/20",
         "rawType": "int64",
         "type": "integer"
        },
        {
         "name": "5/17/20",
         "rawType": "int64",
         "type": "integer"
        },
        {
         "name": "5/18/20",
         "rawType": "int64",
         "type": "integer"
        },
        {
         "name": "5/19/20",
         "rawType": "int64",
         "type": "integer"
        },
        {
         "name": "5/20/20",
         "rawType": "int64",
         "type": "integer"
        },
        {
         "name": "5/21/20",
         "rawType": "int64",
         "type": "integer"
        },
        {
         "name": "5/22/20",
         "rawType": "int64",
         "type": "integer"
        },
        {
         "name": "5/23/20",
         "rawType": "int64",
         "type": "integer"
        },
        {
         "name": "5/24/20",
         "rawType": "int64",
         "type": "integer"
        },
        {
         "name": "5/25/20",
         "rawType": "int64",
         "type": "integer"
        },
        {
         "name": "5/26/20",
         "rawType": "int64",
         "type": "integer"
        },
        {
         "name": "5/27/20",
         "rawType": "int64",
         "type": "integer"
        },
        {
         "name": "5/28/20",
         "rawType": "int64",
         "type": "integer"
        },
        {
         "name": "5/29/20",
         "rawType": "int64",
         "type": "integer"
        },
        {
         "name": "5/30/20",
         "rawType": "int64",
         "type": "integer"
        },
        {
         "name": "5/31/20",
         "rawType": "int64",
         "type": "integer"
        },
        {
         "name": "6/1/20",
         "rawType": "int64",
         "type": "integer"
        },
        {
         "name": "6/2/20",
         "rawType": "int64",
         "type": "integer"
        },
        {
         "name": "6/3/20",
         "rawType": "int64",
         "type": "integer"
        },
        {
         "name": "6/4/20",
         "rawType": "int64",
         "type": "integer"
        },
        {
         "name": "6/5/20",
         "rawType": "int64",
         "type": "integer"
        },
        {
         "name": "6/6/20",
         "rawType": "int64",
         "type": "integer"
        },
        {
         "name": "6/7/20",
         "rawType": "int64",
         "type": "integer"
        },
        {
         "name": "6/8/20",
         "rawType": "int64",
         "type": "integer"
        },
        {
         "name": "6/9/20",
         "rawType": "int64",
         "type": "integer"
        },
        {
         "name": "6/10/20",
         "rawType": "int64",
         "type": "integer"
        },
        {
         "name": "6/11/20",
         "rawType": "int64",
         "type": "integer"
        },
        {
         "name": "6/12/20",
         "rawType": "int64",
         "type": "integer"
        },
        {
         "name": "6/13/20",
         "rawType": "int64",
         "type": "integer"
        },
        {
         "name": "6/14/20",
         "rawType": "int64",
         "type": "integer"
        },
        {
         "name": "6/15/20",
         "rawType": "int64",
         "type": "integer"
        },
        {
         "name": "6/16/20",
         "rawType": "int64",
         "type": "integer"
        },
        {
         "name": "6/17/20",
         "rawType": "int64",
         "type": "integer"
        },
        {
         "name": "6/18/20",
         "rawType": "int64",
         "type": "integer"
        },
        {
         "name": "6/19/20",
         "rawType": "int64",
         "type": "integer"
        },
        {
         "name": "6/20/20",
         "rawType": "int64",
         "type": "integer"
        },
        {
         "name": "6/21/20",
         "rawType": "int64",
         "type": "integer"
        },
        {
         "name": "6/22/20",
         "rawType": "int64",
         "type": "integer"
        },
        {
         "name": "6/23/20",
         "rawType": "int64",
         "type": "integer"
        },
        {
         "name": "6/24/20",
         "rawType": "int64",
         "type": "integer"
        },
        {
         "name": "6/25/20",
         "rawType": "int64",
         "type": "integer"
        },
        {
         "name": "6/26/20",
         "rawType": "int64",
         "type": "integer"
        },
        {
         "name": "6/27/20",
         "rawType": "int64",
         "type": "integer"
        },
        {
         "name": "6/28/20",
         "rawType": "int64",
         "type": "integer"
        },
        {
         "name": "6/29/20",
         "rawType": "int64",
         "type": "integer"
        },
        {
         "name": "6/30/20",
         "rawType": "int64",
         "type": "integer"
        },
        {
         "name": "7/1/20",
         "rawType": "int64",
         "type": "integer"
        },
        {
         "name": "7/2/20",
         "rawType": "int64",
         "type": "integer"
        },
        {
         "name": "7/3/20",
         "rawType": "int64",
         "type": "integer"
        },
        {
         "name": "7/4/20",
         "rawType": "int64",
         "type": "integer"
        },
        {
         "name": "7/5/20",
         "rawType": "int64",
         "type": "integer"
        },
        {
         "name": "7/6/20",
         "rawType": "int64",
         "type": "integer"
        },
        {
         "name": "7/7/20",
         "rawType": "int64",
         "type": "integer"
        },
        {
         "name": "7/8/20",
         "rawType": "int64",
         "type": "integer"
        },
        {
         "name": "7/9/20",
         "rawType": "int64",
         "type": "integer"
        },
        {
         "name": "7/10/20",
         "rawType": "int64",
         "type": "integer"
        },
        {
         "name": "7/11/20",
         "rawType": "int64",
         "type": "integer"
        },
        {
         "name": "7/12/20",
         "rawType": "int64",
         "type": "integer"
        },
        {
         "name": "7/13/20",
         "rawType": "int64",
         "type": "integer"
        },
        {
         "name": "7/14/20",
         "rawType": "int64",
         "type": "integer"
        },
        {
         "name": "7/15/20",
         "rawType": "int64",
         "type": "integer"
        },
        {
         "name": "7/16/20",
         "rawType": "int64",
         "type": "integer"
        },
        {
         "name": "7/17/20",
         "rawType": "int64",
         "type": "integer"
        },
        {
         "name": "7/18/20",
         "rawType": "int64",
         "type": "integer"
        },
        {
         "name": "7/19/20",
         "rawType": "int64",
         "type": "integer"
        },
        {
         "name": "7/20/20",
         "rawType": "int64",
         "type": "integer"
        },
        {
         "name": "7/21/20",
         "rawType": "int64",
         "type": "integer"
        },
        {
         "name": "7/22/20",
         "rawType": "int64",
         "type": "integer"
        },
        {
         "name": "7/23/20",
         "rawType": "int64",
         "type": "integer"
        },
        {
         "name": "7/24/20",
         "rawType": "int64",
         "type": "integer"
        },
        {
         "name": "7/25/20",
         "rawType": "int64",
         "type": "integer"
        },
        {
         "name": "7/26/20",
         "rawType": "int64",
         "type": "integer"
        },
        {
         "name": "7/27/20",
         "rawType": "int64",
         "type": "integer"
        },
        {
         "name": "7/28/20",
         "rawType": "int64",
         "type": "integer"
        },
        {
         "name": "7/29/20",
         "rawType": "int64",
         "type": "integer"
        },
        {
         "name": "7/30/20",
         "rawType": "int64",
         "type": "integer"
        },
        {
         "name": "7/31/20",
         "rawType": "int64",
         "type": "integer"
        },
        {
         "name": "8/1/20",
         "rawType": "int64",
         "type": "integer"
        },
        {
         "name": "8/2/20",
         "rawType": "int64",
         "type": "integer"
        },
        {
         "name": "8/3/20",
         "rawType": "int64",
         "type": "integer"
        },
        {
         "name": "8/4/20",
         "rawType": "int64",
         "type": "integer"
        },
        {
         "name": "8/5/20",
         "rawType": "int64",
         "type": "integer"
        },
        {
         "name": "8/6/20",
         "rawType": "int64",
         "type": "integer"
        },
        {
         "name": "8/7/20",
         "rawType": "int64",
         "type": "integer"
        },
        {
         "name": "8/8/20",
         "rawType": "int64",
         "type": "integer"
        },
        {
         "name": "8/9/20",
         "rawType": "int64",
         "type": "integer"
        },
        {
         "name": "8/10/20",
         "rawType": "int64",
         "type": "integer"
        },
        {
         "name": "8/11/20",
         "rawType": "int64",
         "type": "integer"
        },
        {
         "name": "8/12/20",
         "rawType": "int64",
         "type": "integer"
        },
        {
         "name": "8/13/20",
         "rawType": "int64",
         "type": "integer"
        },
        {
         "name": "8/14/20",
         "rawType": "int64",
         "type": "integer"
        },
        {
         "name": "8/15/20",
         "rawType": "int64",
         "type": "integer"
        },
        {
         "name": "8/16/20",
         "rawType": "int64",
         "type": "integer"
        },
        {
         "name": "8/17/20",
         "rawType": "int64",
         "type": "integer"
        },
        {
         "name": "8/18/20",
         "rawType": "int64",
         "type": "integer"
        },
        {
         "name": "8/19/20",
         "rawType": "int64",
         "type": "integer"
        },
        {
         "name": "8/20/20",
         "rawType": "int64",
         "type": "integer"
        },
        {
         "name": "8/21/20",
         "rawType": "int64",
         "type": "integer"
        },
        {
         "name": "8/22/20",
         "rawType": "int64",
         "type": "integer"
        },
        {
         "name": "8/23/20",
         "rawType": "int64",
         "type": "integer"
        },
        {
         "name": "8/24/20",
         "rawType": "int64",
         "type": "integer"
        },
        {
         "name": "8/25/20",
         "rawType": "int64",
         "type": "integer"
        },
        {
         "name": "8/26/20",
         "rawType": "int64",
         "type": "integer"
        },
        {
         "name": "8/27/20",
         "rawType": "int64",
         "type": "integer"
        },
        {
         "name": "8/28/20",
         "rawType": "int64",
         "type": "integer"
        },
        {
         "name": "8/29/20",
         "rawType": "int64",
         "type": "integer"
        },
        {
         "name": "8/30/20",
         "rawType": "int64",
         "type": "integer"
        },
        {
         "name": "8/31/20",
         "rawType": "int64",
         "type": "integer"
        },
        {
         "name": "9/1/20",
         "rawType": "int64",
         "type": "integer"
        },
        {
         "name": "9/2/20",
         "rawType": "int64",
         "type": "integer"
        },
        {
         "name": "9/3/20",
         "rawType": "int64",
         "type": "integer"
        },
        {
         "name": "9/4/20",
         "rawType": "int64",
         "type": "integer"
        },
        {
         "name": "9/5/20",
         "rawType": "int64",
         "type": "integer"
        },
        {
         "name": "9/6/20",
         "rawType": "int64",
         "type": "integer"
        },
        {
         "name": "9/7/20",
         "rawType": "int64",
         "type": "integer"
        },
        {
         "name": "9/8/20",
         "rawType": "int64",
         "type": "integer"
        },
        {
         "name": "9/9/20",
         "rawType": "int64",
         "type": "integer"
        },
        {
         "name": "9/10/20",
         "rawType": "int64",
         "type": "integer"
        },
        {
         "name": "9/11/20",
         "rawType": "int64",
         "type": "integer"
        },
        {
         "name": "9/12/20",
         "rawType": "int64",
         "type": "integer"
        },
        {
         "name": "9/13/20",
         "rawType": "int64",
         "type": "integer"
        },
        {
         "name": "9/14/20",
         "rawType": "int64",
         "type": "integer"
        },
        {
         "name": "9/15/20",
         "rawType": "int64",
         "type": "integer"
        },
        {
         "name": "9/16/20",
         "rawType": "int64",
         "type": "integer"
        },
        {
         "name": "9/17/20",
         "rawType": "int64",
         "type": "integer"
        },
        {
         "name": "9/18/20",
         "rawType": "int64",
         "type": "integer"
        },
        {
         "name": "9/19/20",
         "rawType": "int64",
         "type": "integer"
        },
        {
         "name": "9/20/20",
         "rawType": "int64",
         "type": "integer"
        },
        {
         "name": "9/21/20",
         "rawType": "int64",
         "type": "integer"
        },
        {
         "name": "9/22/20",
         "rawType": "int64",
         "type": "integer"
        },
        {
         "name": "9/23/20",
         "rawType": "int64",
         "type": "integer"
        },
        {
         "name": "9/24/20",
         "rawType": "int64",
         "type": "integer"
        },
        {
         "name": "9/25/20",
         "rawType": "int64",
         "type": "integer"
        },
        {
         "name": "9/26/20",
         "rawType": "int64",
         "type": "integer"
        },
        {
         "name": "9/27/20",
         "rawType": "int64",
         "type": "integer"
        },
        {
         "name": "9/28/20",
         "rawType": "int64",
         "type": "integer"
        },
        {
         "name": "9/29/20",
         "rawType": "int64",
         "type": "integer"
        },
        {
         "name": "9/30/20",
         "rawType": "int64",
         "type": "integer"
        },
        {
         "name": "10/1/20",
         "rawType": "int64",
         "type": "integer"
        },
        {
         "name": "10/2/20",
         "rawType": "int64",
         "type": "integer"
        },
        {
         "name": "10/3/20",
         "rawType": "int64",
         "type": "integer"
        },
        {
         "name": "10/4/20",
         "rawType": "int64",
         "type": "integer"
        },
        {
         "name": "10/5/20",
         "rawType": "int64",
         "type": "integer"
        },
        {
         "name": "10/6/20",
         "rawType": "int64",
         "type": "integer"
        },
        {
         "name": "10/7/20",
         "rawType": "int64",
         "type": "integer"
        },
        {
         "name": "10/8/20",
         "rawType": "int64",
         "type": "integer"
        },
        {
         "name": "10/9/20",
         "rawType": "int64",
         "type": "integer"
        },
        {
         "name": "10/10/20",
         "rawType": "int64",
         "type": "integer"
        },
        {
         "name": "10/11/20",
         "rawType": "int64",
         "type": "integer"
        },
        {
         "name": "10/12/20",
         "rawType": "int64",
         "type": "integer"
        },
        {
         "name": "10/13/20",
         "rawType": "int64",
         "type": "integer"
        },
        {
         "name": "10/14/20",
         "rawType": "int64",
         "type": "integer"
        },
        {
         "name": "10/15/20",
         "rawType": "int64",
         "type": "integer"
        },
        {
         "name": "10/16/20",
         "rawType": "int64",
         "type": "integer"
        },
        {
         "name": "10/17/20",
         "rawType": "int64",
         "type": "integer"
        },
        {
         "name": "10/18/20",
         "rawType": "int64",
         "type": "integer"
        },
        {
         "name": "10/19/20",
         "rawType": "int64",
         "type": "integer"
        },
        {
         "name": "10/20/20",
         "rawType": "int64",
         "type": "integer"
        },
        {
         "name": "10/21/20",
         "rawType": "int64",
         "type": "integer"
        },
        {
         "name": "10/22/20",
         "rawType": "int64",
         "type": "integer"
        },
        {
         "name": "10/23/20",
         "rawType": "int64",
         "type": "integer"
        },
        {
         "name": "10/24/20",
         "rawType": "int64",
         "type": "integer"
        },
        {
         "name": "10/25/20",
         "rawType": "int64",
         "type": "integer"
        },
        {
         "name": "10/26/20",
         "rawType": "int64",
         "type": "integer"
        },
        {
         "name": "10/27/20",
         "rawType": "int64",
         "type": "integer"
        },
        {
         "name": "10/28/20",
         "rawType": "int64",
         "type": "integer"
        },
        {
         "name": "10/29/20",
         "rawType": "int64",
         "type": "integer"
        },
        {
         "name": "10/30/20",
         "rawType": "int64",
         "type": "integer"
        },
        {
         "name": "10/31/20",
         "rawType": "int64",
         "type": "integer"
        },
        {
         "name": "11/1/20",
         "rawType": "int64",
         "type": "integer"
        },
        {
         "name": "11/2/20",
         "rawType": "int64",
         "type": "integer"
        },
        {
         "name": "11/3/20",
         "rawType": "int64",
         "type": "integer"
        },
        {
         "name": "11/4/20",
         "rawType": "int64",
         "type": "integer"
        },
        {
         "name": "11/5/20",
         "rawType": "int64",
         "type": "integer"
        },
        {
         "name": "11/6/20",
         "rawType": "int64",
         "type": "integer"
        },
        {
         "name": "11/7/20",
         "rawType": "int64",
         "type": "integer"
        },
        {
         "name": "11/8/20",
         "rawType": "int64",
         "type": "integer"
        },
        {
         "name": "11/9/20",
         "rawType": "int64",
         "type": "integer"
        },
        {
         "name": "11/10/20",
         "rawType": "int64",
         "type": "integer"
        },
        {
         "name": "11/11/20",
         "rawType": "int64",
         "type": "integer"
        },
        {
         "name": "11/12/20",
         "rawType": "int64",
         "type": "integer"
        },
        {
         "name": "11/13/20",
         "rawType": "int64",
         "type": "integer"
        },
        {
         "name": "11/14/20",
         "rawType": "int64",
         "type": "integer"
        },
        {
         "name": "11/15/20",
         "rawType": "int64",
         "type": "integer"
        },
        {
         "name": "11/16/20",
         "rawType": "int64",
         "type": "integer"
        },
        {
         "name": "11/17/20",
         "rawType": "int64",
         "type": "integer"
        },
        {
         "name": "11/18/20",
         "rawType": "int64",
         "type": "integer"
        },
        {
         "name": "11/19/20",
         "rawType": "int64",
         "type": "integer"
        },
        {
         "name": "11/20/20",
         "rawType": "int64",
         "type": "integer"
        },
        {
         "name": "11/21/20",
         "rawType": "int64",
         "type": "integer"
        },
        {
         "name": "11/22/20",
         "rawType": "int64",
         "type": "integer"
        },
        {
         "name": "11/23/20",
         "rawType": "int64",
         "type": "integer"
        },
        {
         "name": "11/24/20",
         "rawType": "int64",
         "type": "integer"
        },
        {
         "name": "11/25/20",
         "rawType": "int64",
         "type": "integer"
        },
        {
         "name": "11/26/20",
         "rawType": "int64",
         "type": "integer"
        },
        {
         "name": "11/27/20",
         "rawType": "int64",
         "type": "integer"
        },
        {
         "name": "11/28/20",
         "rawType": "int64",
         "type": "integer"
        },
        {
         "name": "11/29/20",
         "rawType": "int64",
         "type": "integer"
        },
        {
         "name": "11/30/20",
         "rawType": "int64",
         "type": "integer"
        },
        {
         "name": "12/1/20",
         "rawType": "int64",
         "type": "integer"
        },
        {
         "name": "12/2/20",
         "rawType": "int64",
         "type": "integer"
        },
        {
         "name": "12/3/20",
         "rawType": "int64",
         "type": "integer"
        },
        {
         "name": "12/4/20",
         "rawType": "int64",
         "type": "integer"
        },
        {
         "name": "12/5/20",
         "rawType": "int64",
         "type": "integer"
        },
        {
         "name": "12/6/20",
         "rawType": "int64",
         "type": "integer"
        },
        {
         "name": "12/7/20",
         "rawType": "int64",
         "type": "integer"
        },
        {
         "name": "12/8/20",
         "rawType": "int64",
         "type": "integer"
        },
        {
         "name": "12/9/20",
         "rawType": "int64",
         "type": "integer"
        },
        {
         "name": "12/10/20",
         "rawType": "int64",
         "type": "integer"
        },
        {
         "name": "12/11/20",
         "rawType": "int64",
         "type": "integer"
        },
        {
         "name": "12/12/20",
         "rawType": "int64",
         "type": "integer"
        },
        {
         "name": "12/13/20",
         "rawType": "int64",
         "type": "integer"
        },
        {
         "name": "12/14/20",
         "rawType": "int64",
         "type": "integer"
        },
        {
         "name": "12/15/20",
         "rawType": "int64",
         "type": "integer"
        },
        {
         "name": "12/16/20",
         "rawType": "int64",
         "type": "integer"
        },
        {
         "name": "12/17/20",
         "rawType": "int64",
         "type": "integer"
        },
        {
         "name": "12/18/20",
         "rawType": "int64",
         "type": "integer"
        },
        {
         "name": "12/19/20",
         "rawType": "int64",
         "type": "integer"
        },
        {
         "name": "12/20/20",
         "rawType": "int64",
         "type": "integer"
        },
        {
         "name": "12/21/20",
         "rawType": "int64",
         "type": "integer"
        },
        {
         "name": "12/22/20",
         "rawType": "int64",
         "type": "integer"
        },
        {
         "name": "12/23/20",
         "rawType": "int64",
         "type": "integer"
        },
        {
         "name": "12/24/20",
         "rawType": "int64",
         "type": "integer"
        },
        {
         "name": "12/25/20",
         "rawType": "int64",
         "type": "integer"
        },
        {
         "name": "12/26/20",
         "rawType": "int64",
         "type": "integer"
        },
        {
         "name": "12/27/20",
         "rawType": "int64",
         "type": "integer"
        },
        {
         "name": "12/28/20",
         "rawType": "int64",
         "type": "integer"
        },
        {
         "name": "12/29/20",
         "rawType": "int64",
         "type": "integer"
        },
        {
         "name": "12/30/20",
         "rawType": "int64",
         "type": "integer"
        },
        {
         "name": "12/31/20",
         "rawType": "int64",
         "type": "integer"
        },
        {
         "name": "1/1/21",
         "rawType": "int64",
         "type": "integer"
        },
        {
         "name": "1/2/21",
         "rawType": "int64",
         "type": "integer"
        },
        {
         "name": "1/3/21",
         "rawType": "int64",
         "type": "integer"
        },
        {
         "name": "1/4/21",
         "rawType": "int64",
         "type": "integer"
        },
        {
         "name": "1/5/21",
         "rawType": "int64",
         "type": "integer"
        },
        {
         "name": "1/6/21",
         "rawType": "int64",
         "type": "integer"
        },
        {
         "name": "1/7/21",
         "rawType": "int64",
         "type": "integer"
        },
        {
         "name": "1/8/21",
         "rawType": "int64",
         "type": "integer"
        },
        {
         "name": "1/9/21",
         "rawType": "int64",
         "type": "integer"
        },
        {
         "name": "1/10/21",
         "rawType": "int64",
         "type": "integer"
        },
        {
         "name": "1/11/21",
         "rawType": "int64",
         "type": "integer"
        },
        {
         "name": "1/12/21",
         "rawType": "int64",
         "type": "integer"
        },
        {
         "name": "1/13/21",
         "rawType": "int64",
         "type": "integer"
        },
        {
         "name": "1/14/21",
         "rawType": "int64",
         "type": "integer"
        },
        {
         "name": "1/15/21",
         "rawType": "int64",
         "type": "integer"
        },
        {
         "name": "1/16/21",
         "rawType": "int64",
         "type": "integer"
        },
        {
         "name": "1/17/21",
         "rawType": "int64",
         "type": "integer"
        },
        {
         "name": "1/18/21",
         "rawType": "int64",
         "type": "integer"
        },
        {
         "name": "1/19/21",
         "rawType": "int64",
         "type": "integer"
        },
        {
         "name": "1/20/21",
         "rawType": "int64",
         "type": "integer"
        },
        {
         "name": "1/21/21",
         "rawType": "int64",
         "type": "integer"
        },
        {
         "name": "1/22/21",
         "rawType": "int64",
         "type": "integer"
        },
        {
         "name": "1/23/21",
         "rawType": "int64",
         "type": "integer"
        },
        {
         "name": "1/24/21",
         "rawType": "int64",
         "type": "integer"
        },
        {
         "name": "1/25/21",
         "rawType": "int64",
         "type": "integer"
        },
        {
         "name": "1/26/21",
         "rawType": "int64",
         "type": "integer"
        },
        {
         "name": "1/27/21",
         "rawType": "int64",
         "type": "integer"
        },
        {
         "name": "1/28/21",
         "rawType": "int64",
         "type": "integer"
        },
        {
         "name": "1/29/21",
         "rawType": "int64",
         "type": "integer"
        },
        {
         "name": "1/30/21",
         "rawType": "int64",
         "type": "integer"
        },
        {
         "name": "1/31/21",
         "rawType": "int64",
         "type": "integer"
        },
        {
         "name": "2/1/21",
         "rawType": "int64",
         "type": "integer"
        },
        {
         "name": "2/2/21",
         "rawType": "int64",
         "type": "integer"
        },
        {
         "name": "2/3/21",
         "rawType": "int64",
         "type": "integer"
        },
        {
         "name": "2/4/21",
         "rawType": "int64",
         "type": "integer"
        },
        {
         "name": "2/5/21",
         "rawType": "int64",
         "type": "integer"
        },
        {
         "name": "2/6/21",
         "rawType": "int64",
         "type": "integer"
        },
        {
         "name": "2/7/21",
         "rawType": "int64",
         "type": "integer"
        },
        {
         "name": "2/8/21",
         "rawType": "int64",
         "type": "integer"
        },
        {
         "name": "2/9/21",
         "rawType": "int64",
         "type": "integer"
        },
        {
         "name": "2/10/21",
         "rawType": "int64",
         "type": "integer"
        },
        {
         "name": "2/11/21",
         "rawType": "int64",
         "type": "integer"
        },
        {
         "name": "2/12/21",
         "rawType": "int64",
         "type": "integer"
        },
        {
         "name": "2/13/21",
         "rawType": "int64",
         "type": "integer"
        },
        {
         "name": "2/14/21",
         "rawType": "int64",
         "type": "integer"
        },
        {
         "name": "2/15/21",
         "rawType": "int64",
         "type": "integer"
        },
        {
         "name": "2/16/21",
         "rawType": "int64",
         "type": "integer"
        },
        {
         "name": "2/17/21",
         "rawType": "int64",
         "type": "integer"
        },
        {
         "name": "2/18/21",
         "rawType": "int64",
         "type": "integer"
        },
        {
         "name": "2/19/21",
         "rawType": "int64",
         "type": "integer"
        },
        {
         "name": "2/20/21",
         "rawType": "int64",
         "type": "integer"
        },
        {
         "name": "2/21/21",
         "rawType": "int64",
         "type": "integer"
        },
        {
         "name": "2/22/21",
         "rawType": "int64",
         "type": "integer"
        },
        {
         "name": "2/23/21",
         "rawType": "int64",
         "type": "integer"
        },
        {
         "name": "2/24/21",
         "rawType": "int64",
         "type": "integer"
        },
        {
         "name": "2/25/21",
         "rawType": "int64",
         "type": "integer"
        },
        {
         "name": "2/26/21",
         "rawType": "int64",
         "type": "integer"
        },
        {
         "name": "2/27/21",
         "rawType": "int64",
         "type": "integer"
        },
        {
         "name": "2/28/21",
         "rawType": "int64",
         "type": "integer"
        },
        {
         "name": "3/1/21",
         "rawType": "int64",
         "type": "integer"
        },
        {
         "name": "3/2/21",
         "rawType": "int64",
         "type": "integer"
        },
        {
         "name": "3/3/21",
         "rawType": "int64",
         "type": "integer"
        },
        {
         "name": "3/4/21",
         "rawType": "int64",
         "type": "integer"
        },
        {
         "name": "3/5/21",
         "rawType": "int64",
         "type": "integer"
        },
        {
         "name": "3/6/21",
         "rawType": "int64",
         "type": "integer"
        },
        {
         "name": "3/7/21",
         "rawType": "int64",
         "type": "integer"
        },
        {
         "name": "3/8/21",
         "rawType": "int64",
         "type": "integer"
        },
        {
         "name": "3/9/21",
         "rawType": "int64",
         "type": "integer"
        },
        {
         "name": "3/10/21",
         "rawType": "int64",
         "type": "integer"
        },
        {
         "name": "3/11/21",
         "rawType": "int64",
         "type": "integer"
        },
        {
         "name": "3/12/21",
         "rawType": "int64",
         "type": "integer"
        },
        {
         "name": "3/13/21",
         "rawType": "int64",
         "type": "integer"
        },
        {
         "name": "3/14/21",
         "rawType": "int64",
         "type": "integer"
        },
        {
         "name": "3/15/21",
         "rawType": "int64",
         "type": "integer"
        },
        {
         "name": "3/16/21",
         "rawType": "int64",
         "type": "integer"
        },
        {
         "name": "3/17/21",
         "rawType": "int64",
         "type": "integer"
        },
        {
         "name": "3/18/21",
         "rawType": "int64",
         "type": "integer"
        },
        {
         "name": "3/19/21",
         "rawType": "int64",
         "type": "integer"
        },
        {
         "name": "3/20/21",
         "rawType": "int64",
         "type": "integer"
        },
        {
         "name": "3/21/21",
         "rawType": "int64",
         "type": "integer"
        },
        {
         "name": "3/22/21",
         "rawType": "int64",
         "type": "integer"
        },
        {
         "name": "3/23/21",
         "rawType": "int64",
         "type": "integer"
        },
        {
         "name": "3/24/21",
         "rawType": "int64",
         "type": "integer"
        },
        {
         "name": "3/25/21",
         "rawType": "int64",
         "type": "integer"
        },
        {
         "name": "3/26/21",
         "rawType": "int64",
         "type": "integer"
        },
        {
         "name": "3/27/21",
         "rawType": "int64",
         "type": "integer"
        },
        {
         "name": "3/28/21",
         "rawType": "int64",
         "type": "integer"
        },
        {
         "name": "3/29/21",
         "rawType": "int64",
         "type": "integer"
        },
        {
         "name": "3/30/21",
         "rawType": "int64",
         "type": "integer"
        },
        {
         "name": "3/31/21",
         "rawType": "int64",
         "type": "integer"
        },
        {
         "name": "4/1/21",
         "rawType": "int64",
         "type": "integer"
        },
        {
         "name": "4/2/21",
         "rawType": "int64",
         "type": "integer"
        },
        {
         "name": "4/3/21",
         "rawType": "int64",
         "type": "integer"
        },
        {
         "name": "4/4/21",
         "rawType": "int64",
         "type": "integer"
        },
        {
         "name": "4/5/21",
         "rawType": "int64",
         "type": "integer"
        },
        {
         "name": "4/6/21",
         "rawType": "int64",
         "type": "integer"
        },
        {
         "name": "4/7/21",
         "rawType": "int64",
         "type": "integer"
        },
        {
         "name": "4/8/21",
         "rawType": "int64",
         "type": "integer"
        },
        {
         "name": "4/9/21",
         "rawType": "int64",
         "type": "integer"
        },
        {
         "name": "4/10/21",
         "rawType": "int64",
         "type": "integer"
        },
        {
         "name": "4/11/21",
         "rawType": "int64",
         "type": "integer"
        },
        {
         "name": "4/12/21",
         "rawType": "int64",
         "type": "integer"
        },
        {
         "name": "4/13/21",
         "rawType": "int64",
         "type": "integer"
        },
        {
         "name": "4/14/21",
         "rawType": "int64",
         "type": "integer"
        },
        {
         "name": "4/15/21",
         "rawType": "int64",
         "type": "integer"
        },
        {
         "name": "4/16/21",
         "rawType": "int64",
         "type": "integer"
        },
        {
         "name": "4/17/21",
         "rawType": "int64",
         "type": "integer"
        },
        {
         "name": "4/18/21",
         "rawType": "int64",
         "type": "integer"
        },
        {
         "name": "4/19/21",
         "rawType": "int64",
         "type": "integer"
        },
        {
         "name": "4/20/21",
         "rawType": "int64",
         "type": "integer"
        },
        {
         "name": "4/21/21",
         "rawType": "int64",
         "type": "integer"
        },
        {
         "name": "4/22/21",
         "rawType": "int64",
         "type": "integer"
        },
        {
         "name": "4/23/21",
         "rawType": "int64",
         "type": "integer"
        },
        {
         "name": "4/24/21",
         "rawType": "int64",
         "type": "integer"
        },
        {
         "name": "4/25/21",
         "rawType": "int64",
         "type": "integer"
        },
        {
         "name": "4/26/21",
         "rawType": "int64",
         "type": "integer"
        },
        {
         "name": "4/27/21",
         "rawType": "int64",
         "type": "integer"
        },
        {
         "name": "4/28/21",
         "rawType": "int64",
         "type": "integer"
        },
        {
         "name": "4/29/21",
         "rawType": "int64",
         "type": "integer"
        },
        {
         "name": "4/30/21",
         "rawType": "int64",
         "type": "integer"
        },
        {
         "name": "5/1/21",
         "rawType": "int64",
         "type": "integer"
        },
        {
         "name": "5/2/21",
         "rawType": "int64",
         "type": "integer"
        },
        {
         "name": "5/3/21",
         "rawType": "int64",
         "type": "integer"
        },
        {
         "name": "5/4/21",
         "rawType": "int64",
         "type": "integer"
        },
        {
         "name": "5/5/21",
         "rawType": "int64",
         "type": "integer"
        },
        {
         "name": "5/6/21",
         "rawType": "int64",
         "type": "integer"
        },
        {
         "name": "5/7/21",
         "rawType": "int64",
         "type": "integer"
        },
        {
         "name": "5/8/21",
         "rawType": "int64",
         "type": "integer"
        },
        {
         "name": "5/9/21",
         "rawType": "int64",
         "type": "integer"
        },
        {
         "name": "5/10/21",
         "rawType": "int64",
         "type": "integer"
        },
        {
         "name": "5/11/21",
         "rawType": "int64",
         "type": "integer"
        },
        {
         "name": "5/12/21",
         "rawType": "int64",
         "type": "integer"
        },
        {
         "name": "5/13/21",
         "rawType": "int64",
         "type": "integer"
        },
        {
         "name": "5/14/21",
         "rawType": "int64",
         "type": "integer"
        },
        {
         "name": "5/15/21",
         "rawType": "int64",
         "type": "integer"
        },
        {
         "name": "5/16/21",
         "rawType": "int64",
         "type": "integer"
        },
        {
         "name": "5/17/21",
         "rawType": "int64",
         "type": "integer"
        },
        {
         "name": "5/18/21",
         "rawType": "int64",
         "type": "integer"
        },
        {
         "name": "5/19/21",
         "rawType": "int64",
         "type": "integer"
        },
        {
         "name": "5/20/21",
         "rawType": "int64",
         "type": "integer"
        },
        {
         "name": "5/21/21",
         "rawType": "int64",
         "type": "integer"
        },
        {
         "name": "5/22/21",
         "rawType": "int64",
         "type": "integer"
        },
        {
         "name": "5/23/21",
         "rawType": "int64",
         "type": "integer"
        },
        {
         "name": "5/24/21",
         "rawType": "int64",
         "type": "integer"
        },
        {
         "name": "5/25/21",
         "rawType": "int64",
         "type": "integer"
        },
        {
         "name": "5/26/21",
         "rawType": "int64",
         "type": "integer"
        },
        {
         "name": "5/27/21",
         "rawType": "int64",
         "type": "integer"
        },
        {
         "name": "5/28/21",
         "rawType": "int64",
         "type": "integer"
        },
        {
         "name": "5/29/21",
         "rawType": "int64",
         "type": "integer"
        },
        {
         "name": "5/30/21",
         "rawType": "int64",
         "type": "integer"
        },
        {
         "name": "5/31/21",
         "rawType": "int64",
         "type": "integer"
        },
        {
         "name": "6/1/21",
         "rawType": "int64",
         "type": "integer"
        },
        {
         "name": "6/2/21",
         "rawType": "int64",
         "type": "integer"
        },
        {
         "name": "6/3/21",
         "rawType": "int64",
         "type": "integer"
        },
        {
         "name": "6/4/21",
         "rawType": "int64",
         "type": "integer"
        },
        {
         "name": "6/5/21",
         "rawType": "int64",
         "type": "integer"
        },
        {
         "name": "6/6/21",
         "rawType": "int64",
         "type": "integer"
        },
        {
         "name": "6/7/21",
         "rawType": "int64",
         "type": "integer"
        },
        {
         "name": "6/8/21",
         "rawType": "int64",
         "type": "integer"
        },
        {
         "name": "6/9/21",
         "rawType": "int64",
         "type": "integer"
        },
        {
         "name": "6/10/21",
         "rawType": "int64",
         "type": "integer"
        },
        {
         "name": "6/11/21",
         "rawType": "int64",
         "type": "integer"
        },
        {
         "name": "6/12/21",
         "rawType": "int64",
         "type": "integer"
        },
        {
         "name": "6/13/21",
         "rawType": "int64",
         "type": "integer"
        },
        {
         "name": "6/14/21",
         "rawType": "int64",
         "type": "integer"
        },
        {
         "name": "6/15/21",
         "rawType": "int64",
         "type": "integer"
        },
        {
         "name": "6/16/21",
         "rawType": "int64",
         "type": "integer"
        },
        {
         "name": "6/17/21",
         "rawType": "int64",
         "type": "integer"
        },
        {
         "name": "6/18/21",
         "rawType": "int64",
         "type": "integer"
        },
        {
         "name": "6/19/21",
         "rawType": "int64",
         "type": "integer"
        },
        {
         "name": "6/20/21",
         "rawType": "int64",
         "type": "integer"
        },
        {
         "name": "6/21/21",
         "rawType": "int64",
         "type": "integer"
        },
        {
         "name": "6/22/21",
         "rawType": "int64",
         "type": "integer"
        },
        {
         "name": "6/23/21",
         "rawType": "int64",
         "type": "integer"
        },
        {
         "name": "6/24/21",
         "rawType": "int64",
         "type": "integer"
        },
        {
         "name": "6/25/21",
         "rawType": "int64",
         "type": "integer"
        },
        {
         "name": "6/26/21",
         "rawType": "int64",
         "type": "integer"
        },
        {
         "name": "6/27/21",
         "rawType": "int64",
         "type": "integer"
        },
        {
         "name": "6/28/21",
         "rawType": "int64",
         "type": "integer"
        },
        {
         "name": "6/29/21",
         "rawType": "int64",
         "type": "integer"
        },
        {
         "name": "6/30/21",
         "rawType": "int64",
         "type": "integer"
        },
        {
         "name": "7/1/21",
         "rawType": "int64",
         "type": "integer"
        },
        {
         "name": "7/2/21",
         "rawType": "int64",
         "type": "integer"
        },
        {
         "name": "7/3/21",
         "rawType": "int64",
         "type": "integer"
        },
        {
         "name": "7/4/21",
         "rawType": "int64",
         "type": "integer"
        },
        {
         "name": "7/5/21",
         "rawType": "int64",
         "type": "integer"
        },
        {
         "name": "7/6/21",
         "rawType": "int64",
         "type": "integer"
        },
        {
         "name": "7/7/21",
         "rawType": "int64",
         "type": "integer"
        },
        {
         "name": "7/8/21",
         "rawType": "int64",
         "type": "integer"
        },
        {
         "name": "7/9/21",
         "rawType": "int64",
         "type": "integer"
        },
        {
         "name": "7/10/21",
         "rawType": "int64",
         "type": "integer"
        },
        {
         "name": "7/11/21",
         "rawType": "int64",
         "type": "integer"
        },
        {
         "name": "7/12/21",
         "rawType": "int64",
         "type": "integer"
        },
        {
         "name": "7/13/21",
         "rawType": "int64",
         "type": "integer"
        },
        {
         "name": "7/14/21",
         "rawType": "int64",
         "type": "integer"
        },
        {
         "name": "7/15/21",
         "rawType": "int64",
         "type": "integer"
        },
        {
         "name": "7/16/21",
         "rawType": "int64",
         "type": "integer"
        },
        {
         "name": "7/17/21",
         "rawType": "int64",
         "type": "integer"
        },
        {
         "name": "7/18/21",
         "rawType": "int64",
         "type": "integer"
        },
        {
         "name": "7/19/21",
         "rawType": "int64",
         "type": "integer"
        },
        {
         "name": "7/20/21",
         "rawType": "int64",
         "type": "integer"
        },
        {
         "name": "7/21/21",
         "rawType": "int64",
         "type": "integer"
        },
        {
         "name": "7/22/21",
         "rawType": "int64",
         "type": "integer"
        },
        {
         "name": "7/23/21",
         "rawType": "int64",
         "type": "integer"
        },
        {
         "name": "7/24/21",
         "rawType": "int64",
         "type": "integer"
        },
        {
         "name": "7/25/21",
         "rawType": "int64",
         "type": "integer"
        },
        {
         "name": "7/26/21",
         "rawType": "int64",
         "type": "integer"
        },
        {
         "name": "7/27/21",
         "rawType": "int64",
         "type": "integer"
        },
        {
         "name": "7/28/21",
         "rawType": "int64",
         "type": "integer"
        },
        {
         "name": "7/29/21",
         "rawType": "int64",
         "type": "integer"
        },
        {
         "name": "7/30/21",
         "rawType": "int64",
         "type": "integer"
        },
        {
         "name": "7/31/21",
         "rawType": "int64",
         "type": "integer"
        },
        {
         "name": "8/1/21",
         "rawType": "int64",
         "type": "integer"
        },
        {
         "name": "8/2/21",
         "rawType": "int64",
         "type": "integer"
        },
        {
         "name": "8/3/21",
         "rawType": "int64",
         "type": "integer"
        },
        {
         "name": "8/4/21",
         "rawType": "int64",
         "type": "integer"
        },
        {
         "name": "8/5/21",
         "rawType": "int64",
         "type": "integer"
        },
        {
         "name": "8/6/21",
         "rawType": "int64",
         "type": "integer"
        },
        {
         "name": "8/7/21",
         "rawType": "int64",
         "type": "integer"
        },
        {
         "name": "8/8/21",
         "rawType": "int64",
         "type": "integer"
        },
        {
         "name": "8/9/21",
         "rawType": "int64",
         "type": "integer"
        },
        {
         "name": "8/10/21",
         "rawType": "int64",
         "type": "integer"
        },
        {
         "name": "8/11/21",
         "rawType": "int64",
         "type": "integer"
        },
        {
         "name": "8/12/21",
         "rawType": "int64",
         "type": "integer"
        },
        {
         "name": "8/13/21",
         "rawType": "int64",
         "type": "integer"
        },
        {
         "name": "8/14/21",
         "rawType": "int64",
         "type": "integer"
        },
        {
         "name": "8/15/21",
         "rawType": "int64",
         "type": "integer"
        },
        {
         "name": "8/16/21",
         "rawType": "int64",
         "type": "integer"
        },
        {
         "name": "8/17/21",
         "rawType": "int64",
         "type": "integer"
        },
        {
         "name": "8/18/21",
         "rawType": "int64",
         "type": "integer"
        },
        {
         "name": "8/19/21",
         "rawType": "int64",
         "type": "integer"
        },
        {
         "name": "8/20/21",
         "rawType": "int64",
         "type": "integer"
        },
        {
         "name": "8/21/21",
         "rawType": "int64",
         "type": "integer"
        },
        {
         "name": "8/22/21",
         "rawType": "int64",
         "type": "integer"
        },
        {
         "name": "8/23/21",
         "rawType": "int64",
         "type": "integer"
        },
        {
         "name": "8/24/21",
         "rawType": "int64",
         "type": "integer"
        },
        {
         "name": "8/25/21",
         "rawType": "int64",
         "type": "integer"
        },
        {
         "name": "8/26/21",
         "rawType": "int64",
         "type": "integer"
        },
        {
         "name": "8/27/21",
         "rawType": "int64",
         "type": "integer"
        },
        {
         "name": "8/28/21",
         "rawType": "int64",
         "type": "integer"
        },
        {
         "name": "8/29/21",
         "rawType": "int64",
         "type": "integer"
        },
        {
         "name": "8/30/21",
         "rawType": "int64",
         "type": "integer"
        },
        {
         "name": "8/31/21",
         "rawType": "int64",
         "type": "integer"
        },
        {
         "name": "9/1/21",
         "rawType": "int64",
         "type": "integer"
        },
        {
         "name": "9/2/21",
         "rawType": "int64",
         "type": "integer"
        },
        {
         "name": "9/3/21",
         "rawType": "int64",
         "type": "integer"
        },
        {
         "name": "9/4/21",
         "rawType": "int64",
         "type": "integer"
        },
        {
         "name": "9/5/21",
         "rawType": "int64",
         "type": "integer"
        },
        {
         "name": "9/6/21",
         "rawType": "int64",
         "type": "integer"
        },
        {
         "name": "9/7/21",
         "rawType": "int64",
         "type": "integer"
        },
        {
         "name": "9/8/21",
         "rawType": "int64",
         "type": "integer"
        },
        {
         "name": "9/9/21",
         "rawType": "int64",
         "type": "integer"
        },
        {
         "name": "9/10/21",
         "rawType": "int64",
         "type": "integer"
        },
        {
         "name": "9/11/21",
         "rawType": "int64",
         "type": "integer"
        },
        {
         "name": "9/12/21",
         "rawType": "int64",
         "type": "integer"
        },
        {
         "name": "9/13/21",
         "rawType": "int64",
         "type": "integer"
        },
        {
         "name": "9/14/21",
         "rawType": "int64",
         "type": "integer"
        },
        {
         "name": "9/15/21",
         "rawType": "int64",
         "type": "integer"
        },
        {
         "name": "9/16/21",
         "rawType": "int64",
         "type": "integer"
        },
        {
         "name": "9/17/21",
         "rawType": "int64",
         "type": "integer"
        },
        {
         "name": "9/18/21",
         "rawType": "int64",
         "type": "integer"
        },
        {
         "name": "9/19/21",
         "rawType": "int64",
         "type": "integer"
        },
        {
         "name": "9/20/21",
         "rawType": "int64",
         "type": "integer"
        },
        {
         "name": "9/21/21",
         "rawType": "int64",
         "type": "integer"
        },
        {
         "name": "9/22/21",
         "rawType": "int64",
         "type": "integer"
        },
        {
         "name": "9/23/21",
         "rawType": "int64",
         "type": "integer"
        },
        {
         "name": "9/24/21",
         "rawType": "int64",
         "type": "integer"
        },
        {
         "name": "9/25/21",
         "rawType": "int64",
         "type": "integer"
        },
        {
         "name": "9/26/21",
         "rawType": "int64",
         "type": "integer"
        },
        {
         "name": "9/27/21",
         "rawType": "int64",
         "type": "integer"
        },
        {
         "name": "9/28/21",
         "rawType": "int64",
         "type": "integer"
        },
        {
         "name": "9/29/21",
         "rawType": "int64",
         "type": "integer"
        },
        {
         "name": "9/30/21",
         "rawType": "int64",
         "type": "integer"
        },
        {
         "name": "10/1/21",
         "rawType": "int64",
         "type": "integer"
        },
        {
         "name": "10/2/21",
         "rawType": "int64",
         "type": "integer"
        },
        {
         "name": "10/3/21",
         "rawType": "int64",
         "type": "integer"
        },
        {
         "name": "10/4/21",
         "rawType": "int64",
         "type": "integer"
        },
        {
         "name": "10/5/21",
         "rawType": "int64",
         "type": "integer"
        },
        {
         "name": "10/6/21",
         "rawType": "int64",
         "type": "integer"
        },
        {
         "name": "10/7/21",
         "rawType": "int64",
         "type": "integer"
        },
        {
         "name": "10/8/21",
         "rawType": "int64",
         "type": "integer"
        },
        {
         "name": "10/9/21",
         "rawType": "int64",
         "type": "integer"
        },
        {
         "name": "10/10/21",
         "rawType": "int64",
         "type": "integer"
        },
        {
         "name": "10/11/21",
         "rawType": "int64",
         "type": "integer"
        },
        {
         "name": "10/12/21",
         "rawType": "int64",
         "type": "integer"
        },
        {
         "name": "10/13/21",
         "rawType": "int64",
         "type": "integer"
        },
        {
         "name": "10/14/21",
         "rawType": "int64",
         "type": "integer"
        },
        {
         "name": "10/15/21",
         "rawType": "int64",
         "type": "integer"
        },
        {
         "name": "10/16/21",
         "rawType": "int64",
         "type": "integer"
        },
        {
         "name": "10/17/21",
         "rawType": "int64",
         "type": "integer"
        },
        {
         "name": "10/18/21",
         "rawType": "int64",
         "type": "integer"
        },
        {
         "name": "10/19/21",
         "rawType": "int64",
         "type": "integer"
        },
        {
         "name": "10/20/21",
         "rawType": "int64",
         "type": "integer"
        },
        {
         "name": "10/21/21",
         "rawType": "int64",
         "type": "integer"
        },
        {
         "name": "10/22/21",
         "rawType": "int64",
         "type": "integer"
        },
        {
         "name": "10/23/21",
         "rawType": "int64",
         "type": "integer"
        },
        {
         "name": "10/24/21",
         "rawType": "int64",
         "type": "integer"
        },
        {
         "name": "10/25/21",
         "rawType": "int64",
         "type": "integer"
        },
        {
         "name": "10/26/21",
         "rawType": "int64",
         "type": "integer"
        },
        {
         "name": "10/27/21",
         "rawType": "int64",
         "type": "integer"
        },
        {
         "name": "10/28/21",
         "rawType": "int64",
         "type": "integer"
        },
        {
         "name": "10/29/21",
         "rawType": "int64",
         "type": "integer"
        },
        {
         "name": "10/30/21",
         "rawType": "int64",
         "type": "integer"
        },
        {
         "name": "10/31/21",
         "rawType": "int64",
         "type": "integer"
        },
        {
         "name": "11/1/21",
         "rawType": "int64",
         "type": "integer"
        },
        {
         "name": "11/2/21",
         "rawType": "int64",
         "type": "integer"
        },
        {
         "name": "11/3/21",
         "rawType": "int64",
         "type": "integer"
        },
        {
         "name": "11/4/21",
         "rawType": "int64",
         "type": "integer"
        },
        {
         "name": "11/5/21",
         "rawType": "int64",
         "type": "integer"
        },
        {
         "name": "11/6/21",
         "rawType": "int64",
         "type": "integer"
        },
        {
         "name": "11/7/21",
         "rawType": "int64",
         "type": "integer"
        },
        {
         "name": "11/8/21",
         "rawType": "int64",
         "type": "integer"
        },
        {
         "name": "11/9/21",
         "rawType": "int64",
         "type": "integer"
        },
        {
         "name": "11/10/21",
         "rawType": "int64",
         "type": "integer"
        },
        {
         "name": "11/11/21",
         "rawType": "int64",
         "type": "integer"
        },
        {
         "name": "11/12/21",
         "rawType": "int64",
         "type": "integer"
        },
        {
         "name": "11/13/21",
         "rawType": "int64",
         "type": "integer"
        },
        {
         "name": "11/14/21",
         "rawType": "int64",
         "type": "integer"
        },
        {
         "name": "11/15/21",
         "rawType": "int64",
         "type": "integer"
        },
        {
         "name": "11/16/21",
         "rawType": "int64",
         "type": "integer"
        },
        {
         "name": "11/17/21",
         "rawType": "int64",
         "type": "integer"
        },
        {
         "name": "11/18/21",
         "rawType": "int64",
         "type": "integer"
        },
        {
         "name": "11/19/21",
         "rawType": "int64",
         "type": "integer"
        },
        {
         "name": "11/20/21",
         "rawType": "int64",
         "type": "integer"
        },
        {
         "name": "11/21/21",
         "rawType": "int64",
         "type": "integer"
        },
        {
         "name": "11/22/21",
         "rawType": "int64",
         "type": "integer"
        },
        {
         "name": "11/23/21",
         "rawType": "int64",
         "type": "integer"
        },
        {
         "name": "11/24/21",
         "rawType": "int64",
         "type": "integer"
        },
        {
         "name": "11/25/21",
         "rawType": "int64",
         "type": "integer"
        },
        {
         "name": "11/26/21",
         "rawType": "int64",
         "type": "integer"
        },
        {
         "name": "11/27/21",
         "rawType": "int64",
         "type": "integer"
        },
        {
         "name": "11/28/21",
         "rawType": "int64",
         "type": "integer"
        },
        {
         "name": "11/29/21",
         "rawType": "int64",
         "type": "integer"
        },
        {
         "name": "11/30/21",
         "rawType": "int64",
         "type": "integer"
        },
        {
         "name": "12/1/21",
         "rawType": "int64",
         "type": "integer"
        },
        {
         "name": "12/2/21",
         "rawType": "int64",
         "type": "integer"
        },
        {
         "name": "12/3/21",
         "rawType": "int64",
         "type": "integer"
        },
        {
         "name": "12/4/21",
         "rawType": "int64",
         "type": "integer"
        },
        {
         "name": "12/5/21",
         "rawType": "int64",
         "type": "integer"
        },
        {
         "name": "12/6/21",
         "rawType": "int64",
         "type": "integer"
        },
        {
         "name": "12/7/21",
         "rawType": "int64",
         "type": "integer"
        },
        {
         "name": "12/8/21",
         "rawType": "int64",
         "type": "integer"
        },
        {
         "name": "12/9/21",
         "rawType": "int64",
         "type": "integer"
        },
        {
         "name": "12/10/21",
         "rawType": "int64",
         "type": "integer"
        },
        {
         "name": "12/11/21",
         "rawType": "int64",
         "type": "integer"
        },
        {
         "name": "12/12/21",
         "rawType": "int64",
         "type": "integer"
        },
        {
         "name": "12/13/21",
         "rawType": "int64",
         "type": "integer"
        },
        {
         "name": "12/14/21",
         "rawType": "int64",
         "type": "integer"
        },
        {
         "name": "12/15/21",
         "rawType": "int64",
         "type": "integer"
        },
        {
         "name": "12/16/21",
         "rawType": "int64",
         "type": "integer"
        },
        {
         "name": "12/17/21",
         "rawType": "int64",
         "type": "integer"
        },
        {
         "name": "12/18/21",
         "rawType": "int64",
         "type": "integer"
        },
        {
         "name": "12/19/21",
         "rawType": "int64",
         "type": "integer"
        },
        {
         "name": "12/20/21",
         "rawType": "int64",
         "type": "integer"
        },
        {
         "name": "12/21/21",
         "rawType": "int64",
         "type": "integer"
        },
        {
         "name": "12/22/21",
         "rawType": "int64",
         "type": "integer"
        },
        {
         "name": "12/23/21",
         "rawType": "int64",
         "type": "integer"
        },
        {
         "name": "12/24/21",
         "rawType": "int64",
         "type": "integer"
        },
        {
         "name": "12/25/21",
         "rawType": "int64",
         "type": "integer"
        },
        {
         "name": "12/26/21",
         "rawType": "int64",
         "type": "integer"
        },
        {
         "name": "12/27/21",
         "rawType": "int64",
         "type": "integer"
        },
        {
         "name": "12/28/21",
         "rawType": "int64",
         "type": "integer"
        },
        {
         "name": "12/29/21",
         "rawType": "int64",
         "type": "integer"
        },
        {
         "name": "12/30/21",
         "rawType": "int64",
         "type": "integer"
        },
        {
         "name": "12/31/21",
         "rawType": "int64",
         "type": "integer"
        },
        {
         "name": "1/1/22",
         "rawType": "int64",
         "type": "integer"
        },
        {
         "name": "1/2/22",
         "rawType": "int64",
         "type": "integer"
        },
        {
         "name": "1/3/22",
         "rawType": "int64",
         "type": "integer"
        },
        {
         "name": "1/4/22",
         "rawType": "int64",
         "type": "integer"
        },
        {
         "name": "1/5/22",
         "rawType": "int64",
         "type": "integer"
        },
        {
         "name": "1/6/22",
         "rawType": "int64",
         "type": "integer"
        },
        {
         "name": "1/7/22",
         "rawType": "int64",
         "type": "integer"
        },
        {
         "name": "1/8/22",
         "rawType": "int64",
         "type": "integer"
        },
        {
         "name": "1/9/22",
         "rawType": "int64",
         "type": "integer"
        },
        {
         "name": "1/10/22",
         "rawType": "int64",
         "type": "integer"
        },
        {
         "name": "1/11/22",
         "rawType": "int64",
         "type": "integer"
        },
        {
         "name": "1/12/22",
         "rawType": "int64",
         "type": "integer"
        },
        {
         "name": "1/13/22",
         "rawType": "int64",
         "type": "integer"
        },
        {
         "name": "1/14/22",
         "rawType": "int64",
         "type": "integer"
        },
        {
         "name": "1/15/22",
         "rawType": "int64",
         "type": "integer"
        },
        {
         "name": "1/16/22",
         "rawType": "int64",
         "type": "integer"
        },
        {
         "name": "1/17/22",
         "rawType": "int64",
         "type": "integer"
        },
        {
         "name": "1/18/22",
         "rawType": "int64",
         "type": "integer"
        },
        {
         "name": "1/19/22",
         "rawType": "int64",
         "type": "integer"
        },
        {
         "name": "1/20/22",
         "rawType": "int64",
         "type": "integer"
        },
        {
         "name": "1/21/22",
         "rawType": "int64",
         "type": "integer"
        },
        {
         "name": "1/22/22",
         "rawType": "int64",
         "type": "integer"
        },
        {
         "name": "1/23/22",
         "rawType": "int64",
         "type": "integer"
        },
        {
         "name": "1/24/22",
         "rawType": "int64",
         "type": "integer"
        },
        {
         "name": "1/25/22",
         "rawType": "int64",
         "type": "integer"
        },
        {
         "name": "1/26/22",
         "rawType": "int64",
         "type": "integer"
        },
        {
         "name": "1/27/22",
         "rawType": "int64",
         "type": "integer"
        },
        {
         "name": "1/28/22",
         "rawType": "int64",
         "type": "integer"
        },
        {
         "name": "1/29/22",
         "rawType": "int64",
         "type": "integer"
        },
        {
         "name": "1/30/22",
         "rawType": "int64",
         "type": "integer"
        },
        {
         "name": "1/31/22",
         "rawType": "int64",
         "type": "integer"
        },
        {
         "name": "2/1/22",
         "rawType": "int64",
         "type": "integer"
        },
        {
         "name": "2/2/22",
         "rawType": "int64",
         "type": "integer"
        },
        {
         "name": "2/3/22",
         "rawType": "int64",
         "type": "integer"
        },
        {
         "name": "2/4/22",
         "rawType": "int64",
         "type": "integer"
        },
        {
         "name": "2/5/22",
         "rawType": "int64",
         "type": "integer"
        },
        {
         "name": "2/6/22",
         "rawType": "int64",
         "type": "integer"
        },
        {
         "name": "2/7/22",
         "rawType": "int64",
         "type": "integer"
        },
        {
         "name": "2/8/22",
         "rawType": "int64",
         "type": "integer"
        },
        {
         "name": "2/9/22",
         "rawType": "int64",
         "type": "integer"
        },
        {
         "name": "2/10/22",
         "rawType": "int64",
         "type": "integer"
        },
        {
         "name": "2/11/22",
         "rawType": "int64",
         "type": "integer"
        },
        {
         "name": "2/12/22",
         "rawType": "int64",
         "type": "integer"
        },
        {
         "name": "2/13/22",
         "rawType": "int64",
         "type": "integer"
        },
        {
         "name": "2/14/22",
         "rawType": "int64",
         "type": "integer"
        },
        {
         "name": "2/15/22",
         "rawType": "int64",
         "type": "integer"
        },
        {
         "name": "2/16/22",
         "rawType": "int64",
         "type": "integer"
        },
        {
         "name": "2/17/22",
         "rawType": "int64",
         "type": "integer"
        },
        {
         "name": "2/18/22",
         "rawType": "int64",
         "type": "integer"
        },
        {
         "name": "2/19/22",
         "rawType": "int64",
         "type": "integer"
        },
        {
         "name": "2/20/22",
         "rawType": "int64",
         "type": "integer"
        },
        {
         "name": "2/21/22",
         "rawType": "int64",
         "type": "integer"
        },
        {
         "name": "2/22/22",
         "rawType": "int64",
         "type": "integer"
        },
        {
         "name": "2/23/22",
         "rawType": "int64",
         "type": "integer"
        },
        {
         "name": "2/24/22",
         "rawType": "int64",
         "type": "integer"
        },
        {
         "name": "2/25/22",
         "rawType": "int64",
         "type": "integer"
        },
        {
         "name": "2/26/22",
         "rawType": "int64",
         "type": "integer"
        },
        {
         "name": "2/27/22",
         "rawType": "int64",
         "type": "integer"
        },
        {
         "name": "2/28/22",
         "rawType": "int64",
         "type": "integer"
        },
        {
         "name": "3/1/22",
         "rawType": "int64",
         "type": "integer"
        },
        {
         "name": "3/2/22",
         "rawType": "int64",
         "type": "integer"
        },
        {
         "name": "3/3/22",
         "rawType": "int64",
         "type": "integer"
        },
        {
         "name": "3/4/22",
         "rawType": "int64",
         "type": "integer"
        },
        {
         "name": "3/5/22",
         "rawType": "int64",
         "type": "integer"
        },
        {
         "name": "3/6/22",
         "rawType": "int64",
         "type": "integer"
        },
        {
         "name": "3/7/22",
         "rawType": "int64",
         "type": "integer"
        },
        {
         "name": "3/8/22",
         "rawType": "int64",
         "type": "integer"
        },
        {
         "name": "3/9/22",
         "rawType": "int64",
         "type": "integer"
        },
        {
         "name": "3/10/22",
         "rawType": "int64",
         "type": "integer"
        },
        {
         "name": "3/11/22",
         "rawType": "int64",
         "type": "integer"
        },
        {
         "name": "3/12/22",
         "rawType": "int64",
         "type": "integer"
        },
        {
         "name": "3/13/22",
         "rawType": "int64",
         "type": "integer"
        },
        {
         "name": "3/14/22",
         "rawType": "int64",
         "type": "integer"
        },
        {
         "name": "3/15/22",
         "rawType": "int64",
         "type": "integer"
        },
        {
         "name": "3/16/22",
         "rawType": "int64",
         "type": "integer"
        },
        {
         "name": "3/17/22",
         "rawType": "int64",
         "type": "integer"
        },
        {
         "name": "3/18/22",
         "rawType": "int64",
         "type": "integer"
        },
        {
         "name": "3/19/22",
         "rawType": "int64",
         "type": "integer"
        },
        {
         "name": "3/20/22",
         "rawType": "int64",
         "type": "integer"
        },
        {
         "name": "3/21/22",
         "rawType": "int64",
         "type": "integer"
        },
        {
         "name": "3/22/22",
         "rawType": "int64",
         "type": "integer"
        },
        {
         "name": "3/23/22",
         "rawType": "int64",
         "type": "integer"
        },
        {
         "name": "3/24/22",
         "rawType": "int64",
         "type": "integer"
        },
        {
         "name": "3/25/22",
         "rawType": "int64",
         "type": "integer"
        },
        {
         "name": "3/26/22",
         "rawType": "int64",
         "type": "integer"
        },
        {
         "name": "3/27/22",
         "rawType": "int64",
         "type": "integer"
        },
        {
         "name": "3/28/22",
         "rawType": "int64",
         "type": "integer"
        },
        {
         "name": "3/29/22",
         "rawType": "int64",
         "type": "integer"
        },
        {
         "name": "3/30/22",
         "rawType": "int64",
         "type": "integer"
        },
        {
         "name": "3/31/22",
         "rawType": "int64",
         "type": "integer"
        },
        {
         "name": "4/1/22",
         "rawType": "int64",
         "type": "integer"
        },
        {
         "name": "4/2/22",
         "rawType": "int64",
         "type": "integer"
        },
        {
         "name": "4/3/22",
         "rawType": "int64",
         "type": "integer"
        },
        {
         "name": "4/4/22",
         "rawType": "int64",
         "type": "integer"
        },
        {
         "name": "4/5/22",
         "rawType": "int64",
         "type": "integer"
        },
        {
         "name": "4/6/22",
         "rawType": "int64",
         "type": "integer"
        },
        {
         "name": "4/7/22",
         "rawType": "int64",
         "type": "integer"
        },
        {
         "name": "4/8/22",
         "rawType": "int64",
         "type": "integer"
        },
        {
         "name": "4/9/22",
         "rawType": "int64",
         "type": "integer"
        },
        {
         "name": "4/10/22",
         "rawType": "int64",
         "type": "integer"
        },
        {
         "name": "4/11/22",
         "rawType": "int64",
         "type": "integer"
        },
        {
         "name": "4/12/22",
         "rawType": "int64",
         "type": "integer"
        },
        {
         "name": "4/13/22",
         "rawType": "int64",
         "type": "integer"
        },
        {
         "name": "4/14/22",
         "rawType": "int64",
         "type": "integer"
        },
        {
         "name": "4/15/22",
         "rawType": "int64",
         "type": "integer"
        },
        {
         "name": "4/16/22",
         "rawType": "int64",
         "type": "integer"
        },
        {
         "name": "4/17/22",
         "rawType": "int64",
         "type": "integer"
        },
        {
         "name": "4/18/22",
         "rawType": "int64",
         "type": "integer"
        },
        {
         "name": "4/19/22",
         "rawType": "int64",
         "type": "integer"
        },
        {
         "name": "4/20/22",
         "rawType": "int64",
         "type": "integer"
        },
        {
         "name": "4/21/22",
         "rawType": "int64",
         "type": "integer"
        },
        {
         "name": "4/22/22",
         "rawType": "int64",
         "type": "integer"
        },
        {
         "name": "4/23/22",
         "rawType": "int64",
         "type": "integer"
        },
        {
         "name": "4/24/22",
         "rawType": "int64",
         "type": "integer"
        },
        {
         "name": "4/25/22",
         "rawType": "int64",
         "type": "integer"
        },
        {
         "name": "4/26/22",
         "rawType": "int64",
         "type": "integer"
        },
        {
         "name": "4/27/22",
         "rawType": "int64",
         "type": "integer"
        },
        {
         "name": "4/28/22",
         "rawType": "int64",
         "type": "integer"
        },
        {
         "name": "4/29/22",
         "rawType": "int64",
         "type": "integer"
        },
        {
         "name": "4/30/22",
         "rawType": "int64",
         "type": "integer"
        },
        {
         "name": "5/1/22",
         "rawType": "int64",
         "type": "integer"
        },
        {
         "name": "5/2/22",
         "rawType": "int64",
         "type": "integer"
        },
        {
         "name": "5/3/22",
         "rawType": "int64",
         "type": "integer"
        },
        {
         "name": "5/4/22",
         "rawType": "int64",
         "type": "integer"
        },
        {
         "name": "5/5/22",
         "rawType": "int64",
         "type": "integer"
        },
        {
         "name": "5/6/22",
         "rawType": "int64",
         "type": "integer"
        },
        {
         "name": "5/7/22",
         "rawType": "int64",
         "type": "integer"
        },
        {
         "name": "5/8/22",
         "rawType": "int64",
         "type": "integer"
        },
        {
         "name": "5/9/22",
         "rawType": "int64",
         "type": "integer"
        },
        {
         "name": "5/10/22",
         "rawType": "int64",
         "type": "integer"
        },
        {
         "name": "5/11/22",
         "rawType": "int64",
         "type": "integer"
        },
        {
         "name": "5/12/22",
         "rawType": "int64",
         "type": "integer"
        },
        {
         "name": "5/13/22",
         "rawType": "int64",
         "type": "integer"
        },
        {
         "name": "5/14/22",
         "rawType": "int64",
         "type": "integer"
        },
        {
         "name": "5/15/22",
         "rawType": "int64",
         "type": "integer"
        },
        {
         "name": "5/16/22",
         "rawType": "int64",
         "type": "integer"
        },
        {
         "name": "5/17/22",
         "rawType": "int64",
         "type": "integer"
        },
        {
         "name": "5/18/22",
         "rawType": "int64",
         "type": "integer"
        },
        {
         "name": "5/19/22",
         "rawType": "int64",
         "type": "integer"
        },
        {
         "name": "5/20/22",
         "rawType": "int64",
         "type": "integer"
        },
        {
         "name": "5/21/22",
         "rawType": "int64",
         "type": "integer"
        },
        {
         "name": "5/22/22",
         "rawType": "int64",
         "type": "integer"
        },
        {
         "name": "5/23/22",
         "rawType": "int64",
         "type": "integer"
        },
        {
         "name": "5/24/22",
         "rawType": "int64",
         "type": "integer"
        },
        {
         "name": "5/25/22",
         "rawType": "int64",
         "type": "integer"
        },
        {
         "name": "5/26/22",
         "rawType": "int64",
         "type": "integer"
        },
        {
         "name": "5/27/22",
         "rawType": "int64",
         "type": "integer"
        },
        {
         "name": "5/28/22",
         "rawType": "int64",
         "type": "integer"
        },
        {
         "name": "5/29/22",
         "rawType": "int64",
         "type": "integer"
        },
        {
         "name": "5/30/22",
         "rawType": "int64",
         "type": "integer"
        },
        {
         "name": "5/31/22",
         "rawType": "int64",
         "type": "integer"
        },
        {
         "name": "6/1/22",
         "rawType": "int64",
         "type": "integer"
        },
        {
         "name": "6/2/22",
         "rawType": "int64",
         "type": "integer"
        },
        {
         "name": "6/3/22",
         "rawType": "int64",
         "type": "integer"
        },
        {
         "name": "6/4/22",
         "rawType": "int64",
         "type": "integer"
        },
        {
         "name": "6/5/22",
         "rawType": "int64",
         "type": "integer"
        },
        {
         "name": "6/6/22",
         "rawType": "int64",
         "type": "integer"
        },
        {
         "name": "6/7/22",
         "rawType": "int64",
         "type": "integer"
        },
        {
         "name": "6/8/22",
         "rawType": "int64",
         "type": "integer"
        },
        {
         "name": "6/9/22",
         "rawType": "int64",
         "type": "integer"
        },
        {
         "name": "6/10/22",
         "rawType": "int64",
         "type": "integer"
        },
        {
         "name": "6/11/22",
         "rawType": "int64",
         "type": "integer"
        },
        {
         "name": "6/12/22",
         "rawType": "int64",
         "type": "integer"
        },
        {
         "name": "6/13/22",
         "rawType": "int64",
         "type": "integer"
        },
        {
         "name": "6/14/22",
         "rawType": "int64",
         "type": "integer"
        },
        {
         "name": "6/15/22",
         "rawType": "int64",
         "type": "integer"
        },
        {
         "name": "6/16/22",
         "rawType": "int64",
         "type": "integer"
        },
        {
         "name": "6/17/22",
         "rawType": "int64",
         "type": "integer"
        },
        {
         "name": "6/18/22",
         "rawType": "int64",
         "type": "integer"
        },
        {
         "name": "6/19/22",
         "rawType": "int64",
         "type": "integer"
        },
        {
         "name": "6/20/22",
         "rawType": "int64",
         "type": "integer"
        },
        {
         "name": "6/21/22",
         "rawType": "int64",
         "type": "integer"
        },
        {
         "name": "6/22/22",
         "rawType": "int64",
         "type": "integer"
        },
        {
         "name": "6/23/22",
         "rawType": "int64",
         "type": "integer"
        },
        {
         "name": "6/24/22",
         "rawType": "int64",
         "type": "integer"
        },
        {
         "name": "6/25/22",
         "rawType": "int64",
         "type": "integer"
        },
        {
         "name": "6/26/22",
         "rawType": "int64",
         "type": "integer"
        },
        {
         "name": "6/27/22",
         "rawType": "int64",
         "type": "integer"
        },
        {
         "name": "6/28/22",
         "rawType": "int64",
         "type": "integer"
        },
        {
         "name": "6/29/22",
         "rawType": "int64",
         "type": "integer"
        },
        {
         "name": "6/30/22",
         "rawType": "int64",
         "type": "integer"
        },
        {
         "name": "7/1/22",
         "rawType": "int64",
         "type": "integer"
        },
        {
         "name": "7/2/22",
         "rawType": "int64",
         "type": "integer"
        },
        {
         "name": "7/3/22",
         "rawType": "int64",
         "type": "integer"
        },
        {
         "name": "7/4/22",
         "rawType": "int64",
         "type": "integer"
        },
        {
         "name": "7/5/22",
         "rawType": "int64",
         "type": "integer"
        },
        {
         "name": "7/6/22",
         "rawType": "int64",
         "type": "integer"
        },
        {
         "name": "7/7/22",
         "rawType": "int64",
         "type": "integer"
        },
        {
         "name": "7/8/22",
         "rawType": "int64",
         "type": "integer"
        },
        {
         "name": "7/9/22",
         "rawType": "int64",
         "type": "integer"
        },
        {
         "name": "7/10/22",
         "rawType": "int64",
         "type": "integer"
        },
        {
         "name": "7/11/22",
         "rawType": "int64",
         "type": "integer"
        },
        {
         "name": "7/12/22",
         "rawType": "int64",
         "type": "integer"
        },
        {
         "name": "7/13/22",
         "rawType": "int64",
         "type": "integer"
        },
        {
         "name": "7/14/22",
         "rawType": "int64",
         "type": "integer"
        },
        {
         "name": "7/15/22",
         "rawType": "int64",
         "type": "integer"
        },
        {
         "name": "7/16/22",
         "rawType": "int64",
         "type": "integer"
        },
        {
         "name": "7/17/22",
         "rawType": "int64",
         "type": "integer"
        },
        {
         "name": "7/18/22",
         "rawType": "int64",
         "type": "integer"
        },
        {
         "name": "7/19/22",
         "rawType": "int64",
         "type": "integer"
        },
        {
         "name": "7/20/22",
         "rawType": "int64",
         "type": "integer"
        },
        {
         "name": "7/21/22",
         "rawType": "int64",
         "type": "integer"
        },
        {
         "name": "7/22/22",
         "rawType": "int64",
         "type": "integer"
        },
        {
         "name": "7/23/22",
         "rawType": "int64",
         "type": "integer"
        },
        {
         "name": "7/24/22",
         "rawType": "int64",
         "type": "integer"
        },
        {
         "name": "7/25/22",
         "rawType": "int64",
         "type": "integer"
        },
        {
         "name": "7/26/22",
         "rawType": "int64",
         "type": "integer"
        },
        {
         "name": "7/27/22",
         "rawType": "int64",
         "type": "integer"
        },
        {
         "name": "7/28/22",
         "rawType": "int64",
         "type": "integer"
        },
        {
         "name": "7/29/22",
         "rawType": "int64",
         "type": "integer"
        },
        {
         "name": "7/30/22",
         "rawType": "int64",
         "type": "integer"
        },
        {
         "name": "7/31/22",
         "rawType": "int64",
         "type": "integer"
        },
        {
         "name": "8/1/22",
         "rawType": "int64",
         "type": "integer"
        },
        {
         "name": "8/2/22",
         "rawType": "int64",
         "type": "integer"
        },
        {
         "name": "8/3/22",
         "rawType": "int64",
         "type": "integer"
        },
        {
         "name": "8/4/22",
         "rawType": "int64",
         "type": "integer"
        },
        {
         "name": "8/5/22",
         "rawType": "int64",
         "type": "integer"
        },
        {
         "name": "8/6/22",
         "rawType": "int64",
         "type": "integer"
        },
        {
         "name": "8/7/22",
         "rawType": "int64",
         "type": "integer"
        },
        {
         "name": "8/8/22",
         "rawType": "int64",
         "type": "integer"
        },
        {
         "name": "8/9/22",
         "rawType": "int64",
         "type": "integer"
        },
        {
         "name": "8/10/22",
         "rawType": "int64",
         "type": "integer"
        },
        {
         "name": "8/11/22",
         "rawType": "int64",
         "type": "integer"
        },
        {
         "name": "8/12/22",
         "rawType": "int64",
         "type": "integer"
        },
        {
         "name": "8/13/22",
         "rawType": "int64",
         "type": "integer"
        },
        {
         "name": "8/14/22",
         "rawType": "int64",
         "type": "integer"
        },
        {
         "name": "8/15/22",
         "rawType": "int64",
         "type": "integer"
        },
        {
         "name": "8/16/22",
         "rawType": "int64",
         "type": "integer"
        },
        {
         "name": "8/17/22",
         "rawType": "int64",
         "type": "integer"
        },
        {
         "name": "8/18/22",
         "rawType": "int64",
         "type": "integer"
        },
        {
         "name": "8/19/22",
         "rawType": "int64",
         "type": "integer"
        },
        {
         "name": "8/20/22",
         "rawType": "int64",
         "type": "integer"
        },
        {
         "name": "8/21/22",
         "rawType": "int64",
         "type": "integer"
        },
        {
         "name": "8/22/22",
         "rawType": "int64",
         "type": "integer"
        },
        {
         "name": "8/23/22",
         "rawType": "int64",
         "type": "integer"
        },
        {
         "name": "8/24/22",
         "rawType": "int64",
         "type": "integer"
        },
        {
         "name": "8/25/22",
         "rawType": "int64",
         "type": "integer"
        },
        {
         "name": "8/26/22",
         "rawType": "int64",
         "type": "integer"
        },
        {
         "name": "8/27/22",
         "rawType": "int64",
         "type": "integer"
        },
        {
         "name": "8/28/22",
         "rawType": "int64",
         "type": "integer"
        },
        {
         "name": "8/29/22",
         "rawType": "int64",
         "type": "integer"
        },
        {
         "name": "8/30/22",
         "rawType": "int64",
         "type": "integer"
        },
        {
         "name": "8/31/22",
         "rawType": "int64",
         "type": "integer"
        },
        {
         "name": "9/1/22",
         "rawType": "int64",
         "type": "integer"
        },
        {
         "name": "9/2/22",
         "rawType": "int64",
         "type": "integer"
        },
        {
         "name": "9/3/22",
         "rawType": "int64",
         "type": "integer"
        },
        {
         "name": "9/4/22",
         "rawType": "int64",
         "type": "integer"
        },
        {
         "name": "9/5/22",
         "rawType": "int64",
         "type": "integer"
        },
        {
         "name": "9/6/22",
         "rawType": "int64",
         "type": "integer"
        },
        {
         "name": "9/7/22",
         "rawType": "int64",
         "type": "integer"
        },
        {
         "name": "9/8/22",
         "rawType": "int64",
         "type": "integer"
        },
        {
         "name": "9/9/22",
         "rawType": "int64",
         "type": "integer"
        },
        {
         "name": "9/10/22",
         "rawType": "int64",
         "type": "integer"
        },
        {
         "name": "9/11/22",
         "rawType": "int64",
         "type": "integer"
        },
        {
         "name": "9/12/22",
         "rawType": "int64",
         "type": "integer"
        },
        {
         "name": "9/13/22",
         "rawType": "int64",
         "type": "integer"
        },
        {
         "name": "9/14/22",
         "rawType": "int64",
         "type": "integer"
        },
        {
         "name": "9/15/22",
         "rawType": "int64",
         "type": "integer"
        },
        {
         "name": "9/16/22",
         "rawType": "int64",
         "type": "integer"
        },
        {
         "name": "9/17/22",
         "rawType": "int64",
         "type": "integer"
        },
        {
         "name": "9/18/22",
         "rawType": "int64",
         "type": "integer"
        },
        {
         "name": "9/19/22",
         "rawType": "int64",
         "type": "integer"
        },
        {
         "name": "9/20/22",
         "rawType": "int64",
         "type": "integer"
        },
        {
         "name": "9/21/22",
         "rawType": "int64",
         "type": "integer"
        },
        {
         "name": "9/22/22",
         "rawType": "int64",
         "type": "integer"
        },
        {
         "name": "9/23/22",
         "rawType": "int64",
         "type": "integer"
        },
        {
         "name": "9/24/22",
         "rawType": "int64",
         "type": "integer"
        },
        {
         "name": "9/25/22",
         "rawType": "int64",
         "type": "integer"
        },
        {
         "name": "9/26/22",
         "rawType": "int64",
         "type": "integer"
        },
        {
         "name": "9/27/22",
         "rawType": "int64",
         "type": "integer"
        },
        {
         "name": "9/28/22",
         "rawType": "int64",
         "type": "integer"
        },
        {
         "name": "9/29/22",
         "rawType": "int64",
         "type": "integer"
        },
        {
         "name": "9/30/22",
         "rawType": "int64",
         "type": "integer"
        },
        {
         "name": "10/1/22",
         "rawType": "int64",
         "type": "integer"
        },
        {
         "name": "10/2/22",
         "rawType": "int64",
         "type": "integer"
        },
        {
         "name": "10/3/22",
         "rawType": "int64",
         "type": "integer"
        },
        {
         "name": "10/4/22",
         "rawType": "int64",
         "type": "integer"
        },
        {
         "name": "10/5/22",
         "rawType": "int64",
         "type": "integer"
        },
        {
         "name": "10/6/22",
         "rawType": "int64",
         "type": "integer"
        },
        {
         "name": "10/7/22",
         "rawType": "int64",
         "type": "integer"
        },
        {
         "name": "10/8/22",
         "rawType": "int64",
         "type": "integer"
        },
        {
         "name": "10/9/22",
         "rawType": "int64",
         "type": "integer"
        },
        {
         "name": "10/10/22",
         "rawType": "int64",
         "type": "integer"
        },
        {
         "name": "10/11/22",
         "rawType": "int64",
         "type": "integer"
        },
        {
         "name": "10/12/22",
         "rawType": "int64",
         "type": "integer"
        },
        {
         "name": "10/13/22",
         "rawType": "int64",
         "type": "integer"
        },
        {
         "name": "10/14/22",
         "rawType": "int64",
         "type": "integer"
        },
        {
         "name": "10/15/22",
         "rawType": "int64",
         "type": "integer"
        },
        {
         "name": "10/16/22",
         "rawType": "int64",
         "type": "integer"
        },
        {
         "name": "10/17/22",
         "rawType": "int64",
         "type": "integer"
        },
        {
         "name": "10/18/22",
         "rawType": "int64",
         "type": "integer"
        },
        {
         "name": "10/19/22",
         "rawType": "int64",
         "type": "integer"
        },
        {
         "name": "10/20/22",
         "rawType": "int64",
         "type": "integer"
        },
        {
         "name": "10/21/22",
         "rawType": "int64",
         "type": "integer"
        },
        {
         "name": "10/22/22",
         "rawType": "int64",
         "type": "integer"
        },
        {
         "name": "10/23/22",
         "rawType": "int64",
         "type": "integer"
        },
        {
         "name": "10/24/22",
         "rawType": "int64",
         "type": "integer"
        },
        {
         "name": "10/25/22",
         "rawType": "int64",
         "type": "integer"
        },
        {
         "name": "10/26/22",
         "rawType": "int64",
         "type": "integer"
        },
        {
         "name": "10/27/22",
         "rawType": "int64",
         "type": "integer"
        },
        {
         "name": "10/28/22",
         "rawType": "int64",
         "type": "integer"
        },
        {
         "name": "10/29/22",
         "rawType": "int64",
         "type": "integer"
        },
        {
         "name": "10/30/22",
         "rawType": "int64",
         "type": "integer"
        },
        {
         "name": "10/31/22",
         "rawType": "int64",
         "type": "integer"
        },
        {
         "name": "11/1/22",
         "rawType": "int64",
         "type": "integer"
        },
        {
         "name": "11/2/22",
         "rawType": "int64",
         "type": "integer"
        },
        {
         "name": "11/3/22",
         "rawType": "int64",
         "type": "integer"
        },
        {
         "name": "11/4/22",
         "rawType": "int64",
         "type": "integer"
        },
        {
         "name": "11/5/22",
         "rawType": "int64",
         "type": "integer"
        },
        {
         "name": "11/6/22",
         "rawType": "int64",
         "type": "integer"
        },
        {
         "name": "11/7/22",
         "rawType": "int64",
         "type": "integer"
        },
        {
         "name": "11/8/22",
         "rawType": "int64",
         "type": "integer"
        },
        {
         "name": "11/9/22",
         "rawType": "int64",
         "type": "integer"
        },
        {
         "name": "11/10/22",
         "rawType": "int64",
         "type": "integer"
        },
        {
         "name": "11/11/22",
         "rawType": "int64",
         "type": "integer"
        },
        {
         "name": "11/12/22",
         "rawType": "int64",
         "type": "integer"
        },
        {
         "name": "11/13/22",
         "rawType": "int64",
         "type": "integer"
        },
        {
         "name": "11/14/22",
         "rawType": "int64",
         "type": "integer"
        },
        {
         "name": "11/15/22",
         "rawType": "int64",
         "type": "integer"
        },
        {
         "name": "11/16/22",
         "rawType": "int64",
         "type": "integer"
        },
        {
         "name": "11/17/22",
         "rawType": "int64",
         "type": "integer"
        },
        {
         "name": "11/18/22",
         "rawType": "int64",
         "type": "integer"
        },
        {
         "name": "11/19/22",
         "rawType": "int64",
         "type": "integer"
        },
        {
         "name": "11/20/22",
         "rawType": "int64",
         "type": "integer"
        },
        {
         "name": "11/21/22",
         "rawType": "int64",
         "type": "integer"
        },
        {
         "name": "11/22/22",
         "rawType": "int64",
         "type": "integer"
        },
        {
         "name": "11/23/22",
         "rawType": "int64",
         "type": "integer"
        },
        {
         "name": "11/24/22",
         "rawType": "int64",
         "type": "integer"
        },
        {
         "name": "11/25/22",
         "rawType": "int64",
         "type": "integer"
        },
        {
         "name": "11/26/22",
         "rawType": "int64",
         "type": "integer"
        },
        {
         "name": "11/27/22",
         "rawType": "int64",
         "type": "integer"
        },
        {
         "name": "11/28/22",
         "rawType": "int64",
         "type": "integer"
        },
        {
         "name": "11/29/22",
         "rawType": "int64",
         "type": "integer"
        },
        {
         "name": "11/30/22",
         "rawType": "int64",
         "type": "integer"
        },
        {
         "name": "12/1/22",
         "rawType": "int64",
         "type": "integer"
        },
        {
         "name": "12/2/22",
         "rawType": "int64",
         "type": "integer"
        },
        {
         "name": "12/3/22",
         "rawType": "int64",
         "type": "integer"
        },
        {
         "name": "12/4/22",
         "rawType": "int64",
         "type": "integer"
        },
        {
         "name": "12/5/22",
         "rawType": "int64",
         "type": "integer"
        },
        {
         "name": "12/6/22",
         "rawType": "int64",
         "type": "integer"
        },
        {
         "name": "12/7/22",
         "rawType": "int64",
         "type": "integer"
        },
        {
         "name": "12/8/22",
         "rawType": "int64",
         "type": "integer"
        },
        {
         "name": "12/9/22",
         "rawType": "int64",
         "type": "integer"
        },
        {
         "name": "12/10/22",
         "rawType": "int64",
         "type": "integer"
        },
        {
         "name": "12/11/22",
         "rawType": "int64",
         "type": "integer"
        },
        {
         "name": "12/12/22",
         "rawType": "int64",
         "type": "integer"
        },
        {
         "name": "12/13/22",
         "rawType": "int64",
         "type": "integer"
        },
        {
         "name": "12/14/22",
         "rawType": "int64",
         "type": "integer"
        },
        {
         "name": "12/15/22",
         "rawType": "int64",
         "type": "integer"
        },
        {
         "name": "12/16/22",
         "rawType": "int64",
         "type": "integer"
        },
        {
         "name": "12/17/22",
         "rawType": "int64",
         "type": "integer"
        },
        {
         "name": "12/18/22",
         "rawType": "int64",
         "type": "integer"
        },
        {
         "name": "12/19/22",
         "rawType": "int64",
         "type": "integer"
        },
        {
         "name": "12/20/22",
         "rawType": "int64",
         "type": "integer"
        },
        {
         "name": "12/21/22",
         "rawType": "int64",
         "type": "integer"
        },
        {
         "name": "12/22/22",
         "rawType": "int64",
         "type": "integer"
        },
        {
         "name": "12/23/22",
         "rawType": "int64",
         "type": "integer"
        },
        {
         "name": "12/24/22",
         "rawType": "int64",
         "type": "integer"
        },
        {
         "name": "12/25/22",
         "rawType": "int64",
         "type": "integer"
        },
        {
         "name": "12/26/22",
         "rawType": "int64",
         "type": "integer"
        },
        {
         "name": "12/27/22",
         "rawType": "int64",
         "type": "integer"
        },
        {
         "name": "12/28/22",
         "rawType": "int64",
         "type": "integer"
        },
        {
         "name": "12/29/22",
         "rawType": "int64",
         "type": "integer"
        },
        {
         "name": "12/30/22",
         "rawType": "int64",
         "type": "integer"
        },
        {
         "name": "12/31/22",
         "rawType": "int64",
         "type": "integer"
        },
        {
         "name": "1/1/23",
         "rawType": "int64",
         "type": "integer"
        },
        {
         "name": "1/2/23",
         "rawType": "int64",
         "type": "integer"
        },
        {
         "name": "1/3/23",
         "rawType": "int64",
         "type": "integer"
        },
        {
         "name": "1/4/23",
         "rawType": "int64",
         "type": "integer"
        },
        {
         "name": "1/5/23",
         "rawType": "int64",
         "type": "integer"
        },
        {
         "name": "1/6/23",
         "rawType": "int64",
         "type": "integer"
        },
        {
         "name": "1/7/23",
         "rawType": "int64",
         "type": "integer"
        },
        {
         "name": "1/8/23",
         "rawType": "int64",
         "type": "integer"
        },
        {
         "name": "1/9/23",
         "rawType": "int64",
         "type": "integer"
        },
        {
         "name": "1/10/23",
         "rawType": "int64",
         "type": "integer"
        },
        {
         "name": "1/11/23",
         "rawType": "int64",
         "type": "integer"
        },
        {
         "name": "1/12/23",
         "rawType": "int64",
         "type": "integer"
        },
        {
         "name": "1/13/23",
         "rawType": "int64",
         "type": "integer"
        },
        {
         "name": "1/14/23",
         "rawType": "int64",
         "type": "integer"
        },
        {
         "name": "1/15/23",
         "rawType": "int64",
         "type": "integer"
        },
        {
         "name": "1/16/23",
         "rawType": "int64",
         "type": "integer"
        },
        {
         "name": "1/17/23",
         "rawType": "int64",
         "type": "integer"
        },
        {
         "name": "1/18/23",
         "rawType": "int64",
         "type": "integer"
        },
        {
         "name": "1/19/23",
         "rawType": "int64",
         "type": "integer"
        },
        {
         "name": "1/20/23",
         "rawType": "int64",
         "type": "integer"
        },
        {
         "name": "1/21/23",
         "rawType": "int64",
         "type": "integer"
        },
        {
         "name": "1/22/23",
         "rawType": "int64",
         "type": "integer"
        },
        {
         "name": "1/23/23",
         "rawType": "int64",
         "type": "integer"
        },
        {
         "name": "1/24/23",
         "rawType": "int64",
         "type": "integer"
        },
        {
         "name": "1/25/23",
         "rawType": "int64",
         "type": "integer"
        },
        {
         "name": "1/26/23",
         "rawType": "int64",
         "type": "integer"
        },
        {
         "name": "1/27/23",
         "rawType": "int64",
         "type": "integer"
        },
        {
         "name": "1/28/23",
         "rawType": "int64",
         "type": "integer"
        },
        {
         "name": "1/29/23",
         "rawType": "int64",
         "type": "integer"
        },
        {
         "name": "1/30/23",
         "rawType": "int64",
         "type": "integer"
        },
        {
         "name": "1/31/23",
         "rawType": "int64",
         "type": "integer"
        },
        {
         "name": "2/1/23",
         "rawType": "int64",
         "type": "integer"
        },
        {
         "name": "2/2/23",
         "rawType": "int64",
         "type": "integer"
        },
        {
         "name": "2/3/23",
         "rawType": "int64",
         "type": "integer"
        },
        {
         "name": "2/4/23",
         "rawType": "int64",
         "type": "integer"
        },
        {
         "name": "2/5/23",
         "rawType": "int64",
         "type": "integer"
        },
        {
         "name": "2/6/23",
         "rawType": "int64",
         "type": "integer"
        },
        {
         "name": "2/7/23",
         "rawType": "int64",
         "type": "integer"
        },
        {
         "name": "2/8/23",
         "rawType": "int64",
         "type": "integer"
        },
        {
         "name": "2/9/23",
         "rawType": "int64",
         "type": "integer"
        },
        {
         "name": "2/10/23",
         "rawType": "int64",
         "type": "integer"
        },
        {
         "name": "2/11/23",
         "rawType": "int64",
         "type": "integer"
        },
        {
         "name": "2/12/23",
         "rawType": "int64",
         "type": "integer"
        },
        {
         "name": "2/13/23",
         "rawType": "int64",
         "type": "integer"
        },
        {
         "name": "2/14/23",
         "rawType": "int64",
         "type": "integer"
        },
        {
         "name": "2/15/23",
         "rawType": "int64",
         "type": "integer"
        },
        {
         "name": "2/16/23",
         "rawType": "int64",
         "type": "integer"
        },
        {
         "name": "2/17/23",
         "rawType": "int64",
         "type": "integer"
        },
        {
         "name": "2/18/23",
         "rawType": "int64",
         "type": "integer"
        },
        {
         "name": "2/19/23",
         "rawType": "int64",
         "type": "integer"
        },
        {
         "name": "2/20/23",
         "rawType": "int64",
         "type": "integer"
        },
        {
         "name": "2/21/23",
         "rawType": "int64",
         "type": "integer"
        },
        {
         "name": "2/22/23",
         "rawType": "int64",
         "type": "integer"
        },
        {
         "name": "2/23/23",
         "rawType": "int64",
         "type": "integer"
        },
        {
         "name": "2/24/23",
         "rawType": "int64",
         "type": "integer"
        },
        {
         "name": "2/25/23",
         "rawType": "int64",
         "type": "integer"
        },
        {
         "name": "2/26/23",
         "rawType": "int64",
         "type": "integer"
        },
        {
         "name": "2/27/23",
         "rawType": "int64",
         "type": "integer"
        },
        {
         "name": "2/28/23",
         "rawType": "int64",
         "type": "integer"
        },
        {
         "name": "3/1/23",
         "rawType": "int64",
         "type": "integer"
        },
        {
         "name": "3/2/23",
         "rawType": "int64",
         "type": "integer"
        },
        {
         "name": "3/3/23",
         "rawType": "int64",
         "type": "integer"
        },
        {
         "name": "3/4/23",
         "rawType": "int64",
         "type": "integer"
        },
        {
         "name": "3/5/23",
         "rawType": "int64",
         "type": "integer"
        },
        {
         "name": "3/6/23",
         "rawType": "int64",
         "type": "integer"
        },
        {
         "name": "3/7/23",
         "rawType": "int64",
         "type": "integer"
        },
        {
         "name": "3/8/23",
         "rawType": "int64",
         "type": "integer"
        },
        {
         "name": "3/9/23",
         "rawType": "int64",
         "type": "integer"
        }
       ],
       "conversionMethod": "pd.DataFrame",
       "ref": "8e87bbcf-4e46-4cb6-a497-2d232a57a00c",
       "rows": [
        [
         "0",
         null,
         "Afghanistan",
         "33.93911",
         "67.709953",
         "0",
         "0",
         "0",
         "0",
         "0",
         "0",
         "0",
         "0",
         "0",
         "0",
         "0",
         "0",
         "0",
         "0",
         "0",
         "0",
         "0",
         "0",
         "0",
         "0",
         "0",
         "0",
         "0",
         "0",
         "0",
         "0",
         "0",
         "0",
         "0",
         "0",
         "0",
         "0",
         "0",
         "0",
         "0",
         "0",
         "0",
         "0",
         "0",
         "0",
         "0",
         "0",
         "0",
         "0",
         "0",
         "0",
         "0",
         "0",
         "0",
         "0",
         "0",
         "0",
         "0",
         "0",
         "0",
         "0",
         "0",
         "0",
         "0",
         "0",
         "0",
         "1",
         "1",
         "1",
         "2",
         "2",
         "2",
         "4",
         "4",
         "4",
         "4",
         "4",
         "5",
         "5",
         "7",
         "7",
         "11",
         "14",
         "15",
         "15",
         "15",
         "18",
         "19",
         "22",
         "25",
         "29",
         "30",
         "30",
         "30",
         "33",
         "36",
         "36",
         "40",
         "40",
         "43",
         "49",
         "50",
         "60",
         "60",
         "60",
         "64",
         "72",
         "72",
         "72",
         "72",
         "95",
         "104",
         "105",
         "105",
         "119",
         "120",
         "127",
         "127",
         "136",
         "153",
         "168",
         "169",
         "173",
         "177",
         "187",
         "193",
         "205",
         "215",
         "222",
         "223",
         "224",
         "230",
         "239",
         "250",
         "252",
         "254",
         "269",
         "274",
         "298",
         "303",
         "313",
         "331",
         "361",
         "373",
         "380",
         "409",
         "430",
         "450",
         "455",
         "475",
         "480",
         "488",
         "508",
         "550",
         "552",
         "552",
         "585",
         "602",
         "622",
         "643",
         "679",
         "684",
         "707",
         "733",
         "737",
         "739",
         "778",
         "811",
         "823",
         "830",
         "868",
         "891",
         "924",
         "940",
         "941",
         "975",
         "979",
         "1014",
         "1016",
         "1049",
         "1098",
         "1117",
         "1151",
         "1151",
         "1185",
         "1187",
         "1188",
         "1194",
         "1215",
         "1229",
         "1250",
         "1263",
         "1273",
         "1274",
         "1275",
         "1275",
         "1275",
         "1287",
         "1287",
         "1287",
         "1292",
         "1298",
         "1302",
         "1302",
         "1311",
         "1316",
         "1316",
         "1348",
         "1358",
         "1367",
         "1367",
         "1374",
         "1379",
         "1379",
         "1379",
         "1379",
         "1387",
         "1389",
         "1389",
         "1389",
         "1391",
         "1401",
         "1405",
         "1405",
         "1406",
         "1406",
         "1406",
         "1406",
         "1410",
         "1413",
         "1413",
         "1413",
         "1413",
         "1416",
         "1419",
         "1422",
         "1424",
         "1424",
         "1424",
         "1424",
         "1424",
         "1429",
         "1430",
         "1440",
         "1440",
         "1441",
         "1441",
         "1445",
         "1448",
         "1449",
         "1450",
         "1455",
         "1455",
         "1457",
         "1457",
         "1460",
         "1462",
         "1462",
         "1462",
         "1462",
         "1466",
         "1466",
         "1470",
         "1471",
         "1473",
         "1474",
         "1476",
         "1477",
         "1481",
         "1483",
         "1484",
         "1485",
         "1485",
         "1489",
         "1492",
         "1496",
         "1501",
         "1503",
         "1503",
         "1503",
         "1505",
         "1507",
         "1511",
         "1514",
         "1518",
         "1523",
         "1529",
         "1532",
         "1533",
         "1536",
         "1536",
         "1541",
         "1544",
         "1548",
         "1554",
         "1554",
         "1556",
         "1562",
         "1574",
         "1577",
         "1581",
         "1591",
         "1595",
         "1605",
         "1617",
         "1626",
         "1638",
         "1645",
         "1650",
         "1661",
         "1675",
         "1687",
         "1695",
         "1712",
         "1725",
         "1737",
         "1740",
         "1752",
         "1763",
         "1774",
         "1795",
         "1822",
         "1841",
         "1847",
         "1865",
         "1875",
         "1902",
         "1908",
         "1921",
         "1939",
         "1949",
         "1960",
         "1971",
         "1975",
         "2001",
         "2017",
         "2032",
         "2037",
         "2054",
         "2074",
         "2089",
         "2105",
         "2126",
         "2135",
         "2148",
         "2158",
         "2170",
         "2182",
         "2189",
         "2189",
         "2201",
         "2211",
         "2221",
         "2230",
         "2237",
         "2244",
         "2253",
         "2257",
         "2264",
         "2277",
         "2288",
         "2301",
         "2308",
         "2314",
         "2324",
         "2336",
         "2339",
         "2343",
         "2346",
         "2354",
         "2363",
         "2370",
         "2373",
         "2378",
         "2385",
         "2389",
         "2389",
         "2397",
         "2399",
         "2400",
         "2400",
         "2404",
         "2405",
         "2406",
         "2407",
         "2407",
         "2408",
         "2410",
         "2413",
         "2414",
         "2418",
         "2419",
         "2424",
         "2427",
         "2427",
         "2427",
         "2428",
         "2428",
         "2430",
         "2430",
         "2430",
         "2432",
         "2433",
         "2435",
         "2436",
         "2438",
         "2442",
         "2443",
         "2443",
         "2444",
         "2446",
         "2446",
         "2446",
         "2449",
         "2449",
         "2449",
         "2451",
         "2451",
         "2451",
         "2451",
         "2454",
         "2454",
         "2457",
         "2459",
         "2460",
         "2460",
         "2462",
         "2462",
         "2462",
         "2463",
         "2464",
         "2466",
         "2466",
         "2467",
         "2467",
         "2469",
         "2470",
         "2472",
         "2476",
         "2484",
         "2489",
         "2495",
         "2496",
         "2497",
         "2508",
         "2512",
         "2512",
         "2516",
         "2521",
         "2521",
         "2521",
         "2529",
         "2529",
         "2532",
         "2533",
         "2535",
         "2539",
         "2539",
         "2546",
         "2549",
         "2557",
         "2561",
         "2565",
         "2572",
         "2582",
         "2592",
         "2598",
         "2611",
         "2618",
         "2625",
         "2631",
         "2637",
         "2642",
         "2648",
         "2654",
         "2664",
         "2673",
         "2683",
         "2686",
         "2698",
         "2710",
         "2713",
         "2721",
         "2730",
         "2733",
         "2742",
         "2745",
         "2751",
         "2762",
         "2772",
         "2782",
         "2792",
         "2802",
         "2812",
         "2836",
         "2855",
         "2869",
         "2881",
         "2899",
         "2919",
         "2944",
         "2973",
         "3007",
         "3034",
         "3068",
         "3104",
         "3145",
         "3187",
         "3251",
         "3305",
         "3356",
         "3412",
         "3449",
         "3527",
         "3612",
         "3683",
         "3683",
         "3842",
         "3934",
         "4030",
         "4122",
         "4215",
         "4293",
         "4366",
         "4452",
         "4519",
         "4594",
         "4650",
         "4730",
         "4794",
         "4871",
         "4962",
         "5048",
         "5107",
         "5199",
         "5283",
         "5360",
         "5415",
         "5477",
         "5561",
         "5638",
         "5724",
         "5791",
         "5849",
         "5923",
         "5983",
         "6072",
         "6098",
         "6147",
         "6213",
         "6266",
         "6293",
         "6325",
         "6357",
         "6393",
         "6425",
         "6477",
         "6515",
         "6577",
         "6615",
         "6677",
         "6708",
         "6737",
         "6774",
         "6804",
         "6836",
         "6864",
         "6879",
         "6897",
         "6908",
         "6936",
         "6961",
         "6978",
         "6988",
         "7000",
         "7010",
         "7021",
         "7025",
         "7031",
         "7043",
         "7047",
         "7054",
         "7065",
         "7070",
         "7076",
         "7083",
         "7090",
         "7093",
         "7101",
         "7103",
         "7109",
         "7116",
         "7118",
         "7123",
         "7127",
         "7127",
         "7128",
         "7132",
         "7141",
         "7144",
         "7151",
         "7157",
         "7164",
         "7167",
         "7167",
         "7169",
         "7171",
         "7174",
         "7183",
         "7186",
         "7186",
         "7186",
         "7199",
         "7199",
         "7199",
         "7199",
         "7199",
         "7199",
         "7199",
         "7200",
         "7201",
         "7204",
         "7204",
         "7206",
         "7206",
         "7206",
         "7212",
         "7214",
         "7220",
         "7221",
         "7221",
         "7221",
         "7225",
         "7228",
         "7230",
         "7234",
         "7238",
         "7238",
         "7238",
         "7243",
         "7246",
         "7247",
         "7247",
         "7249",
         "7252",
         "7253",
         "7255",
         "7260",
         "7262",
         "7266",
         "7268",
         "7269",
         "7272",
         "7280",
         "7281",
         "7281",
         "7284",
         "7284",
         "7284",
         "7284",
         "7284",
         "7288",
         "7290",
         "7291",
         "7292",
         "7292",
         "7292",
         "7293",
         "7294",
         "7295",
         "7297",
         "7297",
         "7299",
         "7301",
         "7303",
         "7303",
         "7305",
         "7306",
         "7307",
         "7307",
         "7308",
         "7308",
         "7308",
         "7308",
         "7309",
         "7310",
         "7311",
         "7312",
         "7312",
         "7316",
         "7317",
         "7319",
         "7321",
         "7324",
         "7325",
         "7328",
         "7328",
         "7329",
         "7331",
         "7332",
         "7332",
         "7333",
         "7335",
         "7335",
         "7335",
         "7341",
         "7346",
         "7348",
         "7349",
         "7354",
         "7354",
         "7355",
         "7356",
         "7356",
         "7356",
         "7356",
         "7361",
         "7364",
         "7365",
         "7367",
         "7367",
         "7368",
         "7369",
         "7373",
         "7373",
         "7374",
         "7376",
         "7376",
         "7376",
         "7378",
         "7379",
         "7381",
         "7383",
         "7386",
         "7386",
         "7390",
         "7390",
         "7393",
         "7393",
         "7397",
         "7401",
         "7403",
         "7403",
         "7405",
         "7408",
         "7414",
         "7417",
         "7418",
         "7420",
         "7420",
         "7425",
         "7432",
         "7442",
         "7454",
         "7465",
         "7477",
         "7478",
         "7488",
         "7494",
         "7501",
         "7504",
         "7513",
         "7524",
         "7526",
         "7534",
         "7539",
         "7549",
         "7569",
         "7574",
         "7578",
         "7579",
         "7585",
         "7593",
         "7598",
         "7609",
         "7617",
         "7619",
         "7619",
         "7622",
         "7623",
         "7626",
         "7630",
         "7636",
         "7639",
         "7640",
         "7641",
         "7643",
         "7645",
         "7646",
         "7651",
         "7651",
         "7651",
         "7652",
         "7654",
         "7654",
         "7656",
         "7657",
         "7657",
         "7657",
         "7657",
         "7662",
         "7663",
         "7665",
         "7667",
         "7670",
         "7670",
         "7671",
         "7671",
         "7671",
         "7671",
         "7671",
         "7671",
         "7671",
         "7671",
         "7671",
         "7675",
         "7676",
         "7676",
         "7676",
         "7676",
         "7676",
         "7678",
         "7679",
         "7680",
         "7680",
         "7680",
         "7680",
         "7681",
         "7682",
         "7683",
         "7683",
         "7683",
         "7683",
         "7683",
         "7683",
         "7683",
         "7683",
         "7683",
         "7683",
         "7684",
         "7684",
         "7684",
         "7684",
         "7685",
         "7685",
         "7686",
         "7686",
         "7686",
         "7687",
         "7690",
         "7691",
         "7691",
         "7691",
         "7695",
         "7695",
         "7697",
         "7698",
         "7698",
         "7698",
         "7699",
         "7699",
         "7699",
         "7701",
         "7701",
         "7701",
         "7705",
         "7707",
         "7708",
         "7708",
         "7708",
         "7708",
         "7709",
         "7709",
         "7709",
         "7709",
         "7709",
         "7709",
         "7709",
         "7710",
         "7710",
         "7710",
         "7713",
         "7713",
         "7713",
         "7713",
         "7714",
         "7715",
         "7715",
         "7715",
         "7717",
         "7717",
         "7717",
         "7720",
         "7722",
         "7722",
         "7723",
         "7723",
         "7723",
         "7724",
         "7725",
         "7725",
         "7725",
         "7727",
         "7728",
         "7728",
         "7728",
         "7728",
         "7728",
         "7728",
         "7728",
         "7729",
         "7730",
         "7731",
         "7733",
         "7736",
         "7737",
         "7738",
         "7738",
         "7738",
         "7738",
         "7738",
         "7742",
         "7743",
         "7743",
         "7743",
         "7745",
         "7748",
         "7751",
         "7751",
         "7752",
         "7752",
         "7752",
         "7752",
         "7752",
         "7753",
         "7753",
         "7753",
         "7755",
         "7755",
         "7758",
         "7758",
         "7759",
         "7759",
         "7759",
         "7759",
         "7759",
         "7759",
         "7762",
         "7767",
         "7768",
         "7769",
         "7771",
         "7771",
         "7771",
         "7777",
         "7777",
         "7777",
         "7777",
         "7778",
         "7778",
         "7780",
         "7782",
         "7783",
         "7783",
         "7785",
         "7786",
         "7786",
         "7787",
         "7787",
         "7789",
         "7791",
         "7792",
         "7792",
         "7794",
         "7794",
         "7795",
         "7796",
         "7796",
         "7796",
         "7796",
         "7796",
         "7796",
         "7796",
         "7798",
         "7798",
         "7799",
         "7799",
         "7800",
         "7800",
         "7801",
         "7803",
         "7803",
         "7804",
         "7804",
         "7804",
         "7804",
         "7806",
         "7807",
         "7807",
         "7807",
         "7809",
         "7809",
         "7811",
         "7811",
         "7811",
         "7812",
         "7812",
         "7814",
         "7818",
         "7818",
         "7818",
         "7818",
         "7820",
         "7820",
         "7820",
         "7820",
         "7821",
         "7821",
         "7822",
         "7823",
         "7823",
         "7825",
         "7825",
         "7826",
         "7826",
         "7828",
         "7829",
         "7829",
         "7829",
         "7829",
         "7829",
         "7829",
         "7829",
         "7829",
         "7830",
         "7830",
         "7830",
         "7831",
         "7831",
         "7832",
         "7833",
         "7833",
         "7833",
         "7833",
         "7833",
         "7833",
         "7833",
         "7833",
         "7833",
         "7834",
         "7834",
         "7834",
         "7834",
         "7835",
         "7835",
         "7837",
         "7839",
         "7839",
         "7839",
         "7839",
         "7840",
         "7843",
         "7843",
         "7843",
         "7843",
         "7844",
         "7845",
         "7845",
         "7845",
         "7845",
         "7845",
         "7845",
         "7845",
         "7846",
         "7846",
         "7846",
         "7846",
         "7847",
         "7847",
         "7849",
         "7849",
         "7849",
         "7850",
         "7850",
         "7850",
         "7850",
         "7850",
         "7853",
         "7854",
         "7854",
         "7854",
         "7854",
         "7854",
         "7854",
         "7854",
         "7857",
         "7859",
         "7860",
         "7864",
         "7864",
         "7864",
         "7864",
         "7870",
         "7871",
         "7872",
         "7872",
         "7875",
         "7876",
         "7876",
         "7879",
         "7882",
         "7882",
         "7891",
         "7891",
         "7894",
         "7896",
         "7896",
         "7896",
         "7896",
         "7896",
         "7896",
         "7896",
         "7896",
         "7896",
         "7896",
         "7896",
         "7896",
         "7896",
         "7896",
         "7896",
         "7896",
         "7896",
         "7896",
         "7896",
         "7896",
         "7896",
         "7896",
         "7896",
         "7896",
         "7896",
         "7896",
         "7896",
         "7896",
         "7896",
         "7896",
         "7896",
         "7896",
         "7896"
        ],
        [
         "1",
         null,
         "Albania",
         "41.1533",
         "20.1683",
         "0",
         "0",
         "0",
         "0",
         "0",
         "0",
         "0",
         "0",
         "0",
         "0",
         "0",
         "0",
         "0",
         "0",
         "0",
         "0",
         "0",
         "0",
         "0",
         "0",
         "0",
         "0",
         "0",
         "0",
         "0",
         "0",
         "0",
         "0",
         "0",
         "0",
         "0",
         "0",
         "0",
         "0",
         "0",
         "0",
         "0",
         "0",
         "0",
         "0",
         "0",
         "0",
         "0",
         "0",
         "0",
         "0",
         "0",
         "0",
         "0",
         "1",
         "1",
         "1",
         "1",
         "1",
         "1",
         "1",
         "2",
         "2",
         "2",
         "2",
         "2",
         "4",
         "5",
         "5",
         "6",
         "8",
         "10",
         "10",
         "11",
         "15",
         "15",
         "16",
         "17",
         "20",
         "20",
         "21",
         "22",
         "22",
         "23",
         "23",
         "23",
         "23",
         "23",
         "24",
         "25",
         "26",
         "26",
         "26",
         "26",
         "26",
         "26",
         "27",
         "27",
         "27",
         "27",
         "28",
         "28",
         "30",
         "30",
         "31",
         "31",
         "31",
         "31",
         "31",
         "31",
         "31",
         "31",
         "31",
         "31",
         "31",
         "31",
         "31",
         "31",
         "31",
         "31",
         "31",
         "31",
         "31",
         "31",
         "31",
         "31",
         "31",
         "31",
         "32",
         "32",
         "33",
         "33",
         "33",
         "33",
         "33",
         "33",
         "33",
         "33",
         "33",
         "33",
         "33",
         "34",
         "34",
         "34",
         "34",
         "34",
         "35",
         "36",
         "36",
         "36",
         "36",
         "37",
         "38",
         "39",
         "42",
         "43",
         "44",
         "44",
         "45",
         "47",
         "49",
         "51",
         "53",
         "55",
         "58",
         "62",
         "65",
         "69",
         "72",
         "74",
         "76",
         "79",
         "81",
         "83",
         "83",
         "85",
         "89",
         "93",
         "95",
         "97",
         "101",
         "104",
         "107",
         "111",
         "112",
         "113",
         "117",
         "120",
         "123",
         "128",
         "134",
         "138",
         "144",
         "148",
         "150",
         "154",
         "157",
         "161",
         "166",
         "172",
         "176",
         "182",
         "188",
         "189",
         "193",
         "199",
         "200",
         "205",
         "208",
         "213",
         "219",
         "225",
         "228",
         "230",
         "232",
         "234",
         "238",
         "240",
         "245",
         "250",
         "254",
         "259",
         "263",
         "266",
         "271",
         "275",
         "280",
         "284",
         "290",
         "296",
         "301",
         "306",
         "312",
         "316",
         "319",
         "321",
         "322",
         "324",
         "327",
         "330",
         "334",
         "338",
         "340",
         "343",
         "347",
         "353",
         "358",
         "362",
         "364",
         "367",
         "370",
         "370",
         "373",
         "375",
         "377",
         "380",
         "384",
         "387",
         "388",
         "389",
         "392",
         "396",
         "400",
         "403",
         "407",
         "411",
         "413",
         "416",
         "420",
         "424",
         "429",
         "434",
         "439",
         "443",
         "448",
         "451",
         "454",
         "458",
         "462",
         "465",
         "469",
         "473",
         "477",
         "480",
         "487",
         "493",
         "499",
         "502",
         "509",
         "518",
         "527",
         "532",
         "536",
         "543",
         "549",
         "557",
         "559",
         "571",
         "579",
         "590",
         "598",
         "605",
         "612",
         "623",
         "631",
         "637",
         "646",
         "657",
         "672",
         "685",
         "699",
         "716",
         "735",
         "743",
         "753",
         "771",
         "787",
         "798",
         "810",
         "822",
         "839",
         "852",
         "870",
         "889",
         "905",
         "922",
         "936",
         "951",
         "965",
         "977",
         "989",
         "1003",
         "1016",
         "1028",
         "1040",
         "1055",
         "1066",
         "1074",
         "1088",
         "1098",
         "1111",
         "1117",
         "1125",
         "1134",
         "1143",
         "1153",
         "1164",
         "1170",
         "1174",
         "1181",
         "1181",
         "1190",
         "1193",
         "1199",
         "1210",
         "1217",
         "1223",
         "1230",
         "1233",
         "1241",
         "1247",
         "1252",
         "1256",
         "1261",
         "1265",
         "1270",
         "1277",
         "1281",
         "1287",
         "1291",
         "1296",
         "1303",
         "1310",
         "1315",
         "1324",
         "1332",
         "1339",
         "1350",
         "1358",
         "1369",
         "1380",
         "1393",
         "1398",
         "1404",
         "1418",
         "1433",
         "1446",
         "1460",
         "1472",
         "1488",
         "1503",
         "1517",
         "1531",
         "1543",
         "1555",
         "1567",
         "1582",
         "1600",
         "1617",
         "1636",
         "1653",
         "1666",
         "1681",
         "1696",
         "1715",
         "1736",
         "1756",
         "1775",
         "1796",
         "1816",
         "1835",
         "1856",
         "1876",
         "1897",
         "1918",
         "1939",
         "1956",
         "1969",
         "1986",
         "2002",
         "2018",
         "2030",
         "2045",
         "2060",
         "2077",
         "2092",
         "2106",
         "2122",
         "2133",
         "2137",
         "2145",
         "2156",
         "2171",
         "2184",
         "2192",
         "2204",
         "2210",
         "2216",
         "2227",
         "2235",
         "2241",
         "2247",
         "2256",
         "2265",
         "2274",
         "2283",
         "2291",
         "2297",
         "2304",
         "2310",
         "2317",
         "2321",
         "2326",
         "2331",
         "2335",
         "2337",
         "2340",
         "2342",
         "2347",
         "2353",
         "2358",
         "2364",
         "2367",
         "2372",
         "2378",
         "2379",
         "2383",
         "2386",
         "2389",
         "2394",
         "2396",
         "2397",
         "2399",
         "2402",
         "2403",
         "2406",
         "2408",
         "2411",
         "2412",
         "2416",
         "2420",
         "2423",
         "2426",
         "2427",
         "2429",
         "2432",
         "2435",
         "2436",
         "2438",
         "2440",
         "2441",
         "2442",
         "2444",
         "2445",
         "2447",
         "2447",
         "2447",
         "2448",
         "2449",
         "2450",
         "2451",
         "2451",
         "2451",
         "2451",
         "2451",
         "2451",
         "2451",
         "2452",
         "2452",
         "2452",
         "2452",
         "2453",
         "2453",
         "2453",
         "2453",
         "2454",
         "2454",
         "2454",
         "2454",
         "2454",
         "2454",
         "2454",
         "2455",
         "2455",
         "2455",
         "2455",
         "2456",
         "2456",
         "2456",
         "2456",
         "2456",
         "2456",
         "2456",
         "2456",
         "2456",
         "2456",
         "2456",
         "2456",
         "2456",
         "2456",
         "2456",
         "2456",
         "2456",
         "2456",
         "2456",
         "2456",
         "2456",
         "2456",
         "2456",
         "2456",
         "2456",
         "2456",
         "2456",
         "2456",
         "2456",
         "2456",
         "2456",
         "2456",
         "2457",
         "2457",
         "2457",
         "2457",
         "2457",
         "2457",
         "2457",
         "2457",
         "2457",
         "2458",
         "2459",
         "2459",
         "2460",
         "2460",
         "2460",
         "2460",
         "2461",
         "2463",
         "2464",
         "2466",
         "2468",
         "2471",
         "2473",
         "2475",
         "2477",
         "2478",
         "2478",
         "2480",
         "2483",
         "2486",
         "2487",
         "2490",
         "2492",
         "2495",
         "2498",
         "2501",
         "2505",
         "2508",
         "2512",
         "2515",
         "2519",
         "2523",
         "2528",
         "2531",
         "2535",
         "2539",
         "2543",
         "2548",
         "2553",
         "2557",
         "2563",
         "2569",
         "2574",
         "2580",
         "2587",
         "2594",
         "2601",
         "2609",
         "2619",
         "2629",
         "2640",
         "2653",
         "2668",
         "2685",
         "2698",
         "2705",
         "2710",
         "2713",
         "2713",
         "2725",
         "2734",
         "2746",
         "2753",
         "2759",
         "2768",
         "2777",
         "2783",
         "2788",
         "2797",
         "2807",
         "2810",
         "2820",
         "2829",
         "2841",
         "2849",
         "2855",
         "2863",
         "2870",
         "2874",
         "2880",
         "2888",
         "2893",
         "2902",
         "2909",
         "2916",
         "2924",
         "2931",
         "2937",
         "2940",
         "2944",
         "2948",
         "2948",
         "2955",
         "2966",
         "2970",
         "2975",
         "2978",
         "2983",
         "2986",
         "2990",
         "2997",
         "3004",
         "3014",
         "3022",
         "3029",
         "3035",
         "3035",
         "3049",
         "3053",
         "3063",
         "3068",
         "3077",
         "3085",
         "3089",
         "3092",
         "3096",
         "3101",
         "3104",
         "3108",
         "3109",
         "3110",
         "3115",
         "3122",
         "3126",
         "3128",
         "3130",
         "3132",
         "3134",
         "3140",
         "3144",
         "3152",
         "3156",
         "3158",
         "3161",
         "3166",
         "3172",
         "3178",
         "3180",
         "3181",
         "3187",
         "3189",
         "3194",
         "3194",
         "3207",
         "3212",
         "3212",
         "3217",
         "3217",
         "3220",
         "3220",
         "3224",
         "3224",
         "3228",
         "3233",
         "3233",
         "3240",
         "3241",
         "3247",
         "3253",
         "3255",
         "3262",
         "3265",
         "3269",
         "3271",
         "3277",
         "3283",
         "3286",
         "3292",
         "3297",
         "3305",
         "3305",
         "3312",
         "3317",
         "3323",
         "3329",
         "3329",
         "3334",
         "3346",
         "3346",
         "3362",
         "3362",
         "3371",
         "3371",
         "3380",
         "3387",
         "3393",
         "3399",
         "3402",
         "3402",
         "3407",
         "3410",
         "3414",
         "3420",
         "3423",
         "3430",
         "3432",
         "3433",
         "3438",
         "3445",
         "3451",
         "3453",
         "3457",
         "3458",
         "3458",
         "3464",
         "3469",
         "3472",
         "3474",
         "3474",
         "3478",
         "3478",
         "3482",
         "3483",
         "3483",
         "3483",
         "3484",
         "3485",
         "3485",
         "3485",
         "3485",
         "3486",
         "3487",
         "3487",
         "3487",
         "3487",
         "3487",
         "3487",
         "3489",
         "3489",
         "3489",
         "3490",
         "3491",
         "3491",
         "3491",
         "3492",
         "3492",
         "3492",
         "3492",
         "3492",
         "3492",
         "3492",
         "3492",
         "3492",
         "3492",
         "3492",
         "3492",
         "3493",
         "3493",
         "3494",
         "3494",
         "3495",
         "3495",
         "3496",
         "3496",
         "3496",
         "3496",
         "3496",
         "3496",
         "3496",
         "3496",
         "3496",
         "3496",
         "3496",
         "3496",
         "3496",
         "3496",
         "3496",
         "3496",
         "3496",
         "3496",
         "3496",
         "3496",
         "3496",
         "3496",
         "3497",
         "3497",
         "3497",
         "3497",
         "3497",
         "3497",
         "3497",
         "3497",
         "3497",
         "3497",
         "3497",
         "3497",
         "3497",
         "3497",
         "3497",
         "3497",
         "3497",
         "3497",
         "3497",
         "3497",
         "3497",
         "3497",
         "3497",
         "3497",
         "3497",
         "3497",
         "3497",
         "3497",
         "3497",
         "3497",
         "3497",
         "3497",
         "3497",
         "3497",
         "3497",
         "3497",
         "3497",
         "3497",
         "3497",
         "3497",
         "3497",
         "3497",
         "3497",
         "3497",
         "3497",
         "3497",
         "3497",
         "3497",
         "3497",
         "3497",
         "3497",
         "3498",
         "3499",
         "3500",
         "3501",
         "3501",
         "3502",
         "3502",
         "3502",
         "3506",
         "3508",
         "3510",
         "3512",
         "3514",
         "3514",
         "3516",
         "3517",
         "3517",
         "3517",
         "3517",
         "3517",
         "3518",
         "3520",
         "3521",
         "3521",
         "3523",
         "3525",
         "3527",
         "3529",
         "3532",
         "3535",
         "3538",
         "3541",
         "3543",
         "3545",
         "3548",
         "3550",
         "3551",
         "3554",
         "3557",
         "3560",
         "3563",
         "3566",
         "3566",
         "3567",
         "3568",
         "3569",
         "3570",
         "3571",
         "3571",
         "3573",
         "3574",
         "3574",
         "3575",
         "3576",
         "3576",
         "3576",
         "3577",
         "3578",
         "3579",
         "3580",
         "3581",
         "3581",
         "3581",
         "3582",
         "3582",
         "3583",
         "3583",
         "3583",
         "3583",
         "3583",
         "3583",
         "3584",
         "3584",
         "3584",
         "3584",
         "3584",
         "3585",
         "3586",
         "3586",
         "3586",
         "3586",
         "3586",
         "3586",
         "3588",
         "3589",
         "3589",
         "3589",
         "3589",
         "3589",
         "3589",
         "3589",
         "3589",
         "3589",
         "3589",
         "3589",
         "3589",
         "3589",
         "3589",
         "3589",
         "3589",
         "3589",
         "3589",
         "3589",
         "3589",
         "3589",
         "3590",
         "3591",
         "3591",
         "3591",
         "3591",
         "3591",
         "3592",
         "3592",
         "3592",
         "3592",
         "3592",
         "3592",
         "3592",
         "3592",
         "3592",
         "3593",
         "3593",
         "3593",
         "3593",
         "3593",
         "3593",
         "3593",
         "3593",
         "3593",
         "3593",
         "3593",
         "3593",
         "3593",
         "3593",
         "3593",
         "3593",
         "3593",
         "3593",
         "3593",
         "3594",
         "3594",
         "3594",
         "3594",
         "3594",
         "3594",
         "3594",
         "3594",
         "3594",
         "3594",
         "3594",
         "3594",
         "3594",
         "3594",
         "3594",
         "3594",
         "3594",
         "3594",
         "3594",
         "3594",
         "3594",
         "3594",
         "3594",
         "3594",
         "3594",
         "3594",
         "3594",
         "3594",
         "3594",
         "3594",
         "3594",
         "3594",
         "3594",
         "3594",
         "3594",
         "3594",
         "3594",
         "3594",
         "3594",
         "3595",
         "3595",
         "3595",
         "3595",
         "3595",
         "3595",
         "3595",
         "3595",
         "3595",
         "3595",
         "3595",
         "3596",
         "3596",
         "3596",
         "3596",
         "3596",
         "3596",
         "3596",
         "3596",
         "3596",
         "3596",
         "3596",
         "3596",
         "3596",
         "3596",
         "3596",
         "3596",
         "3596",
         "3596",
         "3596",
         "3596",
         "3596",
         "3596",
         "3596",
         "3596",
         "3596",
         "3596",
         "3596",
         "3596",
         "3596",
         "3596",
         "3596",
         "3596",
         "3596",
         "3596",
         "3596",
         "3596",
         "3596",
         "3596",
         "3596",
         "3596",
         "3596",
         "3596",
         "3596",
         "3596",
         "3596",
         "3596",
         "3596",
         "3596",
         "3596",
         "3596",
         "3598",
         "3598",
         "3598",
         "3598",
         "3598",
         "3598",
         "3598",
         "3598",
         "3598",
         "3598",
         "3598",
         "3598",
         "3598",
         "3598",
         "3598",
         "3598"
        ],
        [
         "2",
         null,
         "Algeria",
         "28.0339",
         "1.6596",
         "0",
         "0",
         "0",
         "0",
         "0",
         "0",
         "0",
         "0",
         "0",
         "0",
         "0",
         "0",
         "0",
         "0",
         "0",
         "0",
         "0",
         "0",
         "0",
         "0",
         "0",
         "0",
         "0",
         "0",
         "0",
         "0",
         "0",
         "0",
         "0",
         "0",
         "0",
         "0",
         "0",
         "0",
         "0",
         "0",
         "0",
         "0",
         "0",
         "0",
         "0",
         "0",
         "0",
         "0",
         "0",
         "0",
         "0",
         "0",
         "0",
         "0",
         "1",
         "2",
         "3",
         "4",
         "4",
         "4",
         "7",
         "9",
         "11",
         "15",
         "17",
         "17",
         "19",
         "21",
         "25",
         "26",
         "29",
         "31",
         "35",
         "44",
         "58",
         "86",
         "105",
         "130",
         "152",
         "173",
         "193",
         "205",
         "235",
         "256",
         "275",
         "293",
         "313",
         "326",
         "336",
         "348",
         "364",
         "367",
         "375",
         "384",
         "392",
         "402",
         "407",
         "415",
         "419",
         "425",
         "432",
         "437",
         "444",
         "450",
         "453",
         "459",
         "463",
         "465",
         "470",
         "476",
         "483",
         "488",
         "494",
         "502",
         "507",
         "515",
         "522",
         "529",
         "536",
         "542",
         "548",
         "555",
         "561",
         "568",
         "575",
         "582",
         "592",
         "600",
         "609",
         "617",
         "623",
         "630",
         "638",
         "646",
         "653",
         "661",
         "667",
         "673",
         "681",
         "690",
         "698",
         "707",
         "715",
         "724",
         "732",
         "741",
         "751",
         "760",
         "767",
         "777",
         "788",
         "799",
         "811",
         "825",
         "837",
         "845",
         "852",
         "861",
         "869",
         "878",
         "885",
         "892",
         "897",
         "905",
         "912",
         "920",
         "928",
         "937",
         "946",
         "952",
         "959",
         "968",
         "978",
         "988",
         "996",
         "1004",
         "1011",
         "1018",
         "1028",
         "1040",
         "1052",
         "1057",
         "1068",
         "1078",
         "1087",
         "1100",
         "1111",
         "1124",
         "1136",
         "1146",
         "1155",
         "1163",
         "1174",
         "1186",
         "1200",
         "1210",
         "1223",
         "1231",
         "1239",
         "1248",
         "1261",
         "1273",
         "1282",
         "1293",
         "1302",
         "1312",
         "1322",
         "1333",
         "1341",
         "1351",
         "1360",
         "1370",
         "1379",
         "1391",
         "1402",
         "1411",
         "1418",
         "1424",
         "1435",
         "1446",
         "1456",
         "1465",
         "1475",
         "1483",
         "1491",
         "1501",
         "1510",
         "1518",
         "1523",
         "1529",
         "1539",
         "1549",
         "1556",
         "1562",
         "1571",
         "1581",
         "1591",
         "1599",
         "1605",
         "1612",
         "1620",
         "1632",
         "1645",
         "1654",
         "1659",
         "1665",
         "1672",
         "1679",
         "1689",
         "1698",
         "1703",
         "1707",
         "1711",
         "1714",
         "1719",
         "1726",
         "1736",
         "1741",
         "1749",
         "1756",
         "1760",
         "1768",
         "1768",
         "1771",
         "1783",
         "1789",
         "1795",
         "1801",
         "1809",
         "1818",
         "1827",
         "1827",
         "1841",
         "1846",
         "1856",
         "1865",
         "1873",
         "1880",
         "1888",
         "1897",
         "1907",
         "1914",
         "1922",
         "1931",
         "1941",
         "1949",
         "1956",
         "1964",
         "1973",
         "1980",
         "1980",
         "1999",
         "2011",
         "2024",
         "2036",
         "2048",
         "2062",
         "2077",
         "2093",
         "2111",
         "2124",
         "2139",
         "2154",
         "2168",
         "2186",
         "2206",
         "2224",
         "2236",
         "2255",
         "2272",
         "2294",
         "2309",
         "2329",
         "2352",
         "2372",
         "2393",
         "2410",
         "2431",
         "2447",
         "2464",
         "2480",
         "2492",
         "2501",
         "2516",
         "2527",
         "2539",
         "2554",
         "2564",
         "2575",
         "2584",
         "2596",
         "2609",
         "2623",
         "2631",
         "2640",
         "2647",
         "2659",
         "2666",
         "2675",
         "2687",
         "2696",
         "2705",
         "2716",
         "2722",
         "2728",
         "2737",
         "2745",
         "2751",
         "2756",
         "2762",
         "2769",
         "2772",
         "2777",
         "2782",
         "2786",
         "2792",
         "2798",
         "2803",
         "2807",
         "2812",
         "2816",
         "2819",
         "2822",
         "2827",
         "2831",
         "2836",
         "2840",
         "2843",
         "2849",
         "2853",
         "2856",
         "2861",
         "2863",
         "2866",
         "2871",
         "2877",
         "2881",
         "2884",
         "2888",
         "2891",
         "2894",
         "2898",
         "2900",
         "2904",
         "2909",
         "2909",
         "2914",
         "2918",
         "2924",
         "2926",
         "2930",
         "2932",
         "2935",
         "2939",
         "2943",
         "2945",
         "2947",
         "2950",
         "2954",
         "2958",
         "2961",
         "2964",
         "2967",
         "2970",
         "2973",
         "2977",
         "2979",
         "2983",
         "2987",
         "2991",
         "2996",
         "3002",
         "3007",
         "3010",
         "3013",
         "3018",
         "3022",
         "3026",
         "3028",
         "3031",
         "3034",
         "3036",
         "3040",
         "3045",
         "3048",
         "3051",
         "3053",
         "3055",
         "3057",
         "3061",
         "3066",
         "3069",
         "3071",
         "3074",
         "3077",
         "3080",
         "3084",
         "3089",
         "3093",
         "3096",
         "3099",
         "3102",
         "3105",
         "3108",
         "3112",
         "3116",
         "3119",
         "3123",
         "3126",
         "3130",
         "3134",
         "3137",
         "3141",
         "3144",
         "3148",
         "3152",
         "3155",
         "3160",
         "3165",
         "3172",
         "3181",
         "3190",
         "3198",
         "3207",
         "3217",
         "3225",
         "3234",
         "3244",
         "3253",
         "3261",
         "3270",
         "3280",
         "3289",
         "3299",
         "3307",
         "3315",
         "3321",
         "3328",
         "3335",
         "3343",
         "3350",
         "3355",
         "3360",
         "3366",
         "3374",
         "3381",
         "3388",
         "3395",
         "3401",
         "3405",
         "3411",
         "3418",
         "3426",
         "3433",
         "3440",
         "3448",
         "3455",
         "3460",
         "3465",
         "3472",
         "3480",
         "3490",
         "3497",
         "3504",
         "3510",
         "3518",
         "3527",
         "3537",
         "3544",
         "3552",
         "3560",
         "3565",
         "3571",
         "3579",
         "3588",
         "3598",
         "3605",
         "3615",
         "3624",
         "3631",
         "3641",
         "3650",
         "3660",
         "3669",
         "3678",
         "3685",
         "3693",
         "3699",
         "3708",
         "3716",
         "3726",
         "3735",
         "3745",
         "3755",
         "3765",
         "3775",
         "3786",
         "3798",
         "3811",
         "3824",
         "3836",
         "3851",
         "3867",
         "3882",
         "3895",
         "3910",
         "3922",
         "3938",
         "3956",
         "3979",
         "3994",
         "4008",
         "4026",
         "4042",
         "4063",
         "4087",
         "4112",
         "4161",
         "4189",
         "4219",
         "4254",
         "4291",
         "4329",
         "4370",
         "4404",
         "4441",
         "4487",
         "4520",
         "4550",
         "4578",
         "4618",
         "4654",
         "4695",
         "4730",
         "4766",
         "4794",
         "4830",
         "4867",
         "4898",
         "4929",
         "4957",
         "4984",
         "5004",
         "5034",
         "5063",
         "5096",
         "5121",
         "5148",
         "5179",
         "5209",
         "5240",
         "5269",
         "5302",
         "5339",
         "5373",
         "5399",
         "5420",
         "5445",
         "5471",
         "5489",
         "5519",
         "5539",
         "5558",
         "5578",
         "5596",
         "5614",
         "5630",
         "5651",
         "5670",
         "5681",
         "5694",
         "5709",
         "5725",
         "5739",
         "5748",
         "5758",
         "5767",
         "5777",
         "5786",
         "5797",
         "5805",
         "5812",
         "5815",
         "5819",
         "5822",
         "5826",
         "5831",
         "5838",
         "5843",
         "5846",
         "5850",
         "5853",
         "5855",
         "5859",
         "5862",
         "5864",
         "5867",
         "5870",
         "5872",
         "5873",
         "5875",
         "5878",
         "5881",
         "5883",
         "5886",
         "5890",
         "5894",
         "5899",
         "5904",
         "5907",
         "5913",
         "5918",
         "5920",
         "5924",
         "5927",
         "5931",
         "5936",
         "5939",
         "5941",
         "5945",
         "5950",
         "5954",
         "5960",
         "5966",
         "5971",
         "5977",
         "5984",
         "5991",
         "5997",
         "6005",
         "6009",
         "6015",
         "6017",
         "6021",
         "6026",
         "6030",
         "6035",
         "6041",
         "6046",
         "6052",
         "6058",
         "6064",
         "6071",
         "6076",
         "6083",
         "6089",
         "6096",
         "6103",
         "6111",
         "6114",
         "6122",
         "6126",
         "6132",
         "6137",
         "6145",
         "6151",
         "6155",
         "6165",
         "6171",
         "6175",
         "6180",
         "6184",
         "6190",
         "6198",
         "6205",
         "6213",
         "6222",
         "6229",
         "6238",
         "6246",
         "6254",
         "6263",
         "6271",
         "6276",
         "6284",
         "6291",
         "6298",
         "6303",
         "6310",
         "6318",
         "6325",
         "6330",
         "6339",
         "6349",
         "6363",
         "6372",
         "6383",
         "6393",
         "6404",
         "6412",
         "6423",
         "6435",
         "6443",
         "6453",
         "6468",
         "6481",
         "6495",
         "6508",
         "6516",
         "6526",
         "6539",
         "6545",
         "6555",
         "6566",
         "6579",
         "6593",
         "6604",
         "6618",
         "6631",
         "6640",
         "6646",
         "6654",
         "6667",
         "6678",
         "6690",
         "6703",
         "6715",
         "6729",
         "6744",
         "6753",
         "6762",
         "6772",
         "6780",
         "6787",
         "6797",
         "6805",
         "6812",
         "6816",
         "6820",
         "6823",
         "6828",
         "6831",
         "6835",
         "6840",
         "6843",
         "6848",
         "6852",
         "6853",
         "6855",
         "6857",
         "6858",
         "6860",
         "6861",
         "6861",
         "6862",
         "6864",
         "6866",
         "6868",
         "6869",
         "6870",
         "6871",
         "6871",
         "6871",
         "6872",
         "6873",
         "6873",
         "6873",
         "6873",
         "6873",
         "6873",
         "6873",
         "6874",
         "6874",
         "6874",
         "6874",
         "6874",
         "6874",
         "6874",
         "6874",
         "6874",
         "6874",
         "6874",
         "6874",
         "6874",
         "6874",
         "6874",
         "6874",
         "6874",
         "6874",
         "6874",
         "6874",
         "6874",
         "6874",
         "6874",
         "6874",
         "6874",
         "6874",
         "6875",
         "6875",
         "6875",
         "6875",
         "6875",
         "6875",
         "6875",
         "6875",
         "6875",
         "6875",
         "6875",
         "6875",
         "6875",
         "6875",
         "6875",
         "6875",
         "6875",
         "6875",
         "6875",
         "6875",
         "6875",
         "6875",
         "6875",
         "6875",
         "6875",
         "6875",
         "6875",
         "6875",
         "6875",
         "6875",
         "6875",
         "6875",
         "6875",
         "6875",
         "6875",
         "6875",
         "6875",
         "6875",
         "6875",
         "6875",
         "6875",
         "6875",
         "6875",
         "6875",
         "6875",
         "6875",
         "6875",
         "6875",
         "6875",
         "6875",
         "6875",
         "6875",
         "6875",
         "6875",
         "6875",
         "6875",
         "6875",
         "6875",
         "6875",
         "6875",
         "6875",
         "6875",
         "6875",
         "6875",
         "6875",
         "6875",
         "6875",
         "6875",
         "6875",
         "6875",
         "6875",
         "6875",
         "6875",
         "6875",
         "6875",
         "6875",
         "6875",
         "6875",
         "6875",
         "6875",
         "6875",
         "6875",
         "6875",
         "6875",
         "6875",
         "6875",
         "6875",
         "6875",
         "6875",
         "6875",
         "6875",
         "6876",
         "6876",
         "6876",
         "6876",
         "6876",
         "6876",
         "6876",
         "6876",
         "6876",
         "6876",
         "6876",
         "6877",
         "6878",
         "6878",
         "6878",
         "6878",
         "6878",
         "6878",
         "6878",
         "6878",
         "6878",
         "6878",
         "6878",
         "6878",
         "6878",
         "6878",
         "6878",
         "6878",
         "6878",
         "6878",
         "6878",
         "6878",
         "6878",
         "6878",
         "6878",
         "6878",
         "6878",
         "6878",
         "6878",
         "6878",
         "6878",
         "6878",
         "6879",
         "6879",
         "6879",
         "6879",
         "6879",
         "6879",
         "6879",
         "6879",
         "6879",
         "6879",
         "6879",
         "6879",
         "6879",
         "6879",
         "6879",
         "6879",
         "6879",
         "6879",
         "6879",
         "6879",
         "6879",
         "6879",
         "6879",
         "6879",
         "6879",
         "6879",
         "6879",
         "6879",
         "6879",
         "6879",
         "6879",
         "6879",
         "6881",
         "6881",
         "6881",
         "6881",
         "6881",
         "6881",
         "6881",
         "6881",
         "6881",
         "6881",
         "6881",
         "6881",
         "6881",
         "6881",
         "6881",
         "6881",
         "6881",
         "6881",
         "6881",
         "6881",
         "6881",
         "6881",
         "6881",
         "6881",
         "6881",
         "6881",
         "6881",
         "6881",
         "6881",
         "6881",
         "6881",
         "6881",
         "6881",
         "6881",
         "6881",
         "6881",
         "6881",
         "6881",
         "6881",
         "6881",
         "6881",
         "6881",
         "6881",
         "6881",
         "6881",
         "6881",
         "6881",
         "6881",
         "6881",
         "6881",
         "6881",
         "6881",
         "6881",
         "6881",
         "6881",
         "6881",
         "6881",
         "6881",
         "6881",
         "6881",
         "6881",
         "6881",
         "6881",
         "6881",
         "6881",
         "6881",
         "6881",
         "6881",
         "6881",
         "6881",
         "6881",
         "6881",
         "6881",
         "6881",
         "6881",
         "6881",
         "6881",
         "6881",
         "6881",
         "6881",
         "6881",
         "6881",
         "6881",
         "6881",
         "6881",
         "6881",
         "6881",
         "6881",
         "6881",
         "6881",
         "6881",
         "6881",
         "6881",
         "6881",
         "6881",
         "6881",
         "6881",
         "6881",
         "6881",
         "6881",
         "6881",
         "6881",
         "6881",
         "6881",
         "6881",
         "6881",
         "6881",
         "6881",
         "6881",
         "6881",
         "6881",
         "6881",
         "6881",
         "6881",
         "6881",
         "6881",
         "6881",
         "6881",
         "6881",
         "6881",
         "6881",
         "6881",
         "6881",
         "6881",
         "6881",
         "6881",
         "6881",
         "6881",
         "6881",
         "6881",
         "6881",
         "6881",
         "6881",
         "6881",
         "6881",
         "6881",
         "6881",
         "6881",
         "6881",
         "6881",
         "6881",
         "6881",
         "6881",
         "6881",
         "6881",
         "6881",
         "6881",
         "6881",
         "6881",
         "6881",
         "6881",
         "6881",
         "6881",
         "6881",
         "6881"
        ],
        [
         "3",
         null,
         "Andorra",
         "42.5063",
         "1.5218",
         "0",
         "0",
         "0",
         "0",
         "0",
         "0",
         "0",
         "0",
         "0",
         "0",
         "0",
         "0",
         "0",
         "0",
         "0",
         "0",
         "0",
         "0",
         "0",
         "0",
         "0",
         "0",
         "0",
         "0",
         "0",
         "0",
         "0",
         "0",
         "0",
         "0",
         "0",
         "0",
         "0",
         "0",
         "0",
         "0",
         "0",
         "0",
         "0",
         "0",
         "0",
         "0",
         "0",
         "0",
         "0",
         "0",
         "0",
         "0",
         "0",
         "0",
         "0",
         "0",
         "0",
         "0",
         "0",
         "0",
         "0",
         "0",
         "0",
         "0",
         "1",
         "1",
         "1",
         "1",
         "3",
         "3",
         "3",
         "6",
         "8",
         "12",
         "14",
         "15",
         "16",
         "17",
         "18",
         "21",
         "22",
         "23",
         "25",
         "26",
         "26",
         "29",
         "29",
         "31",
         "33",
         "33",
         "35",
         "35",
         "36",
         "37",
         "37",
         "37",
         "37",
         "40",
         "40",
         "40",
         "40",
         "41",
         "42",
         "42",
         "43",
         "44",
         "45",
         "45",
         "46",
         "46",
         "47",
         "47",
         "48",
         "48",
         "48",
         "48",
         "49",
         "49",
         "49",
         "51",
         "51",
         "51",
         "51",
         "51",
         "51",
         "51",
         "51",
         "51",
         "51",
         "51",
         "51",
         "51",
         "51",
         "51",
         "51",
         "51",
         "51",
         "51",
         "51",
         "51",
         "51",
         "51",
         "51",
         "51",
         "51",
         "51",
         "51",
         "51",
         "51",
         "51",
         "52",
         "52",
         "52",
         "52",
         "52",
         "52",
         "52",
         "52",
         "52",
         "52",
         "52",
         "52",
         "52",
         "52",
         "52",
         "52",
         "52",
         "52",
         "52",
         "52",
         "52",
         "52",
         "52",
         "52",
         "52",
         "52",
         "52",
         "52",
         "52",
         "52",
         "52",
         "52",
         "52",
         "52",
         "52",
         "52",
         "52",
         "52",
         "52",
         "52",
         "52",
         "52",
         "52",
         "52",
         "52",
         "52",
         "52",
         "52",
         "52",
         "52",
         "52",
         "52",
         "52",
         "52",
         "52",
         "52",
         "52",
         "53",
         "53",
         "53",
         "53",
         "53",
         "53",
         "53",
         "53",
         "53",
         "53",
         "53",
         "53",
         "53",
         "53",
         "53",
         "53",
         "53",
         "53",
         "53",
         "53",
         "53",
         "53",
         "53",
         "53",
         "53",
         "53",
         "53",
         "53",
         "53",
         "53",
         "53",
         "53",
         "53",
         "53",
         "53",
         "53",
         "53",
         "53",
         "53",
         "53",
         "53",
         "53",
         "53",
         "53",
         "53",
         "53",
         "53",
         "53",
         "53",
         "53",
         "53",
         "53",
         "53",
         "53",
         "53",
         "53",
         "53",
         "54",
         "55",
         "55",
         "55",
         "57",
         "57",
         "59",
         "59",
         "59",
         "59",
         "59",
         "62",
         "62",
         "63",
         "63",
         "69",
         "69",
         "69",
         "72",
         "72",
         "72",
         "73",
         "75",
         "75",
         "75",
         "75",
         "75",
         "75",
         "75",
         "75",
         "75",
         "75",
         "75",
         "75",
         "75",
         "75",
         "75",
         "75",
         "76",
         "76",
         "76",
         "76",
         "76",
         "76",
         "76",
         "76",
         "76",
         "76",
         "76",
         "76",
         "76",
         "76",
         "76",
         "76",
         "76",
         "76",
         "77",
         "77",
         "78",
         "78",
         "78",
         "78",
         "78",
         "78",
         "78",
         "78",
         "79",
         "79",
         "79",
         "79",
         "79",
         "80",
         "80",
         "81",
         "81",
         "82",
         "82",
         "83",
         "83",
         "83",
         "83",
         "83",
         "84",
         "84",
         "84",
         "84",
         "84",
         "84",
         "84",
         "84",
         "84",
         "84",
         "84",
         "85",
         "85",
         "85",
         "86",
         "87",
         "88",
         "88",
         "91",
         "91",
         "91",
         "92",
         "92",
         "93",
         "93",
         "96",
         "96",
         "97",
         "97",
         "98",
         "100",
         "100",
         "101",
         "101",
         "101",
         "102",
         "103",
         "103",
         "104",
         "105",
         "106",
         "106",
         "106",
         "106",
         "106",
         "106",
         "107",
         "107",
         "107",
         "107",
         "107",
         "107",
         "107",
         "107",
         "107",
         "109",
         "110",
         "110",
         "110",
         "110",
         "110",
         "110",
         "110",
         "110",
         "112",
         "112",
         "112",
         "112",
         "112",
         "112",
         "112",
         "112",
         "112",
         "112",
         "112",
         "113",
         "113",
         "113",
         "113",
         "113",
         "113",
         "113",
         "113",
         "113",
         "113",
         "114",
         "114",
         "114",
         "115",
         "115",
         "115",
         "115",
         "115",
         "115",
         "116",
         "117",
         "117",
         "117",
         "117",
         "119",
         "120",
         "120",
         "120",
         "120",
         "121",
         "121",
         "121",
         "121",
         "123",
         "123",
         "123",
         "123",
         "123",
         "123",
         "123",
         "123",
         "124",
         "124",
         "124",
         "124",
         "125",
         "125",
         "125",
         "125",
         "127",
         "127",
         "127",
         "127",
         "127",
         "127",
         "127",
         "127",
         "127",
         "127",
         "127",
         "127",
         "127",
         "127",
         "127",
         "127",
         "127",
         "127",
         "127",
         "127",
         "127",
         "127",
         "127",
         "127",
         "127",
         "127",
         "127",
         "127",
         "127",
         "127",
         "127",
         "127",
         "127",
         "127",
         "127",
         "127",
         "127",
         "127",
         "127",
         "127",
         "127",
         "127",
         "127",
         "127",
         "127",
         "127",
         "127",
         "127",
         "127",
         "127",
         "127",
         "127",
         "127",
         "127",
         "127",
         "127",
         "127",
         "127",
         "127",
         "127",
         "127",
         "127",
         "127",
         "127",
         "127",
         "127",
         "127",
         "127",
         "127",
         "127",
         "127",
         "127",
         "127",
         "127",
         "127",
         "127",
         "127",
         "127",
         "127",
         "127",
         "127",
         "127",
         "127",
         "127",
         "127",
         "127",
         "127",
         "127",
         "127",
         "128",
         "128",
         "128",
         "128",
         "128",
         "128",
         "128",
         "128",
         "128",
         "128",
         "128",
         "129",
         "129",
         "129",
         "129",
         "129",
         "129",
         "129",
         "129",
         "129",
         "129",
         "129",
         "129",
         "129",
         "130",
         "130",
         "130",
         "130",
         "130",
         "130",
         "130",
         "130",
         "130",
         "130",
         "130",
         "130",
         "130",
         "130",
         "130",
         "130",
         "130",
         "130",
         "130",
         "130",
         "130",
         "130",
         "130",
         "130",
         "130",
         "130",
         "130",
         "130",
         "130",
         "130",
         "130",
         "130",
         "130",
         "130",
         "130",
         "130",
         "130",
         "130",
         "130",
         "130",
         "130",
         "130",
         "130",
         "130",
         "130",
         "130",
         "130",
         "130",
         "130",
         "130",
         "130",
         "130",
         "130",
         "130",
         "130",
         "130",
         "130",
         "130",
         "130",
         "130",
         "130",
         "130",
         "130",
         "130",
         "130",
         "130",
         "130",
         "130",
         "130",
         "130",
         "130",
         "130",
         "130",
         "130",
         "130",
         "130",
         "130",
         "130",
         "130",
         "130",
         "130",
         "130",
         "130",
         "130",
         "130",
         "130",
         "130",
         "130",
         "130",
         "130",
         "130",
         "130",
         "130",
         "131",
         "131",
         "131",
         "131",
         "131",
         "131",
         "131",
         "131",
         "132",
         "132",
         "132",
         "132",
         "133",
         "133",
         "133",
         "133",
         "133",
         "133",
         "133",
         "133",
         "134",
         "134",
         "134",
         "134",
         "134",
         "134",
         "137",
         "137",
         "138",
         "139",
         "139",
         "139",
         "139",
         "139",
         "140",
         "140",
         "140",
         "140",
         "140",
         "140",
         "140",
         "141",
         "141",
         "141",
         "141",
         "141",
         "141",
         "141",
         "141",
         "141",
         "141",
         "142",
         "142",
         "142",
         "142",
         "142",
         "142",
         "144",
         "144",
         "144",
         "144",
         "144",
         "145",
         "145",
         "145",
         "145",
         "145",
         "145",
         "145",
         "145",
         "146",
         "147",
         "147",
         "147",
         "147",
         "147",
         "147",
         "148",
         "148",
         "148",
         "148",
         "148",
         "149",
         "150",
         "150",
         "150",
         "150",
         "150",
         "150",
         "150",
         "151",
         "151",
         "151",
         "151",
         "151",
         "151",
         "151",
         "151",
         "151",
         "151",
         "151",
         "151",
         "151",
         "151",
         "152",
         "152",
         "152",
         "152",
         "152",
         "152",
         "152",
         "152",
         "152",
         "153",
         "153",
         "153",
         "153",
         "153",
         "153",
         "153",
         "155",
         "153",
         "153",
         "153",
         "153",
         "153",
         "153",
         "153",
         "153",
         "153",
         "153",
         "153",
         "153",
         "153",
         "153",
         "153",
         "153",
         "153",
         "153",
         "153",
         "153",
         "153",
         "153",
         "153",
         "153",
         "153",
         "153",
         "153",
         "153",
         "153",
         "153",
         "153",
         "153",
         "153",
         "153",
         "153",
         "153",
         "153",
         "153",
         "153",
         "153",
         "153",
         "153",
         "153",
         "153",
         "153",
         "153",
         "153",
         "153",
         "153",
         "153",
         "153",
         "153",
         "153",
         "153",
         "153",
         "153",
         "153",
         "153",
         "153",
         "153",
         "153",
         "153",
         "153",
         "153",
         "153",
         "153",
         "153",
         "153",
         "153",
         "153",
         "153",
         "153",
         "153",
         "153",
         "153",
         "153",
         "153",
         "153",
         "153",
         "153",
         "153",
         "153",
         "153",
         "153",
         "153",
         "153",
         "153",
         "153",
         "153",
         "153",
         "153",
         "153",
         "153",
         "153",
         "153",
         "153",
         "153",
         "153",
         "153",
         "153",
         "153",
         "153",
         "153",
         "153",
         "153",
         "153",
         "153",
         "153",
         "153",
         "153",
         "153",
         "153",
         "153",
         "153",
         "153",
         "153",
         "153",
         "153",
         "153",
         "153",
         "153",
         "153",
         "153",
         "153",
         "153",
         "153",
         "153",
         "153",
         "153",
         "153",
         "153",
         "154",
         "154",
         "154",
         "154",
         "154",
         "154",
         "154",
         "154",
         "154",
         "154",
         "154",
         "154",
         "154",
         "154",
         "154",
         "154",
         "154",
         "154",
         "154",
         "154",
         "154",
         "154",
         "154",
         "154",
         "154",
         "154",
         "154",
         "154",
         "154",
         "154",
         "154",
         "154",
         "154",
         "154",
         "154",
         "155",
         "155",
         "155",
         "155",
         "155",
         "155",
         "155",
         "155",
         "155",
         "155",
         "155",
         "155",
         "155",
         "155",
         "155",
         "155",
         "155",
         "155",
         "155",
         "155",
         "155",
         "155",
         "155",
         "155",
         "155",
         "155",
         "155",
         "155",
         "155",
         "155",
         "155",
         "155",
         "155",
         "155",
         "155",
         "155",
         "155",
         "155",
         "155",
         "155",
         "155",
         "155",
         "155",
         "155",
         "155",
         "155",
         "155",
         "155",
         "155",
         "155",
         "155",
         "155",
         "155",
         "155",
         "155",
         "155",
         "155",
         "155",
         "155",
         "155",
         "155",
         "155",
         "155",
         "155",
         "155",
         "155",
         "155",
         "155",
         "155",
         "155",
         "156",
         "156",
         "156",
         "156",
         "156",
         "156",
         "156",
         "156",
         "156",
         "156",
         "156",
         "156",
         "156",
         "156",
         "157",
         "157",
         "157",
         "157",
         "157",
         "157",
         "157",
         "158",
         "158",
         "158",
         "158",
         "158",
         "158",
         "158",
         "158",
         "158",
         "158",
         "158",
         "158",
         "158",
         "165",
         "165",
         "165",
         "165",
         "165",
         "165",
         "165",
         "165",
         "165",
         "165",
         "165",
         "165",
         "165",
         "165",
         "165",
         "165",
         "165",
         "165",
         "165",
         "165",
         "165",
         "165",
         "165",
         "165",
         "165",
         "165",
         "165",
         "165",
         "165",
         "165",
         "165",
         "165",
         "165",
         "165",
         "165",
         "165",
         "165",
         "165",
         "165",
         "165",
         "165",
         "165",
         "165",
         "165",
         "165",
         "165",
         "165",
         "165",
         "165",
         "165",
         "165",
         "165",
         "165",
         "165",
         "165",
         "165",
         "165",
         "165",
         "165",
         "165",
         "165",
         "165",
         "165",
         "165",
         "165",
         "165",
         "165",
         "165",
         "165",
         "165",
         "165",
         "165",
         "165",
         "165",
         "165",
         "165",
         "165",
         "165",
         "165",
         "165"
        ],
        [
         "4",
         null,
         "Angola",
         "-11.2027",
         "17.8739",
         "0",
         "0",
         "0",
         "0",
         "0",
         "0",
         "0",
         "0",
         "0",
         "0",
         "0",
         "0",
         "0",
         "0",
         "0",
         "0",
         "0",
         "0",
         "0",
         "0",
         "0",
         "0",
         "0",
         "0",
         "0",
         "0",
         "0",
         "0",
         "0",
         "0",
         "0",
         "0",
         "0",
         "0",
         "0",
         "0",
         "0",
         "0",
         "0",
         "0",
         "0",
         "0",
         "0",
         "0",
         "0",
         "0",
         "0",
         "0",
         "0",
         "0",
         "0",
         "0",
         "0",
         "0",
         "0",
         "0",
         "0",
         "0",
         "0",
         "0",
         "0",
         "0",
         "0",
         "0",
         "0",
         "0",
         "0",
         "2",
         "2",
         "2",
         "2",
         "2",
         "2",
         "2",
         "2",
         "2",
         "2",
         "2",
         "2",
         "2",
         "2",
         "2",
         "2",
         "2",
         "2",
         "2",
         "2",
         "2",
         "2",
         "2",
         "2",
         "2",
         "2",
         "2",
         "2",
         "2",
         "2",
         "2",
         "2",
         "2",
         "2",
         "2",
         "2",
         "2",
         "2",
         "2",
         "2",
         "2",
         "2",
         "2",
         "2",
         "2",
         "2",
         "2",
         "2",
         "2",
         "2",
         "3",
         "3",
         "3",
         "3",
         "3",
         "4",
         "4",
         "4",
         "4",
         "4",
         "4",
         "4",
         "4",
         "4",
         "4",
         "4",
         "4",
         "4",
         "4",
         "4",
         "4",
         "4",
         "4",
         "4",
         "5",
         "5",
         "6",
         "6",
         "6",
         "6",
         "7",
         "8",
         "8",
         "9",
         "9",
         "10",
         "10",
         "10",
         "10",
         "10",
         "10",
         "11",
         "11",
         "13",
         "15",
         "17",
         "18",
         "19",
         "19",
         "19",
         "21",
         "21",
         "22",
         "23",
         "23",
         "26",
         "26",
         "26",
         "27",
         "28",
         "29",
         "29",
         "29",
         "29",
         "30",
         "33",
         "33",
         "35",
         "39",
         "40",
         "41",
         "47",
         "48",
         "51",
         "52",
         "54",
         "55",
         "58",
         "59",
         "62",
         "64",
         "67",
         "70",
         "75",
         "78",
         "80",
         "80",
         "80",
         "86",
         "86",
         "88",
         "88",
         "90",
         "92",
         "93",
         "94",
         "94",
         "96",
         "100",
         "102",
         "103",
         "105",
         "106",
         "107",
         "107",
         "108",
         "109",
         "112",
         "113",
         "115",
         "117",
         "117",
         "120",
         "124",
         "126",
         "130",
         "131",
         "132",
         "134",
         "136",
         "139",
         "143",
         "144",
         "147",
         "147",
         "152",
         "154",
         "155",
         "159",
         "162",
         "167",
         "171",
         "174",
         "176",
         "179",
         "183",
         "185",
         "189",
         "193",
         "195",
         "199",
         "211",
         "211",
         "208",
         "212",
         "218",
         "218",
         "219",
         "222",
         "227",
         "228",
         "234",
         "241",
         "247",
         "248",
         "251",
         "255",
         "260",
         "265",
         "267",
         "268",
         "270",
         "271",
         "275",
         "275",
         "279",
         "284",
         "286",
         "289",
         "291",
         "296",
         "299",
         "300",
         "303",
         "307",
         "308",
         "308",
         "312",
         "315",
         "317",
         "322",
         "322",
         "324",
         "328",
         "332",
         "333",
         "334",
         "336",
         "337",
         "337",
         "338",
         "340",
         "341",
         "342",
         "345",
         "346",
         "348",
         "350",
         "351",
         "352",
         "353",
         "354",
         "354",
         "354",
         "355",
         "358",
         "362",
         "365",
         "366",
         "371",
         "372",
         "372",
         "379",
         "382",
         "384",
         "386",
         "387",
         "390",
         "393",
         "393",
         "393",
         "396",
         "399",
         "399",
         "403",
         "403",
         "405",
         "405",
         "405",
         "407",
         "408",
         "408",
         "410",
         "413",
         "413",
         "415",
         "416",
         "416",
         "420",
         "422",
         "424",
         "425",
         "428",
         "431",
         "436",
         "439",
         "442",
         "444",
         "448",
         "452",
         "457",
         "459",
         "461",
         "462",
         "462",
         "464",
         "464",
         "464",
         "466",
         "466",
         "468",
         "470",
         "473",
         "474",
         "475",
         "475",
         "475",
         "478",
         "487",
         "487",
         "490",
         "491",
         "492",
         "493",
         "494",
         "496",
         "498",
         "498",
         "498",
         "499",
         "499",
         "500",
         "501",
         "502",
         "504",
         "506",
         "508",
         "508",
         "510",
         "510",
         "511",
         "511",
         "512",
         "514",
         "515",
         "516",
         "516",
         "517",
         "519",
         "520",
         "521",
         "521",
         "522",
         "522",
         "522",
         "524",
         "526",
         "527",
         "530",
         "530",
         "532",
         "532",
         "532",
         "533",
         "533",
         "534",
         "536",
         "537",
         "538",
         "538",
         "540",
         "542",
         "543",
         "547",
         "547",
         "549",
         "549",
         "550",
         "553",
         "554",
         "554",
         "557",
         "557",
         "560",
         "561",
         "561",
         "563",
         "565",
         "570",
         "572",
         "574",
         "577",
         "579",
         "583",
         "587",
         "591",
         "594",
         "596",
         "600",
         "602",
         "603",
         "609",
         "618",
         "622",
         "628",
         "630",
         "633",
         "636",
         "639",
         "645",
         "649",
         "651",
         "655",
         "659",
         "677",
         "685",
         "696",
         "704",
         "709",
         "715",
         "725",
         "731",
         "735",
         "742",
         "745",
         "749",
         "757",
         "764",
         "766",
         "772",
         "780",
         "784",
         "788",
         "794",
         "797",
         "800",
         "803",
         "811",
         "815",
         "819",
         "825",
         "831",
         "836",
         "842",
         "847",
         "851",
         "853",
         "856",
         "859",
         "868",
         "875",
         "878",
         "881",
         "883",
         "887",
         "889",
         "891",
         "894",
         "900",
         "903",
         "906",
         "910",
         "913",
         "915",
         "920",
         "925",
         "925",
         "928",
         "929",
         "935",
         "939",
         "941",
         "946",
         "951",
         "952",
         "954",
         "957",
         "969",
         "970",
         "973",
         "977",
         "981",
         "982",
         "984",
         "991",
         "994",
         "1000",
         "1003",
         "1008",
         "1011",
         "1016",
         "1018",
         "1022",
         "1026",
         "1032",
         "1042",
         "1044",
         "1049",
         "1053",
         "1057",
         "1063",
         "1070",
         "1082",
         "1086",
         "1100",
         "1103",
         "1118",
         "1125",
         "1133",
         "1138",
         "1140",
         "1153",
         "1163",
         "1166",
         "1176",
         "1182",
         "1186",
         "1192",
         "1201",
         "1210",
         "1217",
         "1227",
         "1235",
         "1248",
         "1258",
         "1270",
         "1282",
         "1299",
         "1309",
         "1313",
         "1322",
         "1327",
         "1339",
         "1345",
         "1358",
         "1360",
         "1371",
         "1378",
         "1388",
         "1388",
         "1409",
         "1414",
         "1434",
         "1460",
         "1471",
         "1487",
         "1501",
         "1513",
         "1526",
         "1537",
         "1537",
         "1567",
         "1574",
         "1577",
         "1577",
         "1587",
         "1598",
         "1603",
         "1613",
         "1618",
         "1622",
         "1629",
         "1642",
         "1650",
         "1653",
         "1660",
         "1662",
         "1664",
         "1670",
         "1678",
         "1682",
         "1685",
         "1693",
         "1695",
         "1697",
         "1701",
         "1702",
         "1703",
         "1705",
         "1707",
         "1708",
         "1710",
         "1713",
         "1713",
         "1716",
         "1718",
         "1719",
         "1719",
         "1720",
         "1721",
         "1723",
         "1723",
         "1725",
         "1726",
         "1727",
         "1727",
         "1727",
         "1729",
         "1729",
         "1729",
         "1729",
         "1730",
         "1730",
         "1730",
         "1730",
         "1731",
         "1732",
         "1733",
         "1733",
         "1733",
         "1733",
         "1733",
         "1735",
         "1735",
         "1735",
         "1735",
         "1735",
         "1735",
         "1735",
         "1735",
         "1736",
         "1737",
         "1737",
         "1737",
         "1737",
         "1737",
         "1737",
         "1737",
         "1738",
         "1738",
         "1738",
         "1738",
         "1738",
         "1741",
         "1743",
         "1746",
         "1746",
         "1749",
         "1749",
         "1756",
         "1760",
         "1764",
         "1770",
         "1772",
         "1772",
         "1775",
         "1778",
         "1789",
         "1799",
         "1809",
         "1819",
         "1826",
         "1832",
         "1840",
         "1842",
         "1847",
         "1852",
         "1857",
         "1863",
         "1866",
         "1870",
         "1877",
         "1881",
         "1884",
         "1886",
         "1888",
         "1888",
         "1891",
         "1892",
         "1893",
         "1893",
         "1894",
         "1895",
         "1895",
         "1895",
         "1895",
         "1896",
         "1896",
         "1896",
         "1896",
         "1896",
         "1896",
         "1896",
         "1897",
         "1898",
         "1898",
         "1898",
         "1898",
         "1899",
         "1899",
         "1899",
         "1899",
         "1899",
         "1899",
         "1899",
         "1899",
         "1899",
         "1899",
         "1899",
         "1899",
         "1899",
         "1900",
         "1900",
         "1900",
         "1900",
         "1900",
         "1900",
         "1900",
         "1900",
         "1900",
         "1900",
         "1900",
         "1900",
         "1900",
         "1900",
         "1900",
         "1900",
         "1900",
         "1900",
         "1900",
         "1900",
         "1900",
         "1900",
         "1900",
         "1900",
         "1900",
         "1900",
         "1900",
         "1900",
         "1900",
         "1900",
         "1900",
         "1900",
         "1900",
         "1900",
         "1900",
         "1900",
         "1900",
         "1900",
         "1900",
         "1900",
         "1900",
         "1900",
         "1900",
         "1900",
         "1900",
         "1900",
         "1900",
         "1900",
         "1900",
         "1900",
         "1900",
         "1900",
         "1900",
         "1900",
         "1900",
         "1900",
         "1900",
         "1900",
         "1900",
         "1900",
         "1900",
         "1900",
         "1900",
         "1900",
         "1900",
         "1900",
         "1900",
         "1900",
         "1900",
         "1900",
         "1900",
         "1900",
         "1900",
         "1900",
         "1900",
         "1900",
         "1900",
         "1900",
         "1900",
         "1900",
         "1900",
         "1900",
         "1900",
         "1900",
         "1900",
         "1900",
         "1900",
         "1900",
         "1900",
         "1900",
         "1900",
         "1900",
         "1900",
         "1900",
         "1900",
         "1900",
         "1900",
         "1900",
         "1900",
         "1900",
         "1900",
         "1900",
         "1900",
         "1900",
         "1900",
         "1900",
         "1900",
         "1900",
         "1900",
         "1900",
         "1900",
         "1900",
         "1900",
         "1900",
         "1900",
         "1900",
         "1900",
         "1900",
         "1900",
         "1900",
         "1900",
         "1900",
         "1900",
         "1900",
         "1900",
         "1900",
         "1900",
         "1900",
         "1900",
         "1900",
         "1900",
         "1900",
         "1900",
         "1900",
         "1900",
         "1900",
         "1900",
         "1909",
         "1909",
         "1909",
         "1912",
         "1912",
         "1912",
         "1912",
         "1912",
         "1912",
         "1912",
         "1912",
         "1912",
         "1912",
         "1912",
         "1912",
         "1912",
         "1912",
         "1912",
         "1912",
         "1912",
         "1912",
         "1917",
         "1917",
         "1917",
         "1917",
         "1917",
         "1917",
         "1917",
         "1917",
         "1917",
         "1917",
         "1917",
         "1917",
         "1917",
         "1917",
         "1917",
         "1917",
         "1917",
         "1917",
         "1917",
         "1917",
         "1917",
         "1917",
         "1917",
         "1917",
         "1917",
         "1917",
         "1917",
         "1917",
         "1917",
         "1917",
         "1917",
         "1917",
         "1917",
         "1917",
         "1917",
         "1917",
         "1917",
         "1917",
         "1917",
         "1917",
         "1917",
         "1917",
         "1917",
         "1917",
         "1917",
         "1917",
         "1917",
         "1917",
         "1917",
         "1917",
         "1917",
         "1917",
         "1917",
         "1917",
         "1917",
         "1917",
         "1917",
         "1917",
         "1917",
         "1917",
         "1917",
         "1917",
         "1917",
         "1917",
         "1917",
         "1917",
         "1917",
         "1917",
         "1917",
         "1917",
         "1917",
         "1917",
         "1917",
         "1917",
         "1917",
         "1917",
         "1917",
         "1917",
         "1917",
         "1917",
         "1917",
         "1917",
         "1917",
         "1917",
         "1917",
         "1917",
         "1917",
         "1917",
         "1917",
         "1917",
         "1917",
         "1917",
         "1917",
         "1917",
         "1917",
         "1917",
         "1917",
         "1917",
         "1917",
         "1917",
         "1917",
         "1917",
         "1917",
         "1917",
         "1917",
         "1917",
         "1917",
         "1917",
         "1917",
         "1917",
         "1923",
         "1923",
         "1923",
         "1923",
         "1923",
         "1923",
         "1923",
         "1924",
         "1924",
         "1924",
         "1924",
         "1924",
         "1925",
         "1925",
         "1925",
         "1925",
         "1925",
         "1925",
         "1925",
         "1925",
         "1925",
         "1928",
         "1928",
         "1928",
         "1928",
         "1928",
         "1928",
         "1928",
         "1928",
         "1928",
         "1928",
         "1928",
         "1928",
         "1928",
         "1930",
         "1930",
         "1930",
         "1930",
         "1930",
         "1930",
         "1930",
         "1930",
         "1930",
         "1930",
         "1930",
         "1930",
         "1930",
         "1930",
         "1930",
         "1930",
         "1930",
         "1930",
         "1930",
         "1930",
         "1930",
         "1930",
         "1930",
         "1930",
         "1930",
         "1930",
         "1930",
         "1930",
         "1931",
         "1931",
         "1931",
         "1931",
         "1931",
         "1931",
         "1931",
         "1931",
         "1931",
         "1931",
         "1931",
         "1931",
         "1931",
         "1931",
         "1931",
         "1931",
         "1931",
         "1931",
         "1931",
         "1931",
         "1931",
         "1931",
         "1931",
         "1931",
         "1931",
         "1931",
         "1931",
         "1931",
         "1931",
         "1931",
         "1931",
         "1931",
         "1931",
         "1931",
         "1933",
         "1933",
         "1933",
         "1933",
         "1933",
         "1933",
         "1933",
         "1933",
         "1933",
         "1933",
         "1933"
        ]
       ],
       "shape": {
        "columns": 1147,
        "rows": 5
       }
      },
      "text/html": [
       "<div>\n",
       "<style scoped>\n",
       "    .dataframe tbody tr th:only-of-type {\n",
       "        vertical-align: middle;\n",
       "    }\n",
       "\n",
       "    .dataframe tbody tr th {\n",
       "        vertical-align: top;\n",
       "    }\n",
       "\n",
       "    .dataframe thead th {\n",
       "        text-align: right;\n",
       "    }\n",
       "</style>\n",
       "<table border=\"1\" class=\"dataframe\">\n",
       "  <thead>\n",
       "    <tr style=\"text-align: right;\">\n",
       "      <th></th>\n",
       "      <th>Province/State</th>\n",
       "      <th>Country/Region</th>\n",
       "      <th>Lat</th>\n",
       "      <th>Long</th>\n",
       "      <th>1/22/20</th>\n",
       "      <th>1/23/20</th>\n",
       "      <th>1/24/20</th>\n",
       "      <th>1/25/20</th>\n",
       "      <th>1/26/20</th>\n",
       "      <th>1/27/20</th>\n",
       "      <th>...</th>\n",
       "      <th>2/28/23</th>\n",
       "      <th>3/1/23</th>\n",
       "      <th>3/2/23</th>\n",
       "      <th>3/3/23</th>\n",
       "      <th>3/4/23</th>\n",
       "      <th>3/5/23</th>\n",
       "      <th>3/6/23</th>\n",
       "      <th>3/7/23</th>\n",
       "      <th>3/8/23</th>\n",
       "      <th>3/9/23</th>\n",
       "    </tr>\n",
       "  </thead>\n",
       "  <tbody>\n",
       "    <tr>\n",
       "      <th>0</th>\n",
       "      <td>NaN</td>\n",
       "      <td>Afghanistan</td>\n",
       "      <td>33.93911</td>\n",
       "      <td>67.709953</td>\n",
       "      <td>0</td>\n",
       "      <td>0</td>\n",
       "      <td>0</td>\n",
       "      <td>0</td>\n",
       "      <td>0</td>\n",
       "      <td>0</td>\n",
       "      <td>...</td>\n",
       "      <td>7896</td>\n",
       "      <td>7896</td>\n",
       "      <td>7896</td>\n",
       "      <td>7896</td>\n",
       "      <td>7896</td>\n",
       "      <td>7896</td>\n",
       "      <td>7896</td>\n",
       "      <td>7896</td>\n",
       "      <td>7896</td>\n",
       "      <td>7896</td>\n",
       "    </tr>\n",
       "    <tr>\n",
       "      <th>1</th>\n",
       "      <td>NaN</td>\n",
       "      <td>Albania</td>\n",
       "      <td>41.15330</td>\n",
       "      <td>20.168300</td>\n",
       "      <td>0</td>\n",
       "      <td>0</td>\n",
       "      <td>0</td>\n",
       "      <td>0</td>\n",
       "      <td>0</td>\n",
       "      <td>0</td>\n",
       "      <td>...</td>\n",
       "      <td>3598</td>\n",
       "      <td>3598</td>\n",
       "      <td>3598</td>\n",
       "      <td>3598</td>\n",
       "      <td>3598</td>\n",
       "      <td>3598</td>\n",
       "      <td>3598</td>\n",
       "      <td>3598</td>\n",
       "      <td>3598</td>\n",
       "      <td>3598</td>\n",
       "    </tr>\n",
       "    <tr>\n",
       "      <th>2</th>\n",
       "      <td>NaN</td>\n",
       "      <td>Algeria</td>\n",
       "      <td>28.03390</td>\n",
       "      <td>1.659600</td>\n",
       "      <td>0</td>\n",
       "      <td>0</td>\n",
       "      <td>0</td>\n",
       "      <td>0</td>\n",
       "      <td>0</td>\n",
       "      <td>0</td>\n",
       "      <td>...</td>\n",
       "      <td>6881</td>\n",
       "      <td>6881</td>\n",
       "      <td>6881</td>\n",
       "      <td>6881</td>\n",
       "      <td>6881</td>\n",
       "      <td>6881</td>\n",
       "      <td>6881</td>\n",
       "      <td>6881</td>\n",
       "      <td>6881</td>\n",
       "      <td>6881</td>\n",
       "    </tr>\n",
       "    <tr>\n",
       "      <th>3</th>\n",
       "      <td>NaN</td>\n",
       "      <td>Andorra</td>\n",
       "      <td>42.50630</td>\n",
       "      <td>1.521800</td>\n",
       "      <td>0</td>\n",
       "      <td>0</td>\n",
       "      <td>0</td>\n",
       "      <td>0</td>\n",
       "      <td>0</td>\n",
       "      <td>0</td>\n",
       "      <td>...</td>\n",
       "      <td>165</td>\n",
       "      <td>165</td>\n",
       "      <td>165</td>\n",
       "      <td>165</td>\n",
       "      <td>165</td>\n",
       "      <td>165</td>\n",
       "      <td>165</td>\n",
       "      <td>165</td>\n",
       "      <td>165</td>\n",
       "      <td>165</td>\n",
       "    </tr>\n",
       "    <tr>\n",
       "      <th>4</th>\n",
       "      <td>NaN</td>\n",
       "      <td>Angola</td>\n",
       "      <td>-11.20270</td>\n",
       "      <td>17.873900</td>\n",
       "      <td>0</td>\n",
       "      <td>0</td>\n",
       "      <td>0</td>\n",
       "      <td>0</td>\n",
       "      <td>0</td>\n",
       "      <td>0</td>\n",
       "      <td>...</td>\n",
       "      <td>1933</td>\n",
       "      <td>1933</td>\n",
       "      <td>1933</td>\n",
       "      <td>1933</td>\n",
       "      <td>1933</td>\n",
       "      <td>1933</td>\n",
       "      <td>1933</td>\n",
       "      <td>1933</td>\n",
       "      <td>1933</td>\n",
       "      <td>1933</td>\n",
       "    </tr>\n",
       "  </tbody>\n",
       "</table>\n",
       "<p>5 rows × 1147 columns</p>\n",
       "</div>"
      ],
      "text/plain": [
       "  Province/State Country/Region       Lat       Long  1/22/20  1/23/20  \\\n",
       "0            NaN    Afghanistan  33.93911  67.709953        0        0   \n",
       "1            NaN        Albania  41.15330  20.168300        0        0   \n",
       "2            NaN        Algeria  28.03390   1.659600        0        0   \n",
       "3            NaN        Andorra  42.50630   1.521800        0        0   \n",
       "4            NaN         Angola -11.20270  17.873900        0        0   \n",
       "\n",
       "   1/24/20  1/25/20  1/26/20  1/27/20  ...  2/28/23  3/1/23  3/2/23  3/3/23  \\\n",
       "0        0        0        0        0  ...     7896    7896    7896    7896   \n",
       "1        0        0        0        0  ...     3598    3598    3598    3598   \n",
       "2        0        0        0        0  ...     6881    6881    6881    6881   \n",
       "3        0        0        0        0  ...      165     165     165     165   \n",
       "4        0        0        0        0  ...     1933    1933    1933    1933   \n",
       "\n",
       "   3/4/23  3/5/23  3/6/23  3/7/23  3/8/23  3/9/23  \n",
       "0    7896    7896    7896    7896    7896    7896  \n",
       "1    3598    3598    3598    3598    3598    3598  \n",
       "2    6881    6881    6881    6881    6881    6881  \n",
       "3     165     165     165     165     165     165  \n",
       "4    1933    1933    1933    1933    1933    1933  \n",
       "\n",
       "[5 rows x 1147 columns]"
      ]
     },
     "execution_count": 2,
     "metadata": {},
     "output_type": "execute_result"
    }
   ],
   "source": [
    "# Load dataset\n",
    "df = pd.read_csv('time_series_covid19_deaths_global.csv')\n",
    "\n",
    "# Preview the data\n",
    "df.head()"
   ]
  },
  {
   "cell_type": "code",
   "execution_count": 3,
   "metadata": {},
   "outputs": [
    {
     "name": "stdout",
     "output_type": "stream",
     "text": [
      "Index(['Province/State', 'Country/Region', 'Lat', 'Long', '1/22/20', '1/23/20',\n",
      "       '1/24/20', '1/25/20', '1/26/20', '1/27/20',\n",
      "       ...\n",
      "       '2/28/23', '3/1/23', '3/2/23', '3/3/23', '3/4/23', '3/5/23', '3/6/23',\n",
      "       '3/7/23', '3/8/23', '3/9/23'],\n",
      "      dtype='object', length=1147)\n"
     ]
    },
    {
     "data": {
      "text/plain": [
       "Province/State     object\n",
       "Country/Region     object\n",
       "Lat               float64\n",
       "Long              float64\n",
       "1/22/20             int64\n",
       "                   ...   \n",
       "3/5/23              int64\n",
       "3/6/23              int64\n",
       "3/7/23              int64\n",
       "3/8/23              int64\n",
       "3/9/23              int64\n",
       "Length: 1147, dtype: object"
      ]
     },
     "execution_count": 3,
     "metadata": {},
     "output_type": "execute_result"
    }
   ],
   "source": [
    "# Check dataset structure\n",
    "print(df.columns)\n",
    "\n",
    "# Check for missing values\n",
    "df.isnull().sum()\n",
    "\n",
    "# Check data types\n",
    "df.dtypes"
   ]
  },
  {
   "cell_type": "code",
   "execution_count": 5,
   "metadata": {},
   "outputs": [
    {
     "name": "stderr",
     "output_type": "stream",
     "text": [
      "C:\\Users\\User\\AppData\\Local\\Temp\\ipykernel_4348\\1560883622.py:8: UserWarning: Could not infer format, so each element will be parsed individually, falling back to `dateutil`. To ensure parsing is consistent and as-expected, please specify a format.\n",
      "  df_melted['date'] = pd.to_datetime(df_melted['date'])\n",
      "C:\\Users\\User\\AppData\\Local\\Temp\\ipykernel_4348\\1560883622.py:18: FutureWarning: DataFrame.fillna with 'method' is deprecated and will raise in a future version. Use obj.ffill() or obj.bfill() instead.\n",
      "  df_filtered = df_filtered.fillna(method='ffill')\n",
      "C:\\Users\\User\\AppData\\Local\\Temp\\ipykernel_4348\\1560883622.py:18: FutureWarning: Downcasting object dtype arrays on .fillna, .ffill, .bfill is deprecated and will change in a future version. Call result.infer_objects(copy=False) instead. To opt-in to the future behavior, set `pd.set_option('future.no_silent_downcasting', True)`\n",
      "  df_filtered = df_filtered.fillna(method='ffill')\n"
     ]
    }
   ],
   "source": [
    "# Reshape the dataframe to have a 'date' column\n",
    "df_melted = pd.melt(df, \n",
    "\t\t\t\t\tid_vars=['Province/State', 'Country/Region', 'Lat', 'Long'], \n",
    "\t\t\t\t\tvar_name='date', \n",
    "\t\t\t\t\tvalue_name='cases')\n",
    "\n",
    "# Convert 'date' to datetime\n",
    "df_melted['date'] = pd.to_datetime(df_melted['date'])\n",
    "\n",
    "# Rename 'Country/Region' to 'location' for consistency\n",
    "df_melted.rename(columns={'Country/Region': 'location'}, inplace=True)\n",
    "\n",
    "# Filter for selected countries\n",
    "countries = ['Kenya', 'United States', 'India']\n",
    "df_filtered = df_melted[df_melted['location'].isin(countries)]\n",
    "\n",
    "# Handle missing values\n",
    "df_filtered = df_filtered.fillna(method='ffill')"
   ]
  },
  {
   "cell_type": "code",
   "execution_count": 7,
   "metadata": {},
   "outputs": [
    {
     "data": {
      "image/png": "[encoded data removed]",
      "text/plain": [
       "<Figure size 1000x600 with 1 Axes>"
      ]
     },
     "metadata": {},
     "output_type": "display_data"
    }
   ],
   "source": [
    "# Line plot: Total cases over time\n",
    "plt.figure(figsize=(10,6))\n",
    "for country in countries:\n",
    "    country_data = df_filtered[df_filtered['location'] == country]\n",
    "    plt.plot(country_data['date'], country_data['cases'], label=country)\n",
    "plt.title(\"Total COVID-19 Cases Over Time\")\n",
    "plt.xlabel(\"Date\")\n",
    "plt.ylabel(\"Total Cases\")\n",
    "plt.legend()\n",
    "plt.show()"
   ]
  },
  {
   "cell_type": "code",
   "execution_count": 9,
   "metadata": {},
   "outputs": [
    {
     "data": {
      "image/png": "[encoded data removed]",
      "text/plain": [
       "<Figure size 640x480 with 1 Axes>"
      ]
     },
     "metadata": {},
     "output_type": "display_data"
    }
   ],
   "source": [
    "# Bar chart: Total cases by country (latest date)\n",
    "latest = df_filtered[df_filtered['date'] == df_filtered['date'].max()]\n",
    "latest = latest[['location', 'cases']].dropna().sort_values(by='cases', ascending=False)\n",
    "\n",
    "sns.barplot(data=latest, x='location', y='cases')\n",
    "plt.title(\"Total Cases by Country (Latest Date)\")\n",
    "plt.xticks(rotation=45)\n",
    "plt.show()"
   ]
  },
  {
   "cell_type": "code",
   "execution_count": 12,
   "metadata": {},
   "outputs": [
    {
     "name": "stderr",
     "output_type": "stream",
     "text": [
      "C:\\Users\\User\\AppData\\Local\\Temp\\ipykernel_4348\\2993310031.py:7: UserWarning: Could not infer format, so each element will be parsed individually, falling back to `dateutil`. To ensure parsing is consistent and as-expected, please specify a format.\n",
      "  deaths_data['date'] = pd.to_datetime(deaths_data['date'])\n"
     ]
    }
   ],
   "source": [
    "# Ensure the 'deaths' column is added to df_filtered\n",
    "if 'deaths' not in df_filtered.columns:\n",
    "\tdeaths_data = pd.melt(df, \n",
    "\t\t\t\t\t\t  id_vars=['Province/State', 'Country/Region', 'Lat', 'Long'], \n",
    "\t\t\t\t\t\t  var_name='date', \n",
    "\t\t\t\t\t\t  value_name='deaths')\n",
    "\tdeaths_data['date'] = pd.to_datetime(deaths_data['date'])\n",
    "\tdeaths_data.rename(columns={'Country/Region': 'location'}, inplace=True)\n",
    "\tdf_filtered = df_filtered.merge(deaths_data[['location', 'date', 'deaths']], \n",
    "\t\t\t\t\t\t\t\t\ton=['location', 'date'], \n",
    "\t\t\t\t\t\t\t\t\thow='left')\n",
    "\n",
    "# Death rate analysis\n",
    "df_filtered['death_rate'] = df_filtered['deaths'] / df_filtered['cases']"
   ]
  },
  {
   "cell_type": "code",
   "execution_count": 14,
   "metadata": {},
   "outputs": [
    {
     "name": "stderr",
     "output_type": "stream",
     "text": [
      "C:\\Users\\User\\AppData\\Local\\Temp\\ipykernel_4348\\3859519074.py:7: UserWarning: Could not infer format, so each element will be parsed individually, falling back to `dateutil`. To ensure parsing is consistent and as-expected, please specify a format.\n",
      "  vaccinations_data['date'] = pd.to_datetime(vaccinations_data['date'])\n"
     ]
    },
    {
     "data": {
      "image/png": "[encoded data removed]",
      "text/plain": [
       "<Figure size 1000x600 with 1 Axes>"
      ]
     },
     "metadata": {},
     "output_type": "display_data"
    }
   ],
   "source": [
    "# Ensure the 'total_vaccinations' column is added to df_filtered\n",
    "if 'total_vaccinations' not in df_filtered.columns:\n",
    "    vaccinations_data = pd.melt(df, \n",
    "                                id_vars=['Province/State', 'Country/Region', 'Lat', 'Long'], \n",
    "                                var_name='date', \n",
    "                                value_name='total_vaccinations')\n",
    "    vaccinations_data['date'] = pd.to_datetime(vaccinations_data['date'])\n",
    "    vaccinations_data.rename(columns={'Country/Region': 'location'}, inplace=True)\n",
    "    df_filtered = df_filtered.merge(vaccinations_data[['location', 'date', 'total_vaccinations']], \n",
    "                                    on=['location', 'date'], \n",
    "                                    how='left')\n",
    "\n",
    "# Line plot: Total vaccinations over time\n",
    "plt.figure(figsize=(10,6))\n",
    "for country in countries:\n",
    "    country_data = df_filtered[df_filtered['location'] == country]\n",
    "    plt.plot(country_data['date'], country_data['total_vaccinations'], label=country)\n",
    "plt.title(\"Total Vaccinations Over Time\")\n",
    "plt.xlabel(\"Date\")\n",
    "plt.ylabel(\"Total Vaccinations\")\n",
    "plt.legend()\n",
    "plt.show()"
   ]
  },
  {
   "cell_type": "code",
   "execution_count": 22,
   "metadata": {},
   "outputs": [
    {
     "data": {
      "application/vnd.plotly.v1+json": {
       "config": {
        "plotlyServerURL": "https://plot.ly"
       },
       "data": [
        {
         "coloraxis": "coloraxis",
         "geo": "geo",
         "hovertemplate": "<b>%{hovertext}</b><br><br>location=%{location}<br>cases=%{z}<extra></extra>",
         "hovertext": [
          "Afghanistan",
          "Albania",
          "Algeria",
          "Andorra",
          "Angola",
          "Antarctica",
          "Antigua and Barbuda",
          "Argentina",
          "Armenia",
          "Australia",
          "Australia",
          "Australia",
          "Australia",
          "Australia",
          "Australia",
          "Australia",
          "Australia",
          "Austria",
          "Azerbaijan",
          "Bahamas",
          "Bahrain",
          "Bangladesh",
          "Barbados",
          "Belarus",
          "Belgium",
          "Belize",
          "Benin",
          "Bhutan",
          "Bolivia",
          "Bosnia and Herzegovina",
          "Botswana",
          "Brazil",
          "Brunei",
          "Bulgaria",
          "Burkina Faso",
          "Burma",
          "Burundi",
          "Cabo Verde",
          "Cambodia",
          "Cameroon",
          "Canada",
          "Canada",
          "Canada",
          "Canada",
          "Canada",
          "Canada",
          "Canada",
          "Canada",
          "Canada",
          "Canada",
          "Canada",
          "Canada",
          "Canada",
          "Canada",
          "Canada",
          "Canada",
          "Central African Republic",
          "Chad",
          "Chile",
          "China",
          "China",
          "China",
          "China",
          "China",
          "China",
          "China",
          "China",
          "China",
          "China",
          "China",
          "China",
          "China",
          "China",
          "China",
          "China",
          "China",
          "China",
          "China",
          "China",
          "China",
          "China",
          "China",
          "China",
          "China",
          "China",
          "China",
          "China",
          "China",
          "China",
          "China",
          "China",
          "China",
          "China",
          "Colombia",
          "Comoros",
          "Congo (Brazzaville)",
          "Congo (Kinshasa)",
          "Costa Rica",
          "Cote d'Ivoire",
          "Croatia",
          "Cuba",
          "Cyprus",
          "Czechia",
          "Denmark",
          "Denmark",
          "Denmark",
          "Diamond Princess",
          "Djibouti",
          "Dominica",
          "Dominican Republic",
          "Ecuador",
          "Egypt",
          "El Salvador",
          "Equatorial Guinea",
          "Eritrea",
          "Estonia",
          "Eswatini",
          "Ethiopia",
          "Fiji",
          "Finland",
          "France",
          "France",
          "France",
          "France",
          "France",
          "France",
          "France",
          "France",
          "France",
          "France",
          "France",
          "France",
          "Gabon",
          "Gambia",
          "Georgia",
          "Germany",
          "Ghana",
          "Greece",
          "Grenada",
          "Guatemala",
          "Guinea",
          "Guinea-Bissau",
          "Guyana",
          "Haiti",
          "Holy See",
          "Honduras",
          "Hungary",
          "Iceland",
          "India",
          "Indonesia",
          "Iran",
          "Iraq",
          "Ireland",
          "Israel",
          "Italy",
          "Jamaica",
          "Japan",
          "Jordan",
          "Kazakhstan",
          "Kenya",
          "Kiribati",
          "Korea, North",
          "Korea, South",
          "Kosovo",
          "Kuwait",
          "Kyrgyzstan",
          "Laos",
          "Latvia",
          "Lebanon",
          "Lesotho",
          "Liberia",
          "Libya",
          "Liechtenstein",
          "Lithuania",
          "Luxembourg",
          "MS Zaandam",
          "Madagascar",
          "Malawi",
          "Malaysia",
          "Maldives",
          "Mali",
          "Malta",
          "Marshall Islands",
          "Mauritania",
          "Mauritius",
          "Mexico",
          "Micronesia",
          "Moldova",
          "Monaco",
          "Mongolia",
          "Montenegro",
          "Morocco",
          "Mozambique",
          "Namibia",
          "Nauru",
          "Nepal",
          "Netherlands",
          "Netherlands",
          "Netherlands",
          "Netherlands",
          "Netherlands",
          "New Zealand",
          "New Zealand",
          "New Zealand",
          "Nicaragua",
          "Niger",
          "Nigeria",
          "North Macedonia",
          "Norway",
          "Oman",
          "Pakistan",
          "Palau",
          "Panama",
          "Papua New Guinea",
          "Paraguay",
          "Peru",
          "Philippines",
          "Poland",
          "Portugal",
          "Qatar",
          "Romania",
          "Russia",
          "Rwanda",
          "Saint Kitts and Nevis",
          "Saint Lucia",
          "Saint Vincent and the Grenadines",
          "Samoa",
          "San Marino",
          "Sao Tome and Principe",
          "Saudi Arabia",
          "Senegal",
          "Serbia",
          "Seychelles",
          "Sierra Leone",
          "Singapore",
          "Slovakia",
          "Slovenia",
          "Solomon Islands",
          "Somalia",
          "South Africa",
          "South Sudan",
          "Spain",
          "Sri Lanka",
          "Sudan",
          "Summer Olympics 2020",
          "Suriname",
          "Sweden",
          "Switzerland",
          "Syria",
          "Taiwan*",
          "Tajikistan",
          "Tanzania",
          "Thailand",
          "Timor-Leste",
          "Togo",
          "Tonga",
          "Trinidad and Tobago",
          "Tunisia",
          "Turkey",
          "Tuvalu",
          "US",
          "Uganda",
          "Ukraine",
          "United Arab Emirates",
          "United Kingdom",
          "United Kingdom",
          "United Kingdom",
          "United Kingdom",
          "United Kingdom",
          "United Kingdom",
          "United Kingdom",
          "United Kingdom",
          "United Kingdom",
          "United Kingdom",
          "United Kingdom",
          "United Kingdom",
          "United Kingdom",
          "United Kingdom",
          "United Kingdom",
          "Uruguay",
          "Uzbekistan",
          "Vanuatu",
          "Venezuela",
          "Vietnam",
          "West Bank and Gaza",
          "Winter Olympics 2022",
          "Yemen",
          "Zambia",
          "Zimbabwe"
         ],
         "locationmode": "country names",
         "locations": [
          "Afghanistan",
          "Albania",
          "Algeria",
          "Andorra",
          "Angola",
          "Antarctica",
          "Antigua and Barbuda",
          "Argentina",
          "Armenia",
          "Australia",
          "Australia",
          "Australia",
          "Australia",
          "Australia",
          "Australia",
          "Australia",
          "Australia",
          "Austria",
          "Azerbaijan",
          "Bahamas",
          "Bahrain",
          "Bangladesh",
          "Barbados",
          "Belarus",
          "Belgium",
          "Belize",
          "Benin",
          "Bhutan",
          "Bolivia",
          "Bosnia and Herzegovina",
          "Botswana",
          "Brazil",
          "Brunei",
          "Bulgaria",
          "Burkina Faso",
          "Burma",
          "Burundi",
          "Cabo Verde",
          "Cambodia",
          "Cameroon",
          "Canada",
          "Canada",
          "Canada",
          "Canada",
          "Canada",
          "Canada",
          "Canada",
          "Canada",
          "Canada",
          "Canada",
          "Canada",
          "Canada",
          "Canada",
          "Canada",
          "Canada",
          "Canada",
          "Central African Republic",
          "Chad",
          "Chile",
          "China",
          "China",
          "China",
          "China",
          "China",
          "China",
          "China",
          "China",
          "China",
          "China",
          "China",
          "China",
          "China",
          "China",
          "China",
          "China",
          "China",
          "China",
          "China",
          "China",
          "China",
          "China",
          "China",
          "China",
          "China",
          "China",
          "China",
          "China",
          "China",
          "China",
          "China",
          "China",
          "China",
          "China",
          "Colombia",
          "Comoros",
          "Congo (Brazzaville)",
          "Congo (Kinshasa)",
          "Costa Rica",
          "Cote d'Ivoire",
          "Croatia",
          "Cuba",
          "Cyprus",
          "Czechia",
          "Denmark",
          "Denmark",
          "Denmark",
          "Diamond Princess",
          "Djibouti",
          "Dominica",
          "Dominican Republic",
          "Ecuador",
          "Egypt",
          "El Salvador",
          "Equatorial Guinea",
          "Eritrea",
          "Estonia",
          "Eswatini",
          "Ethiopia",
          "Fiji",
          "Finland",
          "France",
          "France",
          "France",
          "France",
          "France",
          "France",
          "France",
          "France",
          "France",
          "France",
          "France",
          "France",
          "Gabon",
          "Gambia",
          "Georgia",
          "Germany",
          "Ghana",
          "Greece",
          "Grenada",
          "Guatemala",
          "Guinea",
          "Guinea-Bissau",
          "Guyana",
          "Haiti",
          "Holy See",
          "Honduras",
          "Hungary",
          "Iceland",
          "India",
          "Indonesia",
          "Iran",
          "Iraq",
          "Ireland",
          "Israel",
          "Italy",
          "Jamaica",
          "Japan",
          "Jordan",
          "Kazakhstan",
          "Kenya",
          "Kiribati",
          "Korea, North",
          "Korea, South",
          "Kosovo",
          "Kuwait",
          "Kyrgyzstan",
          "Laos",
          "Latvia",
          "Lebanon",
          "Lesotho",
          "Liberia",
          "Libya",
          "Liechtenstein",
          "Lithuania",
          "Luxembourg",
          "MS Zaandam",
          "Madagascar",
          "Malawi",
          "Malaysia",
          "Maldives",
          "Mali",
          "Malta",
          "Marshall Islands",
          "Mauritania",
          "Mauritius",
          "Mexico",
          "Micronesia",
          "Moldova",
          "Monaco",
          "Mongolia",
          "Montenegro",
          "Morocco",
          "Mozambique",
          "Namibia",
          "Nauru",
          "Nepal",
          "Netherlands",
          "Netherlands",
          "Netherlands",
          "Netherlands",
          "Netherlands",
          "New Zealand",
          "New Zealand",
          "New Zealand",
          "Nicaragua",
          "Niger",
          "Nigeria",
          "North Macedonia",
          "Norway",
          "Oman",
          "Pakistan",
          "Palau",
          "Panama",
          "Papua New Guinea",
          "Paraguay",
          "Peru",
          "Philippines",
          "Poland",
          "Portugal",
          "Qatar",
          "Romania",
          "Russia",
          "Rwanda",
          "Saint Kitts and Nevis",
          "Saint Lucia",
          "Saint Vincent and the Grenadines",
          "Samoa",
          "San Marino",
          "Sao Tome and Principe",
          "Saudi Arabia",
          "Senegal",
          "Serbia",
          "Seychelles",
          "Sierra Leone",
          "Singapore",
          "Slovakia",
          "Slovenia",
          "Solomon Islands",
          "Somalia",
          "South Africa",
          "South Sudan",
          "Spain",
          "Sri Lanka",
          "Sudan",
          "Summer Olympics 2020",
          "Suriname",
          "Sweden",
          "Switzerland",
          "Syria",
          "Taiwan*",
          "Tajikistan",
          "Tanzania",
          "Thailand",
          "Timor-Leste",
          "Togo",
          "Tonga",
          "Trinidad and Tobago",
          "Tunisia",
          "Turkey",
          "Tuvalu",
          "US",
          "Uganda",
          "Ukraine",
          "United Arab Emirates",
          "United Kingdom",
          "United Kingdom",
          "United Kingdom",
          "United Kingdom",
          "United Kingdom",
          "United Kingdom",
          "United Kingdom",
          "United Kingdom",
          "United Kingdom",
          "United Kingdom",
          "United Kingdom",
          "United Kingdom",
          "United Kingdom",
          "United Kingdom",
          "United Kingdom",
          "Uruguay",
          "Uzbekistan",
          "Vanuatu",
          "Venezuela",
          "Vietnam",
          "West Bank and Gaza",
          "Winter Olympics 2022",
          "Yemen",
          "Zambia",
          "Zimbabwe"
         ],
         "name": "",
         "type": "choropleth",
         "z": {
          "bdata": "2B4AAA4OAADhGgAApQAAAI0HAAAAAAAAkgAAAKj9AQAXIgAA5AAAAIEZAABbAAAA3woAAFUFAAAAAQAAyhwAALgDAADSVQAAmicAAEEDAAARBgAABXMAAEMCAADOGwAAFoQAALACAACjAAAAFQAAAF1XAACYPwAA8QoAAIyrCgDhAAAAVJUAAIwBAAAiTAAAJgAAAJ0BAADwCwAArQcAAPYVAACBFAAAAQAAAAAAAACgCQAAQgMAAD4BAAAWAAAAGgMAAAcAAABqPwAAXQAAAPBGAAAAAAAAYgcAACAAAABxAAAAwgAAABH7AAAHAAAAFAAAAAsAAAACAAAAAgAAAAoAAAACAAAAAgAAAAYAAAAHAAAAEgAAABcAAACbNAAAoxEAAAQAAAABAAAAAAAAAAIAAAAFAAAAAgAAAHkAAAAAAAAAAAAAAAUAAAAKAAAAUwIAAAEAAAAMAAAAAwAAAAAAAAATQQEAAwAAAAQAAAABAAAAAywCAKEAAACEAQAAuAUAAB0kAABCAwAAQ0YAAFIhAAAyBQAA+6UAABwAAAAVAAAAaCAAAA0AAAC9AAAASgAAACARAACujAAA7GAAAIYQAAC3AAAAZwAAAIILAACRBQAAlB0AAHMDAAAHIwAAnQEAAIkCAADyAwAARAQAALsAAAA6AQAAmQMAAAYAAAACAAAAPwAAAAcAAADodgIAMgEAAHQBAABLQgAA55MCALYFAADbhwAA7gAAANZOAADTAQAAsAAAABIFAABcAwAAAAAAAGcrAAB6vgAABwEAAFsZCACtdAIAJTYCAB9jAAAEIgAAKTAAAKLfAgC6DQAAJR0BACo3AAB/SgAAOBYAABIAAAAGAAAALYUAAIsMAAAKCgAArwsAAPYCAAB9GAAAWSoAANMCAAAnAQAAJRkAAFkAAAB8JQAAxAQAAAIAAACPBQAAfgoAAGeQAAA3AQAA5wIAADwDAAARAAAA5QMAABQEAACEFQUAPQAAAOMuAABDAAAAWAgAAPgKAACoPwAAwggAAPoPAAABAAAA9C4AABoBAAApAAAALQEAAFsAAADOWQAAAgAAAAAAAAD0CQAA9QAAADsBAABTDAAAviUAAF0UAAAUEgAAtHcAAAkAAAChIQAAngIAAKZNAACTWQMAjAIBAOLQAQCaZgAAsAIAAJgIAQB+7QUAvAUAAC8AAACZAQAAewAAAB0AAAB6AAAATQAAAJIlAACzBwAA2UUAAKwAAAB+AAAAugYAACtSAACmGwAAmQAAAFEFAADDkAEAigAAALfSAQC+QQAAmRMAAAAAAAB8BQAA4VwAAII3AABcDAAACEUAAH0AAABOAwAAfoQAAIoAAAAiAQAADQAAAAMRAACdcgAAdIwBAAAAAAD8JREALg4AAPPRAQAtCQAADAAAAKAAAABAAAAAJQAAAAAAAAAAAAAAbwAAAEIAAAB0AAAAoQAAAAgAAAAAAAAAAAAAACYAAAAsWwMAwR0AAGUGAAAOAAAA3hYAALKoAABMFgAAAAAAAG8IAADZDwAAJxYAAA==",
          "dtype": "i4"
         }
        }
       ],
       "layout": {
        "coloraxis": {
         "colorbar": {
          "title": {
           "text": "cases"
          }
         },
         "colorscale": [
          [
           0,
           "rgb(255,247,236)"
          ],
          [
           0.125,
           "rgb(254,232,200)"
          ],
          [
           0.25,
           "rgb(253,212,158)"
          ],
          [
           0.375,
           "rgb(253,187,132)"
          ],
          [
           0.5,
           "rgb(252,141,89)"
          ],
          [
           0.625,
           "rgb(239,101,72)"
          ],
          [
           0.75,
           "rgb(215,48,31)"
          ],
          [
           0.875,
           "rgb(179,0,0)"
          ],
          [
           1,
           "rgb(127,0,0)"
          ]
         ]
        },
        "geo": {
         "center": {},
         "domain": {
          "x": [
           0,
           1
          ],
          "y": [
           0,
           1
          ]
         }
        },
        "legend": {
         "tracegroupgap": 0
        },
        "template": {
         "data": {
          "bar": [
           {
            "error_x": {
             "color": "#2a3f5f"
            },
            "error_y": {
             "color": "#2a3f5f"
            },
            "marker": {
             "line": {
              "color": "#E5ECF6",
              "width": 0.5
             },
             "pattern": {
              "fillmode": "overlay",
              "size": 10,
              "solidity": 0.2
             }
            },
            "type": "bar"
           }
          ],
          "barpolar": [
           {
            "marker": {
             "line": {
              "color": "#E5ECF6",
              "width": 0.5
             },
             "pattern": {
              "fillmode": "overlay",
              "size": 10,
              "solidity": 0.2
             }
            },
            "type": "barpolar"
           }
          ],
          "carpet": [
           {
            "aaxis": {
             "endlinecolor": "#2a3f5f",
             "gridcolor": "white",
             "linecolor": "white",
             "minorgridcolor": "white",
             "startlinecolor": "#2a3f5f"
            },
            "baxis": {
             "endlinecolor": "#2a3f5f",
             "gridcolor": "white",
             "linecolor": "white",
             "minorgridcolor": "white",
             "startlinecolor": "#2a3f5f"
            },
            "type": "carpet"
           }
          ],
          "choropleth": [
           {
            "colorbar": {
             "outlinewidth": 0,
             "ticks": ""
            },
            "type": "choropleth"
           }
          ],
          "contour": [
           {
            "colorbar": {
             "outlinewidth": 0,
             "ticks": ""
            },
            "colorscale": [
             [
              0,
              "#0d0887"
             ],
             [
              0.1111111111111111,
              "#46039f"
             ],
             [
              0.2222222222222222,
              "#7201a8"
             ],
             [
              0.3333333333333333,
              "#9c179e"
             ],
             [
              0.4444444444444444,
              "#bd3786"
             ],
             [
              0.5555555555555556,
              "#d8576b"
             ],
             [
              0.6666666666666666,
              "#ed7953"
             ],
             [
              0.7777777777777778,
              "#fb9f3a"
             ],
             [
              0.8888888888888888,
              "#fdca26"
             ],
             [
              1,
              "#f0f921"
             ]
            ],
            "type": "contour"
           }
          ],
          "contourcarpet": [
           {
            "colorbar": {
             "outlinewidth": 0,
             "ticks": ""
            },
            "type": "contourcarpet"
           }
          ],
          "heatmap": [
           {
            "colorbar": {
             "outlinewidth": 0,
             "ticks": ""
            },
            "colorscale": [
             [
              0,
              "#0d0887"
             ],
             [
              0.1111111111111111,
              "#46039f"
             ],
             [
              0.2222222222222222,
              "#7201a8"
             ],
             [
              0.3333333333333333,
              "#9c179e"
             ],
             [
              0.4444444444444444,
              "#bd3786"
             ],
             [
              0.5555555555555556,
              "#d8576b"
             ],
             [
              0.6666666666666666,
              "#ed7953"
             ],
             [
              0.7777777777777778,
              "#fb9f3a"
             ],
             [
              0.8888888888888888,
              "#fdca26"
             ],
             [
              1,
              "#f0f921"
             ]
            ],
            "type": "heatmap"
           }
          ],
          "histogram": [
           {
            "marker": {
             "pattern": {
              "fillmode": "overlay",
              "size": 10,
              "solidity": 0.2
             }
            },
            "type": "histogram"
           }
          ],
          "histogram2d": [
           {
            "colorbar": {
             "outlinewidth": 0,
             "ticks": ""
            },
            "colorscale": [
             [
              0,
              "#0d0887"
             ],
             [
              0.1111111111111111,
              "#46039f"
             ],
             [
              0.2222222222222222,
              "#7201a8"
             ],
             [
              0.3333333333333333,
              "#9c179e"
             ],
             [
              0.4444444444444444,
              "#bd3786"
             ],
             [
              0.5555555555555556,
              "#d8576b"
             ],
             [
              0.6666666666666666,
              "#ed7953"
             ],
             [
              0.7777777777777778,
              "#fb9f3a"
             ],
             [
              0.8888888888888888,
              "#fdca26"
             ],
             [
              1,
              "#f0f921"
             ]
            ],
            "type": "histogram2d"
           }
          ],
          "histogram2dcontour": [
           {
            "colorbar": {
             "outlinewidth": 0,
             "ticks": ""
            },
            "colorscale": [
             [
              0,
              "#0d0887"
             ],
             [
              0.1111111111111111,
              "#46039f"
             ],
             [
              0.2222222222222222,
              "#7201a8"
             ],
             [
              0.3333333333333333,
              "#9c179e"
             ],
             [
              0.4444444444444444,
              "#bd3786"
             ],
             [
              0.5555555555555556,
              "#d8576b"
             ],
             [
              0.6666666666666666,
              "#ed7953"
             ],
             [
              0.7777777777777778,
              "#fb9f3a"
             ],
             [
              0.8888888888888888,
              "#fdca26"
             ],
             [
              1,
              "#f0f921"
             ]
            ],
            "type": "histogram2dcontour"
           }
          ],
          "mesh3d": [
           {
            "colorbar": {
             "outlinewidth": 0,
             "ticks": ""
            },
            "type": "mesh3d"
           }
          ],
          "parcoords": [
           {
            "line": {
             "colorbar": {
              "outlinewidth": 0,
              "ticks": ""
             }
            },
            "type": "parcoords"
           }
          ],
          "pie": [
           {
            "automargin": true,
            "type": "pie"
           }
          ],
          "scatter": [
           {
            "fillpattern": {
             "fillmode": "overlay",
             "size": 10,
             "solidity": 0.2
            },
            "type": "scatter"
           }
          ],
          "scatter3d": [
           {
            "line": {
             "colorbar": {
              "outlinewidth": 0,
              "ticks": ""
             }
            },
            "marker": {
             "colorbar": {
              "outlinewidth": 0,
              "ticks": ""
             }
            },
            "type": "scatter3d"
           }
          ],
          "scattercarpet": [
           {
            "marker": {
             "colorbar": {
              "outlinewidth": 0,
              "ticks": ""
             }
            },
            "type": "scattercarpet"
           }
          ],
          "scattergeo": [
           {
            "marker": {
             "colorbar": {
              "outlinewidth": 0,
              "ticks": ""
             }
            },
            "type": "scattergeo"
           }
          ],
          "scattergl": [
           {
            "marker": {
             "colorbar": {
              "outlinewidth": 0,
              "ticks": ""
             }
            },
            "type": "scattergl"
           }
          ],
          "scattermap": [
           {
            "marker": {
             "colorbar": {
              "outlinewidth": 0,
              "ticks": ""
             }
            },
            "type": "scattermap"
           }
          ],
          "scattermapbox": [
           {
            "marker": {
             "colorbar": {
              "outlinewidth": 0,
              "ticks": ""
             }
            },
            "type": "scattermapbox"
           }
          ],
          "scatterpolar": [
           {
            "marker": {
             "colorbar": {
              "outlinewidth": 0,
              "ticks": ""
             }
            },
            "type": "scatterpolar"
           }
          ],
          "scatterpolargl": [
           {
            "marker": {
             "colorbar": {
              "outlinewidth": 0,
              "ticks": ""
             }
            },
            "type": "scatterpolargl"
           }
          ],
          "scatterternary": [
           {
            "marker": {
             "colorbar": {
              "outlinewidth": 0,
              "ticks": ""
             }
            },
            "type": "scatterternary"
           }
          ],
          "surface": [
           {
            "colorbar": {
             "outlinewidth": 0,
             "ticks": ""
            },
            "colorscale": [
             [
              0,
              "#0d0887"
             ],
             [
              0.1111111111111111,
              "#46039f"
             ],
             [
              0.2222222222222222,
              "#7201a8"
             ],
             [
              0.3333333333333333,
              "#9c179e"
             ],
             [
              0.4444444444444444,
              "#bd3786"
             ],
             [
              0.5555555555555556,
              "#d8576b"
             ],
             [
              0.6666666666666666,
              "#ed7953"
             ],
             [
              0.7777777777777778,
              "#fb9f3a"
             ],
             [
              0.8888888888888888,
              "#fdca26"
             ],
             [
              1,
              "#f0f921"
             ]
            ],
            "type": "surface"
           }
          ],
          "table": [
           {
            "cells": {
             "fill": {
              "color": "#EBF0F8"
             },
             "line": {
              "color": "white"
             }
            },
            "header": {
             "fill": {
              "color": "#C8D4E3"
             },
             "line": {
              "color": "white"
             }
            },
            "type": "table"
           }
          ]
         },
         "layout": {
          "annotationdefaults": {
           "arrowcolor": "#2a3f5f",
           "arrowhead": 0,
           "arrowwidth": 1
          },
          "autotypenumbers": "strict",
          "coloraxis": {
           "colorbar": {
            "outlinewidth": 0,
            "ticks": ""
           }
          },
          "colorscale": {
           "diverging": [
            [
             0,
             "#8e0152"
            ],
            [
             0.1,
             "#c51b7d"
            ],
            [
             0.2,
             "#de77ae"
            ],
            [
             0.3,
             "#f1b6da"
            ],
            [
             0.4,
             "#fde0ef"
            ],
            [
             0.5,
             "#f7f7f7"
            ],
            [
             0.6,
             "#e6f5d0"
            ],
            [
             0.7,
             "#b8e186"
            ],
            [
             0.8,
             "#7fbc41"
            ],
            [
             0.9,
             "#4d9221"
            ],
            [
             1,
             "#276419"
            ]
           ],
           "sequential": [
            [
             0,
             "#0d0887"
            ],
            [
             0.1111111111111111,
             "#46039f"
            ],
            [
             0.2222222222222222,
             "#7201a8"
            ],
            [
             0.3333333333333333,
             "#9c179e"
            ],
            [
             0.4444444444444444,
             "#bd3786"
            ],
            [
             0.5555555555555556,
             "#d8576b"
            ],
            [
             0.6666666666666666,
             "#ed7953"
            ],
            [
             0.7777777777777778,
             "#fb9f3a"
            ],
            [
             0.8888888888888888,
             "#fdca26"
            ],
            [
             1,
             "#f0f921"
            ]
           ],
           "sequentialminus": [
            [
             0,
             "#0d0887"
            ],
            [
             0.1111111111111111,
             "#46039f"
            ],
            [
             0.2222222222222222,
             "#7201a8"
            ],
            [
             0.3333333333333333,
             "#9c179e"
            ],
            [
             0.4444444444444444,
             "#bd3786"
            ],
            [
             0.5555555555555556,
             "#d8576b"
            ],
            [
             0.6666666666666666,
             "#ed7953"
            ],
            [
             0.7777777777777778,
             "#fb9f3a"
            ],
            [
             0.8888888888888888,
             "#fdca26"
            ],
            [
             1,
             "#f0f921"
            ]
           ]
          },
          "colorway": [
           "#636efa",
           "#EF553B",
           "#00cc96",
           "#ab63fa",
           "#FFA15A",
           "#19d3f3",
           "#FF6692",
           "#B6E880",
           "#FF97FF",
           "#FECB52"
          ],
          "font": {
           "color": "#2a3f5f"
          },
          "geo": {
           "bgcolor": "white",
           "lakecolor": "white",
           "landcolor": "#E5ECF6",
           "showlakes": true,
           "showland": true,
           "subunitcolor": "white"
          },
          "hoverlabel": {
           "align": "left"
          },
          "hovermode": "closest",
          "mapbox": {
           "style": "light"
          },
          "paper_bgcolor": "white",
          "plot_bgcolor": "#E5ECF6",
          "polar": {
           "angularaxis": {
            "gridcolor": "white",
            "linecolor": "white",
            "ticks": ""
           },
           "bgcolor": "#E5ECF6",
           "radialaxis": {
            "gridcolor": "white",
            "linecolor": "white",
            "ticks": ""
           }
          },
          "scene": {
           "xaxis": {
            "backgroundcolor": "#E5ECF6",
            "gridcolor": "white",
            "gridwidth": 2,
            "linecolor": "white",
            "showbackground": true,
            "ticks": "",
            "zerolinecolor": "white"
           },
           "yaxis": {
            "backgroundcolor": "#E5ECF6",
            "gridcolor": "white",
            "gridwidth": 2,
            "linecolor": "white",
            "showbackground": true,
            "ticks": "",
            "zerolinecolor": "white"
           },
           "zaxis": {
            "backgroundcolor": "#E5ECF6",
            "gridcolor": "white",
            "gridwidth": 2,
            "linecolor": "white",
            "showbackground": true,
            "ticks": "",
            "zerolinecolor": "white"
           }
          },
          "shapedefaults": {
           "line": {
            "color": "#2a3f5f"
           }
          },
          "ternary": {
           "aaxis": {
            "gridcolor": "white",
            "linecolor": "white",
            "ticks": ""
           },
           "baxis": {
            "gridcolor": "white",
            "linecolor": "white",
            "ticks": ""
           },
           "bgcolor": "#E5ECF6",
           "caxis": {
            "gridcolor": "white",
            "linecolor": "white",
            "ticks": ""
           }
          },
          "title": {
           "x": 0.05
          },
          "xaxis": {
           "automargin": true,
           "gridcolor": "white",
           "linecolor": "white",
           "ticks": "",
           "title": {
            "standoff": 15
           },
           "zerolinecolor": "white",
           "zerolinewidth": 2
          },
          "yaxis": {
           "automargin": true,
           "gridcolor": "white",
           "linecolor": "white",
           "ticks": "",
           "title": {
            "standoff": 15
           },
           "zerolinecolor": "white",
           "zerolinewidth": 2
          }
         }
        },
        "title": {
         "text": "Global COVID-19 Cases"
        }
       }
      }
     },
     "metadata": {},
     "output_type": "display_data"
    }
   ],
   "source": [
    "# Latest data by country\n",
    "latest_data = df_melted[df_melted['date'] == df_melted['date'].max()]\n",
    "# Ensure the 'iso_code' column exists or use 'location' for mapping\n",
    "map_data = latest_data[['location', 'cases']].dropna()\n",
    "\n",
    "import plotly.express as px\n",
    "fig = px.choropleth(map_data,\n",
    "                    locations=\"location\",         # Use location names for mapping\n",
    "                    locationmode=\"country names\", # Specify that locations are country names\n",
    "                    color=\"cases\",\n",
    "                    hover_name=\"location\",\n",
    "                    title=\"Global COVID-19 Cases\",\n",
    "                    color_continuous_scale=\"OrRd\")\n",
    "fig.show()\n",
    "# Save the final dataframe to a CSV file\n",
    "df_filtered.to_csv('covid19_analysis.csv', index=False)"
   ]
  }
 ],
 "metadata": {
  "kernelspec": {
   "display_name": "Python 3",
   "language": "python",
   "name": "python3"
  },
  "language_info": {
   "codemirror_mode": {
    "name": "ipython",
    "version": 3
   },
   "file_extension": ".py",
   "mimetype": "text/x-python",
   "name": "python",
   "nbconvert_exporter": "python",
   "pygments_lexer": "ipython3",
   "version": "3.12.0"
  }
 },
 "nbformat": 4,
 "nbformat_minor": 5
}
